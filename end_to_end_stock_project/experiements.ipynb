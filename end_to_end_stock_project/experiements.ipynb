{
 "cells": [
  {
   "cell_type": "markdown",
   "metadata": {},
   "source": [
    "<h1 align=center>Stock Analysis</h1>\n"
   ]
  },
  {
   "cell_type": "markdown",
   "metadata": {},
   "source": [
    "### `Points`:\n",
    "\n",
    "- For 3 months to 1 year, you get a balanced view that works for both short-term traders and AI-based market predictions.\n",
    "\n",
    "- Longer durations (1+ years) are better suited for long-term investors or deeper historical trend analysis.\n"
   ]
  },
  {
   "cell_type": "markdown",
   "metadata": {},
   "source": [
    "### Tools\n",
    "\n",
    "1. fetch data from yahoo finance for 12 months, cause we want short term trading\n"
   ]
  },
  {
   "cell_type": "code",
   "execution_count": null,
   "metadata": {},
   "outputs": [],
   "source": [
    "# tool: fetch stock price\n",
    "\n",
    "from typing import Union, Dict\n",
    "import datetime as dt\n",
    "import yfinance as yf\n",
    "import pandas as pd\n",
    "\n",
    "\n",
    "def get_stock_prices(ticker: str) -> Union[Dict, str]:\n",
    "    \"\"\"Fetches historical stock price data and technical indicators for a given ticker.\"\"\"\n",
    "    try:\n",
    "        data = yf.download(\n",
    "            ticker,\n",
    "            start=dt.datetime.now() - dt.timedelta(weeks=48),\n",
    "            end=dt.datetime.now(),\n",
    "            interval='1wk'\n",
    "        )\n",
    "\n",
    "        return data\n",
    "\n",
    "    except Exception as e:\n",
    "        return f\"Error fetching price data: {str(e)}\""
   ]
  },
  {
   "cell_type": "code",
   "execution_count": 124,
   "metadata": {},
   "outputs": [
    {
     "name": "stderr",
     "output_type": "stream",
     "text": [
      "[*********************100%***********************]  1 of 1 completed\n"
     ]
    },
    {
     "data": {
      "text/html": [
       "<div>\n",
       "<style scoped>\n",
       "    .dataframe tbody tr th:only-of-type {\n",
       "        vertical-align: middle;\n",
       "    }\n",
       "\n",
       "    .dataframe tbody tr th {\n",
       "        vertical-align: top;\n",
       "    }\n",
       "\n",
       "    .dataframe thead tr th {\n",
       "        text-align: left;\n",
       "    }\n",
       "\n",
       "    .dataframe thead tr:last-of-type th {\n",
       "        text-align: right;\n",
       "    }\n",
       "</style>\n",
       "<table border=\"1\" class=\"dataframe\">\n",
       "  <thead>\n",
       "    <tr>\n",
       "      <th>Price</th>\n",
       "      <th>Close</th>\n",
       "      <th>High</th>\n",
       "      <th>Low</th>\n",
       "      <th>Open</th>\n",
       "      <th>Volume</th>\n",
       "    </tr>\n",
       "    <tr>\n",
       "      <th>Ticker</th>\n",
       "      <th>AAPL</th>\n",
       "      <th>AAPL</th>\n",
       "      <th>AAPL</th>\n",
       "      <th>AAPL</th>\n",
       "      <th>AAPL</th>\n",
       "    </tr>\n",
       "    <tr>\n",
       "      <th>Date</th>\n",
       "      <th></th>\n",
       "      <th></th>\n",
       "      <th></th>\n",
       "      <th></th>\n",
       "      <th></th>\n",
       "    </tr>\n",
       "  </thead>\n",
       "  <tbody>\n",
       "    <tr>\n",
       "      <th>2024-05-20</th>\n",
       "      <td>189.343628</td>\n",
       "      <td>192.174126</td>\n",
       "      <td>186.004858</td>\n",
       "      <td>188.695811</td>\n",
       "      <td>208619700</td>\n",
       "    </tr>\n",
       "    <tr>\n",
       "      <th>2024-05-27</th>\n",
       "      <td>191.606033</td>\n",
       "      <td>192.353521</td>\n",
       "      <td>188.466591</td>\n",
       "      <td>190.868507</td>\n",
       "      <td>230454300</td>\n",
       "    </tr>\n",
       "    <tr>\n",
       "      <th>2024-06-03</th>\n",
       "      <td>196.230484</td>\n",
       "      <td>196.280320</td>\n",
       "      <td>191.875127</td>\n",
       "      <td>192.253844</td>\n",
       "      <td>245994400</td>\n",
       "    </tr>\n",
       "    <tr>\n",
       "      <th>2024-06-10</th>\n",
       "      <td>211.778229</td>\n",
       "      <td>219.462394</td>\n",
       "      <td>191.506350</td>\n",
       "      <td>196.240439</td>\n",
       "      <td>635755100</td>\n",
       "    </tr>\n",
       "    <tr>\n",
       "      <th>2024-06-17</th>\n",
       "      <td>206.794998</td>\n",
       "      <td>218.216603</td>\n",
       "      <td>206.416266</td>\n",
       "      <td>212.655292</td>\n",
       "      <td>506265500</td>\n",
       "    </tr>\n",
       "  </tbody>\n",
       "</table>\n",
       "</div>"
      ],
      "text/plain": [
       "Price            Close        High         Low        Open     Volume\n",
       "Ticker            AAPL        AAPL        AAPL        AAPL       AAPL\n",
       "Date                                                                 \n",
       "2024-05-20  189.343628  192.174126  186.004858  188.695811  208619700\n",
       "2024-05-27  191.606033  192.353521  188.466591  190.868507  230454300\n",
       "2024-06-03  196.230484  196.280320  191.875127  192.253844  245994400\n",
       "2024-06-10  211.778229  219.462394  191.506350  196.240439  635755100\n",
       "2024-06-17  206.794998  218.216603  206.416266  212.655292  506265500"
      ]
     },
     "execution_count": 124,
     "metadata": {},
     "output_type": "execute_result"
    }
   ],
   "source": [
    "ticker = \"AAPL\"  # Example: Apple Inc.\n",
    "\n",
    "# Fetch historical data (e.g., past 3 months)\n",
    "data = get_stock_prices(ticker)\n",
    "\n",
    "# Display the fetched data\n",
    "data.head()"
   ]
  },
  {
   "cell_type": "code",
   "execution_count": 125,
   "metadata": {},
   "outputs": [
    {
     "data": {
      "text/plain": [
       "Date\n",
       "2024-05-20    189.343628\n",
       "2024-05-27    191.606033\n",
       "2024-06-03    196.230484\n",
       "2024-06-10    211.778229\n",
       "2024-06-17    206.794998\n",
       "2024-06-24    209.914490\n",
       "2024-07-01    225.581833\n",
       "2024-07-08    229.767761\n",
       "2024-07-15    223.558640\n",
       "2024-07-22    217.229904\n",
       "2024-07-29    219.123550\n",
       "2024-08-05    215.515686\n",
       "2024-08-12    225.292816\n",
       "2024-08-19    226.341843\n",
       "2024-08-26    228.497101\n",
       "2024-09-02    220.335068\n",
       "2024-09-09    222.011368\n",
       "2024-09-16    227.698853\n",
       "2024-09-23    227.289749\n",
       "2024-09-30    226.301941\n",
       "2024-10-07    227.050293\n",
       "2024-10-14    234.483932\n",
       "2024-10-21    230.901810\n",
       "2024-10-28    222.420486\n",
       "2024-11-04    226.461594\n",
       "2024-11-11    224.752884\n",
       "2024-11-18    229.617538\n",
       "2024-11-25    237.069351\n",
       "2024-12-02    242.573288\n",
       "2024-12-09    247.857483\n",
       "2024-12-16    254.210510\n",
       "2024-12-23    255.309296\n",
       "2024-12-30    243.092728\n",
       "2025-01-06    236.589874\n",
       "2025-01-13    229.727417\n",
       "2025-01-20    222.535324\n",
       "2025-01-27    235.740814\n",
       "2025-02-03    227.380005\n",
       "2025-02-10    244.331375\n",
       "2025-02-17    245.550003\n",
       "2025-02-24    241.839996\n",
       "2025-03-03    239.070007\n",
       "2025-03-10    213.490005\n",
       "2025-03-17    218.270004\n",
       "2025-03-24    217.899994\n",
       "2025-03-31    188.380005\n",
       "2025-04-07    198.149994\n",
       "2025-04-14    196.979996\n",
       "2025-04-21    192.729996\n",
       "Name: AAPL, dtype: float64"
      ]
     },
     "execution_count": 125,
     "metadata": {},
     "output_type": "execute_result"
    }
   ],
   "source": [
    "data[\"Close\"].squeeze()"
   ]
  },
  {
   "cell_type": "code",
   "execution_count": null,
   "metadata": {},
   "outputs": [],
   "source": [
    "from ta.momentum import RSIIndicator, StochasticOscillator\n",
    "from ta.trend import SMAIndicator, EMAIndicator, MACD\n",
    "from ta.volume import volume_weighted_average_price\n",
    "\n",
    "indicators = {}"
   ]
  },
  {
   "cell_type": "code",
   "execution_count": 141,
   "metadata": {},
   "outputs": [],
   "source": [
    "data.reset_index(inplace=True)\n",
    "data['Date'] = data['Date'].astype(str)"
   ]
  },
  {
   "cell_type": "code",
   "execution_count": null,
   "metadata": {},
   "outputs": [],
   "source": [
    "rsi_series = RSIIndicator(data['Close'].squeeze(), window=14).rsi().iloc[-12:]\n",
    "indicators[\"RSI\"] = dict(\n",
    "    zip(data['Date'].iloc[-12:], map(lambda x: round(x, 2), rsi_series)))"
   ]
  },
  {
   "cell_type": "code",
   "execution_count": 143,
   "metadata": {},
   "outputs": [
    {
     "data": {
      "text/plain": [
       "{'2025-02-03': 48.59,\n",
       " '2025-02-10': 57.86,\n",
       " '2025-02-17': 58.44,\n",
       " '2025-02-24': 55.92,\n",
       " '2025-03-03': 54.04,\n",
       " '2025-03-10': 40.51,\n",
       " '2025-03-17': 43.37,\n",
       " '2025-03-24': 43.19,\n",
       " '2025-03-31': 32.18,\n",
       " '2025-04-07': 37.83,\n",
       " '2025-04-14': 37.43,\n",
       " '2025-04-21': 35.93}"
      ]
     },
     "execution_count": 143,
     "metadata": {},
     "output_type": "execute_result"
    }
   ],
   "source": [
    "indicators[\"RSI\"]"
   ]
  },
  {
   "cell_type": "code",
   "execution_count": null,
   "metadata": {},
   "outputs": [
    {
     "data": {
      "text/plain": [
       "41    49.000128\n",
       "42     9.864911\n",
       "43    19.165541\n",
       "44    18.445598\n",
       "45     1.578603\n",
       "46    35.821252\n",
       "47    34.373055\n",
       "48    29.112503\n",
       "Name: stoch_k, dtype: float64"
      ]
     },
     "execution_count": 144,
     "metadata": {},
     "output_type": "execute_result"
    }
   ],
   "source": [
    "StochasticOscillator(data['High'].squeeze(), data['Low'].squeeze(\n",
    "), data['Close'].squeeze(), window=14).stoch().iloc[-8:]"
   ]
  },
  {
   "cell_type": "code",
   "execution_count": null,
   "metadata": {},
   "outputs": [],
   "source": [
    "sto_series = StochasticOscillator(data['High'].squeeze(), data['Low'].squeeze(\n",
    "), data['Close'].squeeze(), window=14).stoch().iloc[-12:]\n",
    "indicators[\"Stochastic_Oscillator\"] = dict(\n",
    "    zip(data['Date'].iloc[-12:], map(lambda x: round(x, 2), sto_series)))"
   ]
  },
  {
   "cell_type": "code",
   "execution_count": 146,
   "metadata": {},
   "outputs": [
    {
     "data": {
      "text/plain": [
       "{'2025-02-03': 20.26,\n",
       " '2025-02-10': 61.94,\n",
       " '2025-02-17': 64.93,\n",
       " '2025-02-24': 55.81,\n",
       " '2025-03-03': 49.0,\n",
       " '2025-03-10': 9.86,\n",
       " '2025-03-17': 19.17,\n",
       " '2025-03-24': 18.45,\n",
       " '2025-03-31': 1.58,\n",
       " '2025-04-07': 35.82,\n",
       " '2025-04-14': 34.37,\n",
       " '2025-04-21': 29.11}"
      ]
     },
     "execution_count": 146,
     "metadata": {},
     "output_type": "execute_result"
    }
   ],
   "source": [
    "indicators[\"Stochastic_Oscillator\"]"
   ]
  },
  {
   "cell_type": "code",
   "execution_count": null,
   "metadata": {},
   "outputs": [],
   "source": [
    "macd = MACD(data['Close'].squeeze())\n",
    "macd_series = macd.macd().iloc[-12:]\n",
    "indicators[\"MACD\"] = dict(\n",
    "    zip(data['Date'].iloc[-12:], map(lambda x: round(x, 2), macd_series)))"
   ]
  },
  {
   "cell_type": "code",
   "execution_count": 148,
   "metadata": {},
   "outputs": [
    {
     "data": {
      "text/plain": [
       "{'2025-02-03': 4.22,\n",
       " '2025-02-10': 4.71,\n",
       " '2025-02-17': 5.15,\n",
       " '2025-02-24': 5.13,\n",
       " '2025-03-03': 4.84,\n",
       " '2025-03-10': 2.52,\n",
       " '2025-03-17': 1.05,\n",
       " '2025-03-24': -0.14,\n",
       " '2025-03-31': -3.43,\n",
       " '2025-04-07': -5.19,\n",
       " '2025-04-14': -6.6,\n",
       " '2025-04-21': -7.97}"
      ]
     },
     "execution_count": 148,
     "metadata": {},
     "output_type": "execute_result"
    }
   ],
   "source": [
    "indicators[\"MACD\"]"
   ]
  },
  {
   "cell_type": "code",
   "execution_count": null,
   "metadata": {},
   "outputs": [],
   "source": [
    "macd_signal_series = macd.macd_signal().iloc[-12:]\n",
    "indicators[\"MACD_Signal\"] = dict(\n",
    "    zip(data['Date'].iloc[-12:], map(lambda x: round(x, 2), macd_signal_series)))"
   ]
  },
  {
   "cell_type": "code",
   "execution_count": 150,
   "metadata": {},
   "outputs": [
    {
     "data": {
      "text/plain": [
       "{'2025-02-03': 6.6,\n",
       " '2025-02-10': 6.23,\n",
       " '2025-02-17': 6.01,\n",
       " '2025-02-24': 5.83,\n",
       " '2025-03-03': 5.64,\n",
       " '2025-03-10': 5.01,\n",
       " '2025-03-17': 4.22,\n",
       " '2025-03-24': 3.35,\n",
       " '2025-03-31': 1.99,\n",
       " '2025-04-07': 0.56,\n",
       " '2025-04-14': -0.88,\n",
       " '2025-04-21': -2.29}"
      ]
     },
     "execution_count": 150,
     "metadata": {},
     "output_type": "execute_result"
    }
   ],
   "source": [
    "indicators[\"MACD_Signal\"]"
   ]
  },
  {
   "cell_type": "code",
   "execution_count": null,
   "metadata": {},
   "outputs": [],
   "source": [
    "vwap_series = volume_weighted_average_price(\n",
    "    data['High'].squeeze(), data['Low'].squeeze(), data['Close'].squeeze(), volume=data['Volume'].squeeze()\n",
    ").iloc[-12:]\n",
    "indicators[\"vwap\"] = dict(\n",
    "    zip(data['Date'].iloc[-12:], map(lambda x: round(x, 2), vwap_series)))"
   ]
  },
  {
   "cell_type": "code",
   "execution_count": 154,
   "metadata": {},
   "outputs": [
    {
     "data": {
      "text/plain": [
       "{'2025-02-03': 236.18,\n",
       " '2025-02-10': 237.1,\n",
       " '2025-02-17': 238.39,\n",
       " '2025-02-24': 239.17,\n",
       " '2025-03-03': 239.31,\n",
       " '2025-03-10': 237.25,\n",
       " '2025-03-17': 234.96,\n",
       " '2025-03-24': 232.28,\n",
       " '2025-03-31': 228.11,\n",
       " '2025-04-07': 220.9,\n",
       " '2025-04-14': 218.82,\n",
       " '2025-04-21': 217.88}"
      ]
     },
     "execution_count": 154,
     "metadata": {},
     "output_type": "execute_result"
    }
   ],
   "source": [
    "indicators[\"vwap\"]"
   ]
  },
  {
   "cell_type": "code",
   "execution_count": 173,
   "metadata": {},
   "outputs": [],
   "source": [
    "# tool: fetch stock price\n",
    "\n",
    "from typing import Union, Dict\n",
    "import datetime as dt\n",
    "import pandas as pd\n",
    "import yfinance as yf\n",
    "from ta.momentum import RSIIndicator, StochasticOscillator\n",
    "from ta.trend import MACD\n",
    "from ta.volume import volume_weighted_average_price\n",
    "from langchain_core.tools import tool\n",
    "\n",
    "\n",
    "@tool\n",
    "def get_stock_prices(ticker: str) -> Union[Dict, str]:\n",
    "    \"\"\"Fetches historical stock price data and technical indicators for a given ticker.\"\"\"\n",
    "    try:\n",
    "        data = yf.download(\n",
    "            ticker,\n",
    "            start=dt.datetime.now() - dt.timedelta(weeks=12),\n",
    "            end=dt.datetime.now(),\n",
    "            interval='1wk'\n",
    "        )\n",
    "\n",
    "        if data.empty:\n",
    "            return f\"No data found for ticker: {ticker}\"\n",
    "\n",
    "        # reset index so we can access 'Date' as a column\n",
    "        data.reset_index(inplace=True)\n",
    "        data['Date'] = data['Date'].astype(str)\n",
    "\n",
    "        # Technical Indicators - computed on closing prices\n",
    "        indicators = {}\n",
    "\n",
    "        # RSI detects overbought/oversold conditions\n",
    "        # Show last 12 weeks of indicators for a 3-month span\n",
    "        rsi_series = RSIIndicator(\n",
    "            data['Close'].squeeze(), window=14).rsi().iloc[-12:]\n",
    "        indicators[\"RSI\"] = dict(\n",
    "            zip(data['Date'].iloc[-12:], map(lambda x: round(x, 2), rsi_series)))\n",
    "\n",
    "        # Compares current price to a range of previous prices\n",
    "        # Another momentum indicator — complements RSI\n",
    "        sto_series = StochasticOscillator(data['High'].squeeze(), data['Low'].squeeze(\n",
    "        ), data['Close'].squeeze(), window=14).stoch().iloc[-12:]\n",
    "        indicators[\"Stochastic_Oscillator\"] = dict(\n",
    "            zip(data['Date'].iloc[-12:], map(lambda x: round(x, 2), sto_series)))\n",
    "\n",
    "        # MACD is a trend-following indicator (difference of two EMAs)\n",
    "        # Useful for spotting trend reversals\n",
    "        macd = MACD(data['Close'].squeeze())\n",
    "        macd_series = macd.macd().iloc[-12:]\n",
    "        indicators[\"MACD\"] = dict(\n",
    "            zip(data['Date'].iloc[-12:], map(lambda x: round(x, 2), macd_series)))\n",
    "\n",
    "        # Signal line is a smoothed version of MACD used to generate buy/sell signals\n",
    "        macd_signal_series = macd.macd_signal().iloc[-12:]\n",
    "        indicators[\"MACD_Signal\"] = dict(\n",
    "            zip(data['Date'].iloc[-12:], map(lambda x: round(x, 2), macd_signal_series)))\n",
    "\n",
    "        # VWAP helps traders understand average price based on volume\n",
    "        # Commonly used by institutions to assess fair value\n",
    "        vwap_series = volume_weighted_average_price(\n",
    "            data['High'].squeeze(), data['Low'].squeeze(), data['Close'].squeeze(), volume=data['Volume'].squeeze()\n",
    "        ).iloc[-12:]\n",
    "        indicators[\"vwap\"] = dict(\n",
    "            zip(data['Date'].iloc[-12:], map(lambda x: round(x, 2), vwap_series)))\n",
    "\n",
    "        return {\n",
    "            'stock_price': data.to_dict(orient='records'),\n",
    "            'indicators': indicators\n",
    "        }\n",
    "\n",
    "    except Exception as e:\n",
    "        return f\"Error fetching price data: {str(e)}\""
   ]
  },
  {
   "cell_type": "code",
   "execution_count": 167,
   "metadata": {},
   "outputs": [
    {
     "name": "stderr",
     "output_type": "stream",
     "text": [
      "C:\\Users\\44787\\AppData\\Local\\Temp\\ipykernel_30476\\3750346389.py:4: LangChainDeprecationWarning: The method `BaseTool.__call__` was deprecated in langchain-core 0.1.47 and will be removed in 1.0. Use :meth:`~invoke` instead.\n",
      "  stock_data = get_stock_prices(ticker)\n",
      "[*********************100%***********************]  1 of 1 completed\n"
     ]
    }
   ],
   "source": [
    "ticker = \"AAPL\"  # Example: Apple Inc.\n",
    "\n",
    "# Fetch historical data (e.g., past 3 months)\n",
    "stock_data = get_stock_prices(ticker)"
   ]
  },
  {
   "cell_type": "code",
   "execution_count": 168,
   "metadata": {},
   "outputs": [
    {
     "data": {
      "text/plain": [
       "{'stock_price': [{('Date', ''): '2025-01-27',\n",
       "   ('Close', 'AAPL'): 235.74081420898438,\n",
       "   ('High', 'AAPL'): 246.91852728753366,\n",
       "   ('Low', 'AAPL'): 223.73401084463939,\n",
       "   ('Open', 'AAPL'): 223.77397545038176,\n",
       "   ('Volume', 'AAPL'): 372790500},\n",
       "  {('Date', ''): '2025-02-03',\n",
       "   ('Close', 'AAPL'): 227.3800048828125,\n",
       "   ('High', 'AAPL'): 233.74300400322835,\n",
       "   ('Low', 'AAPL'): 225.45211662479315,\n",
       "   ('Open', 'AAPL'): 229.73741356705622,\n",
       "   ('Volume', 'AAPL'): 227383400},\n",
       "  {('Date', ''): '2025-02-10',\n",
       "   ('Close', 'AAPL'): 244.3313751220703,\n",
       "   ('High', 'AAPL'): 245.2803287399519,\n",
       "   ('Low', 'AAPL'): 226.95047545747516,\n",
       "   ('Open', 'AAPL'): 229.3178829790059,\n",
       "   ('Volume', 'AAPL'): 226587600},\n",
       "  {('Date', ''): '2025-02-17',\n",
       "   ('Close', 'AAPL'): 245.5500030517578,\n",
       "   ('High', 'AAPL'): 248.69000244140625,\n",
       "   ('Low', 'AAPL'): 241.83999633789062,\n",
       "   ('Open', 'AAPL'): 244.14999389648438,\n",
       "   ('Volume', 'AAPL'): 166541000},\n",
       "  {('Date', ''): '2025-02-24',\n",
       "   ('Close', 'AAPL'): 241.83999633789062,\n",
       "   ('High', 'AAPL'): 250.0,\n",
       "   ('Low', 'AAPL'): 230.1999969482422,\n",
       "   ('Open', 'AAPL'): 244.92999267578125,\n",
       "   ('Volume', 'AAPL'): 241760300},\n",
       "  {('Date', ''): '2025-03-03',\n",
       "   ('Close', 'AAPL'): 239.07000732421875,\n",
       "   ('High', 'AAPL'): 244.02999877929688,\n",
       "   ('Low', 'AAPL'): 229.22999572753906,\n",
       "   ('Open', 'AAPL'): 241.7899932861328,\n",
       "   ('Volume', 'AAPL'): 239653700},\n",
       "  {('Date', ''): '2025-03-10',\n",
       "   ('Close', 'AAPL'): 213.49000549316406,\n",
       "   ('High', 'AAPL'): 236.16000366210938,\n",
       "   ('Low', 'AAPL'): 208.4199981689453,\n",
       "   ('Open', 'AAPL'): 235.5399932861328,\n",
       "   ('Volume', 'AAPL'): 332232000},\n",
       "  {('Date', ''): '2025-03-17',\n",
       "   ('Close', 'AAPL'): 218.27000427246094,\n",
       "   ('High', 'AAPL'): 218.83999633789062,\n",
       "   ('Low', 'AAPL'): 209.97000122070312,\n",
       "   ('Open', 'AAPL'): 213.30999755859375,\n",
       "   ('Volume', 'AAPL'): 287881900},\n",
       "  {('Date', ''): '2025-03-24',\n",
       "   ('Close', 'AAPL'): 217.89999389648438,\n",
       "   ('High', 'AAPL'): 225.02000427246094,\n",
       "   ('Low', 'AAPL'): 217.67999267578125,\n",
       "   ('Open', 'AAPL'): 221.0,\n",
       "   ('Volume', 'AAPL'): 190172600},\n",
       "  {('Date', ''): '2025-03-31',\n",
       "   ('Close', 'AAPL'): 188.3800048828125,\n",
       "   ('High', 'AAPL'): 225.6199951171875,\n",
       "   ('Low', 'AAPL'): 187.33999633789062,\n",
       "   ('Open', 'AAPL'): 217.00999450683594,\n",
       "   ('Volume', 'AAPL'): 366947800},\n",
       "  {('Date', ''): '2025-04-07',\n",
       "   ('Close', 'AAPL'): 198.14999389648438,\n",
       "   ('High', 'AAPL'): 200.61000061035156,\n",
       "   ('Low', 'AAPL'): 169.2100067138672,\n",
       "   ('Open', 'AAPL'): 177.1999969482422,\n",
       "   ('Volume', 'AAPL'): 675037600},\n",
       "  {('Date', ''): '2025-04-14',\n",
       "   ('Close', 'AAPL'): 196.97999572753906,\n",
       "   ('High', 'AAPL'): 212.94000244140625,\n",
       "   ('Low', 'AAPL'): 192.3699951171875,\n",
       "   ('Open', 'AAPL'): 211.44000244140625,\n",
       "   ('Volume', 'AAPL'): 263763500},\n",
       "  {('Date', ''): '2025-04-21',\n",
       "   ('Close', 'AAPL'): 193.08999633789062,\n",
       "   ('High', 'AAPL'): 193.8000030517578,\n",
       "   ('Low', 'AAPL'): 192.3800048828125,\n",
       "   ('Open', 'AAPL'): 193.26499938964844,\n",
       "   ('Volume', 'AAPL'): 4842614}],\n",
       " 'indicators': {'RSI': {'2025-02-03': nan,\n",
       "   '2025-02-10': nan,\n",
       "   '2025-02-17': nan,\n",
       "   '2025-02-24': nan,\n",
       "   '2025-03-03': nan,\n",
       "   '2025-03-10': nan,\n",
       "   '2025-03-17': nan,\n",
       "   '2025-03-24': nan,\n",
       "   '2025-03-31': nan,\n",
       "   '2025-04-07': nan,\n",
       "   '2025-04-14': nan,\n",
       "   '2025-04-21': nan},\n",
       "  'Stochastic_Oscillator': {'2025-02-03': nan,\n",
       "   '2025-02-10': nan,\n",
       "   '2025-02-17': nan,\n",
       "   '2025-02-24': nan,\n",
       "   '2025-03-03': nan,\n",
       "   '2025-03-10': nan,\n",
       "   '2025-03-17': nan,\n",
       "   '2025-03-24': nan,\n",
       "   '2025-03-31': nan,\n",
       "   '2025-04-07': nan,\n",
       "   '2025-04-14': nan,\n",
       "   '2025-04-21': nan},\n",
       "  'MACD': {'2025-02-03': nan,\n",
       "   '2025-02-10': nan,\n",
       "   '2025-02-17': nan,\n",
       "   '2025-02-24': nan,\n",
       "   '2025-03-03': nan,\n",
       "   '2025-03-10': nan,\n",
       "   '2025-03-17': nan,\n",
       "   '2025-03-24': nan,\n",
       "   '2025-03-31': nan,\n",
       "   '2025-04-07': nan,\n",
       "   '2025-04-14': nan,\n",
       "   '2025-04-21': nan},\n",
       "  'MACD_Signal': {'2025-02-03': nan,\n",
       "   '2025-02-10': nan,\n",
       "   '2025-02-17': nan,\n",
       "   '2025-02-24': nan,\n",
       "   '2025-03-03': nan,\n",
       "   '2025-03-10': nan,\n",
       "   '2025-03-17': nan,\n",
       "   '2025-03-24': nan,\n",
       "   '2025-03-31': nan,\n",
       "   '2025-04-07': nan,\n",
       "   '2025-04-14': nan,\n",
       "   '2025-04-21': nan},\n",
       "  'vwap': {'2025-02-03': nan,\n",
       "   '2025-02-10': nan,\n",
       "   '2025-02-17': nan,\n",
       "   '2025-02-24': nan,\n",
       "   '2025-03-03': nan,\n",
       "   '2025-03-10': nan,\n",
       "   '2025-03-17': nan,\n",
       "   '2025-03-24': nan,\n",
       "   '2025-03-31': nan,\n",
       "   '2025-04-07': nan,\n",
       "   '2025-04-14': nan,\n",
       "   '2025-04-21': nan}}}"
      ]
     },
     "execution_count": 168,
     "metadata": {},
     "output_type": "execute_result"
    }
   ],
   "source": [
    "stock_data"
   ]
  },
  {
   "cell_type": "markdown",
   "metadata": {},
   "source": [
    "2. Retrive financial health ratio\n",
    "\n",
    "```\n",
    "Metric            | Meaning\n",
    "pe_ratio          | Price-to-Earnings (valuation)\n",
    "price_to_book     | Valuation based on book value\n",
    "debt_to_equity    | Leverage/solvency ratio\n",
    "profit_margins    | Net income as % of revenue\n",
    "return_on_equity  | Efficiency of shareholder equity\n",
    "return_on_assets  | Profitability relative to assets\n",
    "current_ratio     | Short-term liquidity\n",
    "quick_ratio       | Liquidity without inventory\n",
    "gross_margins     | Efficiency at core product level\n",
    "operating_margins | Profitability from operations\n",
    "```"
   ]
  },
  {
   "cell_type": "code",
   "execution_count": 171,
   "metadata": {},
   "outputs": [
    {
     "data": {
      "text/plain": [
       "{'address1': 'One Apple Park Way',\n",
       " 'city': 'Cupertino',\n",
       " 'state': 'CA',\n",
       " 'zip': '95014',\n",
       " 'country': 'United States',\n",
       " 'phone': '(408) 996-1010',\n",
       " 'website': 'https://www.apple.com',\n",
       " 'industry': 'Consumer Electronics',\n",
       " 'industryKey': 'consumer-electronics',\n",
       " 'industryDisp': 'Consumer Electronics',\n",
       " 'sector': 'Technology',\n",
       " 'sectorKey': 'technology',\n",
       " 'sectorDisp': 'Technology',\n",
       " 'longBusinessSummary': 'Apple Inc. designs, manufactures, and markets smartphones, personal computers, tablets, wearables, and accessories worldwide. The company offers iPhone, a line of smartphones; Mac, a line of personal computers; iPad, a line of multi-purpose tablets; and wearables, home, and accessories comprising AirPods, Apple TV, Apple Watch, Beats products, and HomePod. It also provides AppleCare support and cloud services; and operates various platforms, including the App Store that allow customers to discover and download applications and digital content, such as books, music, video, games, and podcasts, as well as advertising services include third-party licensing arrangements and its own advertising platforms. In addition, the company offers various subscription-based services, such as Apple Arcade, a game subscription service; Apple Fitness+, a personalized fitness service; Apple Music, which offers users a curated listening experience with on-demand radio stations; Apple News+, a subscription news and magazine service; Apple TV+, which offers exclusive original content; Apple Card, a co-branded credit card; and Apple Pay, a cashless payment service, as well as licenses its intellectual property. The company serves consumers, and small and mid-sized businesses; and the education, enterprise, and government markets. It distributes third-party applications for its products through the App Store. The company also sells its products through its retail and online stores, and direct sales force; and third-party cellular network carriers, wholesalers, retailers, and resellers. Apple Inc. was founded in 1976 and is headquartered in Cupertino, California.',\n",
       " 'fullTimeEmployees': 150000,\n",
       " 'companyOfficers': [{'maxAge': 1,\n",
       "   'name': 'Mr. Timothy D. Cook',\n",
       "   'age': 63,\n",
       "   'title': 'CEO & Director',\n",
       "   'yearBorn': 1961,\n",
       "   'fiscalYear': 2023,\n",
       "   'totalPay': 16239562,\n",
       "   'exercisedValue': 0,\n",
       "   'unexercisedValue': 0},\n",
       "  {'maxAge': 1,\n",
       "   'name': 'Mr. Jeffrey E. Williams',\n",
       "   'age': 60,\n",
       "   'title': 'Chief Operating Officer',\n",
       "   'yearBorn': 1964,\n",
       "   'fiscalYear': 2023,\n",
       "   'totalPay': 4637585,\n",
       "   'exercisedValue': 0,\n",
       "   'unexercisedValue': 0},\n",
       "  {'maxAge': 1,\n",
       "   'name': 'Ms. Katherine L. Adams',\n",
       "   'age': 60,\n",
       "   'title': 'Senior VP, General Counsel & Secretary',\n",
       "   'yearBorn': 1964,\n",
       "   'fiscalYear': 2023,\n",
       "   'totalPay': 4618064,\n",
       "   'exercisedValue': 0,\n",
       "   'unexercisedValue': 0},\n",
       "  {'maxAge': 1,\n",
       "   'name': \"Ms. Deirdre  O'Brien\",\n",
       "   'age': 57,\n",
       "   'title': 'Chief People Officer & Senior VP of Retail',\n",
       "   'yearBorn': 1967,\n",
       "   'fiscalYear': 2023,\n",
       "   'totalPay': 4613369,\n",
       "   'exercisedValue': 0,\n",
       "   'unexercisedValue': 0},\n",
       "  {'maxAge': 1,\n",
       "   'name': 'Mr. Kevan  Parekh',\n",
       "   'age': 52,\n",
       "   'title': 'Senior VP & CFO',\n",
       "   'yearBorn': 1972,\n",
       "   'fiscalYear': 2023,\n",
       "   'exercisedValue': 0,\n",
       "   'unexercisedValue': 0},\n",
       "  {'maxAge': 1,\n",
       "   'name': 'Mr. Chris  Kondo',\n",
       "   'title': 'Senior Director of Corporate Accounting',\n",
       "   'fiscalYear': 2023,\n",
       "   'exercisedValue': 0,\n",
       "   'unexercisedValue': 0},\n",
       "  {'maxAge': 1,\n",
       "   'name': 'Suhasini  Chandramouli',\n",
       "   'title': 'Director of Investor Relations',\n",
       "   'fiscalYear': 2023,\n",
       "   'exercisedValue': 0,\n",
       "   'unexercisedValue': 0},\n",
       "  {'maxAge': 1,\n",
       "   'name': 'Ms. Kristin Huguet Quayle',\n",
       "   'title': 'Vice President of Worldwide Communications',\n",
       "   'fiscalYear': 2023,\n",
       "   'exercisedValue': 0,\n",
       "   'unexercisedValue': 0},\n",
       "  {'maxAge': 1,\n",
       "   'name': 'Mr. Greg  Joswiak',\n",
       "   'title': 'Senior Vice President of Worldwide Marketing',\n",
       "   'fiscalYear': 2023,\n",
       "   'exercisedValue': 0,\n",
       "   'unexercisedValue': 0},\n",
       "  {'maxAge': 1,\n",
       "   'name': 'Mr. Adrian  Perica',\n",
       "   'age': 50,\n",
       "   'title': 'Vice President of Corporate Development',\n",
       "   'yearBorn': 1974,\n",
       "   'fiscalYear': 2023,\n",
       "   'exercisedValue': 0,\n",
       "   'unexercisedValue': 0}],\n",
       " 'auditRisk': 7,\n",
       " 'boardRisk': 1,\n",
       " 'compensationRisk': 3,\n",
       " 'shareHolderRightsRisk': 1,\n",
       " 'overallRisk': 1,\n",
       " 'governanceEpochDate': 1743465600,\n",
       " 'compensationAsOfEpochDate': 1703980800,\n",
       " 'irWebsite': 'http://investor.apple.com/',\n",
       " 'executiveTeam': [],\n",
       " 'maxAge': 86400,\n",
       " 'priceHint': 2,\n",
       " 'previousClose': 196.98,\n",
       " 'open': 193.265,\n",
       " 'dayLow': 191.57,\n",
       " 'dayHigh': 193.8,\n",
       " 'regularMarketPreviousClose': 196.98,\n",
       " 'regularMarketOpen': 193.265,\n",
       " 'regularMarketDayLow': 191.57,\n",
       " 'regularMarketDayHigh': 193.8,\n",
       " 'dividendRate': 1.0,\n",
       " 'dividendYield': 0.51,\n",
       " 'exDividendDate': 1739145600,\n",
       " 'payoutRatio': 0.1571,\n",
       " 'fiveYearAvgDividendYield': 0.57,\n",
       " 'beta': 1.259,\n",
       " 'trailingPE': 30.425394,\n",
       " 'forwardPE': 23.066183,\n",
       " 'volume': 6115831,\n",
       " 'regularMarketVolume': 6117013,\n",
       " 'averageVolume': 61800181,\n",
       " 'averageVolume10days': 106471200,\n",
       " 'averageDailyVolume10Day': 106471200,\n",
       " 'bid': 191.03,\n",
       " 'ask': 194.49,\n",
       " 'bidSize': 3,\n",
       " 'askSize': 2,\n",
       " 'marketCap': 2879436095488,\n",
       " 'fiftyTwoWeekLow': 164.77,\n",
       " 'fiftyTwoWeekHigh': 260.1,\n",
       " 'priceToSalesTrailing12Months': 7.274764,\n",
       " 'fiftyDayAverage': 221.822,\n",
       " 'twoHundredDayAverage': 228.1751,\n",
       " 'trailingAnnualDividendRate': 0.99,\n",
       " 'trailingAnnualDividendYield': 0.005025891,\n",
       " 'currency': 'USD',\n",
       " 'tradeable': False,\n",
       " 'enterpriseValue': 3002072039424,\n",
       " 'profitMargins': 0.24295,\n",
       " 'floatShares': 14998037683,\n",
       " 'sharesOutstanding': 15022100480,\n",
       " 'sharesShort': 112333139,\n",
       " 'sharesShortPriorMonth': 134441154,\n",
       " 'sharesShortPreviousMonthDate': 1740700800,\n",
       " 'dateShortInterest': 1743379200,\n",
       " 'sharesPercentSharesOut': 0.0075,\n",
       " 'heldPercentInsiders': 0.02073,\n",
       " 'heldPercentInstitutions': 0.62963,\n",
       " 'shortRatio': 2.11,\n",
       " 'shortPercentOfFloat': 0.0075,\n",
       " 'impliedSharesOutstanding': 15022100480,\n",
       " 'bookValue': 4.438,\n",
       " 'priceToBook': 43.190624,\n",
       " 'lastFiscalYearEnd': 1727481600,\n",
       " 'nextFiscalYearEnd': 1759017600,\n",
       " 'mostRecentQuarter': 1735344000,\n",
       " 'earningsQuarterlyGrowth': 0.071,\n",
       " 'netIncomeToCommon': 96150003712,\n",
       " 'trailingEps': 6.3,\n",
       " 'forwardEps': 8.31,\n",
       " 'lastSplitFactor': '4:1',\n",
       " 'lastSplitDate': 1598832000,\n",
       " 'enterpriseToRevenue': 7.586,\n",
       " 'enterpriseToEbitda': 21.857,\n",
       " '52WeekChange': 0.18777132,\n",
       " 'SandP52WeekChange': 0.05430484,\n",
       " 'lastDividendValue': 0.25,\n",
       " 'lastDividendDate': 1739145600,\n",
       " 'quoteType': 'EQUITY',\n",
       " 'currentPrice': 191.655,\n",
       " 'targetHighPrice': 300.0,\n",
       " 'targetLowPrice': 165.0,\n",
       " 'targetMeanPrice': 237.3895,\n",
       " 'targetMedianPrice': 245.0,\n",
       " 'recommendationMean': 2.0,\n",
       " 'recommendationKey': 'buy',\n",
       " 'numberOfAnalystOpinions': 40,\n",
       " 'totalCash': 53774999552,\n",
       " 'totalCashPerShare': 3.58,\n",
       " 'ebitda': 137352003584,\n",
       " 'totalDebt': 96798998528,\n",
       " 'quickRatio': 0.783,\n",
       " 'currentRatio': 0.923,\n",
       " 'totalRevenue': 395760009216,\n",
       " 'debtToEquity': 145.0,\n",
       " 'revenuePerShare': 25.974,\n",
       " 'returnOnAssets': 0.22518998,\n",
       " 'returnOnEquity': 1.3652,\n",
       " 'grossProfits': 184102993920,\n",
       " 'freeCashflow': 93833871360,\n",
       " 'operatingCashflow': 108293996544,\n",
       " 'earningsGrowth': 0.101,\n",
       " 'revenueGrowth': 0.04,\n",
       " 'grossMargins': 0.46519002,\n",
       " 'ebitdaMargins': 0.34706002,\n",
       " 'operatingMargins': 0.34459,\n",
       " 'financialCurrency': 'USD',\n",
       " 'symbol': 'AAPL',\n",
       " 'language': 'en-US',\n",
       " 'region': 'US',\n",
       " 'typeDisp': 'Equity',\n",
       " 'quoteSourceName': 'Nasdaq Real Time Price',\n",
       " 'triggerable': True,\n",
       " 'customPriceAlertConfidence': 'HIGH',\n",
       " 'marketState': 'REGULAR',\n",
       " 'earningsTimestamp': 1746129600,\n",
       " 'earningsTimestampStart': 1746129600,\n",
       " 'earningsTimestampEnd': 1746129600,\n",
       " 'earningsCallTimestampStart': 1746133200,\n",
       " 'earningsCallTimestampEnd': 1746133200,\n",
       " 'isEarningsDateEstimate': False,\n",
       " 'epsTrailingTwelveMonths': 6.3,\n",
       " 'epsForward': 8.31,\n",
       " 'epsCurrentYear': 7.24931,\n",
       " 'priceEpsCurrentYear': 26.441135,\n",
       " 'fiftyDayAverageChange': -30.142014,\n",
       " 'fiftyDayAverageChangePercent': -0.13588378,\n",
       " 'twoHundredDayAverageChange': -36.495102,\n",
       " 'twoHundredDayAverageChangePercent': -0.1599434,\n",
       " 'sourceInterval': 15,\n",
       " 'exchangeDataDelayedBy': 0,\n",
       " 'averageAnalystRating': '2.0 - Buy',\n",
       " 'cryptoTradeable': False,\n",
       " 'hasPrePostMarketData': True,\n",
       " 'firstTradeDateMilliseconds': 345479400000,\n",
       " 'regularMarketChange': -5.300003,\n",
       " 'regularMarketDayRange': '191.57 - 193.8',\n",
       " 'fullExchangeName': 'NasdaqGS',\n",
       " 'averageDailyVolume3Month': 61800181,\n",
       " 'fiftyTwoWeekLowChange': 26.909988,\n",
       " 'fiftyTwoWeekLowChangePercent': 0.16331849,\n",
       " 'fiftyTwoWeekRange': '164.77 - 260.1',\n",
       " 'fiftyTwoWeekHighChange': -68.42001,\n",
       " 'fiftyTwoWeekHighChangePercent': -0.26305273,\n",
       " 'fiftyTwoWeekChangePercent': 18.777132,\n",
       " 'dividendDate': 1739404800,\n",
       " 'corporateActions': [],\n",
       " 'regularMarketTime': 1745244225,\n",
       " 'exchange': 'NMS',\n",
       " 'messageBoardId': 'finmb_24937',\n",
       " 'exchangeTimezoneName': 'America/New_York',\n",
       " 'exchangeTimezoneShortName': 'EDT',\n",
       " 'gmtOffSetMilliseconds': -14400000,\n",
       " 'market': 'us_market',\n",
       " 'esgPopulated': False,\n",
       " 'regularMarketChangePercent': -2.6906302,\n",
       " 'regularMarketPrice': 191.68,\n",
       " 'shortName': 'Apple Inc.',\n",
       " 'longName': 'Apple Inc.',\n",
       " 'displayName': 'Apple',\n",
       " 'trailingPegRatio': 1.8281}"
      ]
     },
     "execution_count": 171,
     "metadata": {},
     "output_type": "execute_result"
    }
   ],
   "source": [
    "stock = yf.Ticker(\"AAPL\")\n",
    "info = stock.info\n",
    "info"
   ]
  },
  {
   "cell_type": "code",
   "execution_count": 172,
   "metadata": {},
   "outputs": [
    {
     "data": {
      "text/plain": [
       "23.066183"
      ]
     },
     "execution_count": 172,
     "metadata": {},
     "output_type": "execute_result"
    }
   ],
   "source": [
    "info.get('forwardPE')"
   ]
  },
  {
   "cell_type": "code",
   "execution_count": 174,
   "metadata": {},
   "outputs": [],
   "source": [
    "@tool\n",
    "def get_financial_metrics(ticker: str) -> Union[Dict, str]:\n",
    "    \"\"\"Fetches key financial ratios for a given ticker.\"\"\"\n",
    "    try:\n",
    "        stock = yf.Ticker(ticker)\n",
    "        info = stock.info\n",
    "\n",
    "        if not info:\n",
    "            return f\"No financial data found for ticker: {ticker}\"\n",
    "\n",
    "        def safe_get(key: str) -> Union[float, str]:\n",
    "            value = info.get(key)\n",
    "            return round(value, 3) if isinstance(value, (int, float)) else \"N/A\"\n",
    "\n",
    "        return {\n",
    "            'pe_ratio': safe_get('forwardPE'),\n",
    "            'price_to_book': safe_get('priceToBook'),\n",
    "            'debt_to_equity': safe_get('debtToEquity'),\n",
    "            'profit_margins': safe_get('profitMargins'),\n",
    "            'return_on_equity': safe_get('returnOnEquity'),\n",
    "            'return_on_assets': safe_get('returnOnAssets'),\n",
    "            'current_ratio': safe_get('currentRatio'),\n",
    "            'quick_ratio': safe_get('quickRatio'),\n",
    "            'gross_margins': safe_get('grossMargins'),\n",
    "            'operating_margins': safe_get('operatingMargins')\n",
    "        }\n",
    "\n",
    "    except Exception as e:\n",
    "        return f\"Error fetching ratios: {str(e)}\""
   ]
  },
  {
   "cell_type": "code",
   "execution_count": 175,
   "metadata": {},
   "outputs": [
    {
     "data": {
      "text/plain": [
       "{'pe_ratio': 23.067,\n",
       " 'price_to_book': 43.193,\n",
       " 'debt_to_equity': 145.0,\n",
       " 'profit_margins': 0.243,\n",
       " 'return_on_equity': 1.365,\n",
       " 'return_on_assets': 0.225,\n",
       " 'current_ratio': 0.923,\n",
       " 'quick_ratio': 0.783,\n",
       " 'gross_margins': 0.465,\n",
       " 'operating_margins': 0.345}"
      ]
     },
     "execution_count": 175,
     "metadata": {},
     "output_type": "execute_result"
    }
   ],
   "source": [
    "get_financial_metrics(\"AAPL\")"
   ]
  },
  {
   "cell_type": "code",
   "execution_count": null,
   "metadata": {},
   "outputs": [],
   "source": []
  },
  {
   "cell_type": "code",
   "execution_count": null,
   "metadata": {},
   "outputs": [],
   "source": []
  },
  {
   "cell_type": "code",
   "execution_count": null,
   "metadata": {},
   "outputs": [],
   "source": [
    "from typing import TypedDict, Annotated, List\n",
    "from langgraph.graph.message import add_messages\n",
    "from langgraph.graph import StateGraph\n",
    "\n",
    "\n",
    "class State(TypedDict):\n",
    "    messages: Annotated[List, add_messages]\n",
    "    stock: str\n",
    "\n",
    "\n",
    "graph_builder = StateGraph(State)"
   ]
  },
  {
   "cell_type": "code",
   "execution_count": 4,
   "metadata": {},
   "outputs": [],
   "source": [
    "# import dotenv\n",
    "# dotenv.load_dotenv()\n",
    "\n",
    "from langchain_openai import ChatOpenAI\n",
    "\n",
    "llm = ChatOpenAI(model='gpt-4o-mini')\n",
    "\n",
    "tools = [get_stock_prices, get_financial_metrics]\n",
    "llm_with_tool = llm.bind_tools(tools)"
   ]
  },
  {
   "cell_type": "code",
   "execution_count": null,
   "metadata": {},
   "outputs": [
    {
     "data": {
      "text/plain": [
       "<langgraph.graph.state.StateGraph at 0x250da811be0>"
      ]
     },
     "execution_count": 5,
     "metadata": {},
     "output_type": "execute_result"
    }
   ],
   "source": [
    "from langchain.schema import SystemMessage\n",
    "from langgraph.graph import START, END\n",
    "\n",
    "\n",
    "FUNDAMENTAL_ANALYST_PROMPT = \"\"\"\n",
    "You are a fundamental analyst specializing in evaluating company (whose symbol is {company}) performance based on stock prices, technical indicators, and financial metrics. Your task is to provide a comprehensive summary of the fundamental analysis for a given stock.\n",
    "\n",
    "You have access to the following tools:\n",
    "1. **get_stock_prices**: Retrieves the latest stock price, historical price data and technical Indicators like RSI, MACD, Drawdown and VWAP.\n",
    "2. **get_financial_metrics**: Retrieves key financial metrics, such as revenue, earnings per share (EPS), price-to-earnings ratio (P/E), and debt-to-equity ratio.\n",
    "\n",
    "### Your Task:\n",
    "1. **Input Stock Symbol**: Use the provided stock symbol to query the tools and gather the relevant information.\n",
    "2. **Analyze Data**: Evaluate the results from the tools and identify potential resistance, key trends, strengths, or concerns.\n",
    "3. **Provide Summary**: Write a concise, well-structured summary that highlights:\n",
    "    - Recent stock price movements, trends and potential resistance.\n",
    "    - Key insights from technical indicators (e.g., whether the stock is overbought or oversold).\n",
    "    - Financial health and performance based on financial metrics.\n",
    "\n",
    "### Constraints:\n",
    "- Use only the data provided by the tools.\n",
    "- Avoid speculative language; focus on observable data and trends.\n",
    "- If any tool fails to provide data, clearly state that in your summary.\n",
    "\n",
    "### Output Format:\n",
    "Respond in the following format:\n",
    "\"stock\": \"<Stock Symbol>\",\n",
    "\"price_analysis\": \"<Detailed analysis of stock price trends>\",\n",
    "\"technical_analysis\": \"<Detailed time series Analysis from ALL technical indicators>\",\n",
    "\"financial_analysis\": \"<Detailed analysis from financial metrics>\",\n",
    "\"final Summary\": \"<Full Conclusion based on the above analyses>\"\n",
    "\"Asked Question Answer\": \"<Answer based on the details and analysis above>\"\n",
    "\n",
    "Ensure that your response is objective, concise, and actionable.\"\"\"\n",
    "\n",
    "\n",
    "def fundamental_analyst(state: State):\n",
    "    messages = [\n",
    "        SystemMessage(content=FUNDAMENTAL_ANALYST_PROMPT.format(\n",
    "            company=state['stock'])),\n",
    "    ] + state['messages']\n",
    "    return {\n",
    "        'messages': llm_with_tool.invoke(messages)\n",
    "    }\n",
    "\n",
    "\n",
    "graph_builder.add_node('fundamental_analyst', fundamental_analyst)\n",
    "graph_builder.add_edge(START, 'fundamental_analyst')"
   ]
  },
  {
   "cell_type": "code",
   "execution_count": 6,
   "metadata": {},
   "outputs": [],
   "source": [
    "from langgraph.prebuilt import ToolNode, tools_condition\n",
    "\n",
    "# Add the tool node with a name\n",
    "graph_builder.add_node(\"tools\", ToolNode(tools))\n",
    "\n",
    "# Add the conditional routing based on whether tools are needed\n",
    "graph_builder.add_conditional_edges(\"fundamental_analyst\", tools_condition)\n",
    "\n",
    "# Connect tool output back to fundamental analysis\n",
    "graph_builder.add_edge(\"tools\", \"fundamental_analyst\")\n",
    "\n",
    "# Ensure start and end points are defined\n",
    "# graph_builder.add_edge(START, \"fundamental_analyst\")\n",
    "# graph_builder.add_edge(\"fundamental_analyst\", END)  # or loop again if more processing\n",
    "\n",
    "# Compile the graph\n",
    "graph = graph_builder.compile()"
   ]
  },
  {
   "cell_type": "code",
   "execution_count": 7,
   "metadata": {},
   "outputs": [
    {
     "data": {
      "image/png": "[encoded data removed]",
      "text/plain": [
       "<IPython.core.display.Image object>"
      ]
     },
     "metadata": {},
     "output_type": "display_data"
    }
   ],
   "source": [
    "from IPython.display import Image, display\n",
    "\n",
    "try:\n",
    "    display(Image(graph.get_graph().draw_mermaid_png()))\n",
    "except Exception as e:\n",
    "    # This requires some extra dependencies and is optional\n",
    "    print(e)"
   ]
  },
  {
   "cell_type": "code",
   "execution_count": null,
   "metadata": {},
   "outputs": [
    {
     "name": "stdout",
     "output_type": "stream",
     "text": [
      "================================\u001b[1m Human Message \u001b[0m=================================\n",
      "\n",
      "Should I buy this stock?\n",
      "==================================\u001b[1m Ai Message \u001b[0m==================================\n",
      "Tool Calls:\n",
      "  get_stock_prices (call_qgF9QHzwpKZolXOfFTl7ezgR)\n",
      " Call ID: call_qgF9QHzwpKZolXOfFTl7ezgR\n",
      "  Args:\n",
      "    ticker: NVDA\n",
      "  get_financial_metrics (call_9qSqQ9qnAQ08Bhfb5xdazhQf)\n",
      " Call ID: call_9qSqQ9qnAQ08Bhfb5xdazhQf\n",
      "  Args:\n",
      "    ticker: NVDA\n",
      "YF.download() has changed argument auto_adjust default to True\n"
     ]
    },
    {
     "name": "stderr",
     "output_type": "stream",
     "text": [
      "[*********************100%***********************]  1 of 1 completed\n"
     ]
    },
    {
     "name": "stdout",
     "output_type": "stream",
     "text": [
      "=================================\u001b[1m Tool Message \u001b[0m=================================\n",
      "Name: get_financial_metrics\n",
      "\n",
      "{\"pe_ratio\": 27.208, \"price_to_book\": 34.587, \"debt_to_equity\": 12.946, \"profit_margins\": 0.558, \"return_on_equity\": 1.192, \"return_on_assets\": 0.574, \"current_ratio\": 4.44, \"quick_ratio\": 3.672, \"gross_margins\": 0.75, \"operating_margins\": 0.611}\n",
      "==================================\u001b[1m Ai Message \u001b[0m==================================\n",
      "\n",
      "\"stock\": \"NVDA\",\n",
      "\"price_analysis\": \"Error fetching price data. Unable to analyze recent stock price movements or identify potential resistance levels at this time.\",\n",
      "\"technical_analysis\": \"Error fetching price data. Unable to assess technical indicators like RSI, MACD, Drawdown, or VWAP.\",\n",
      "\"financial_analysis\": \"NVIDIA Corp exhibits a P/E ratio of 27.208, which suggests a relatively high valuation compared to earnings. The price-to-book ratio is 34.587, indicating that the stock may be considered expensive relative to its book value. The debt-to-equity ratio is 12.946, demonstrating that the company has a low level of debt compared to its equity. The profit margin stands at 55.8%, showcasing strong profitability. Return on equity is an impressive 119.2%, and return on assets is 57.4%, indicating effective use of both equity and assets when generating profit. The current ratio is 4.44 and quick ratio 3.672, suggesting strong liquidity.\",\n",
      "\"final Summary\": \"While the financial metrics indicate strong profitability and liquidity for NVIDIA Corp, the absence of recent stock price data prevents a complete analysis of current market trends and technical indicators. Therefore, based solely on the financial health, the stock shows potential; however, without price and technical data, a definitive buy recommendation cannot be made.\",\n",
      "\"Asked Question Answer\": \"A detailed buy recommendation cannot be provided due to missing recent stock price data and technical analysis.\"\n"
     ]
    }
   ],
   "source": [
    "events = graph.stream({'messages': [('user', 'Should I buy this stock?')],\n",
    "                       'stock': 'NVIDIA Corp'}, stream_mode='values')\n",
    "for event in events:\n",
    "    if 'messages' in event:\n",
    "        event['messages'][-1].pretty_print()"
   ]
  },
  {
   "cell_type": "code",
   "execution_count": null,
   "metadata": {},
   "outputs": [
    {
     "name": "stdout",
     "output_type": "stream",
     "text": [
      "Stock: NVIDIA Corp\n",
      "================================\u001b[1m Human Message \u001b[0m=================================\n",
      "\n",
      "Should I buy this stock?\n"
     ]
    },
    {
     "name": "stderr",
     "output_type": "stream",
     "text": [
      "[*********************100%***********************]  1 of 1 completed"
     ]
    },
    {
     "name": "stdout",
     "output_type": "stream",
     "text": [
      "Stock: NVIDIA Corp\n",
      "==================================\u001b[1m Ai Message \u001b[0m==================================\n",
      "Tool Calls:\n",
      "  get_stock_prices (call_dG7FoFSd9uwMINFFKeC78oNl)\n",
      " Call ID: call_dG7FoFSd9uwMINFFKeC78oNl\n",
      "  Args:\n",
      "    ticker: NVDA\n",
      "  get_financial_metrics (call_2TbfVAEyQ4zF2vEr4KJRwSed)\n",
      " Call ID: call_2TbfVAEyQ4zF2vEr4KJRwSed\n",
      "  Args:\n",
      "    ticker: NVDA\n"
     ]
    },
    {
     "name": "stderr",
     "output_type": "stream",
     "text": [
      "\n"
     ]
    },
    {
     "name": "stdout",
     "output_type": "stream",
     "text": [
      "Stock: NVIDIA Corp\n",
      "=================================\u001b[1m Tool Message \u001b[0m=================================\n",
      "Name: get_financial_metrics\n",
      "\n",
      "{\"pe_ratio\": 27.216, \"price_to_book\": 34.597, \"debt_to_equity\": 12.946, \"profit_margins\": 0.558, \"return_on_equity\": 1.192, \"return_on_assets\": 0.574, \"current_ratio\": 4.44, \"quick_ratio\": 3.672, \"gross_margins\": 0.75, \"operating_margins\": 0.611}\n"
     ]
    },
    {
     "name": "stderr",
     "output_type": "stream",
     "text": [
      "[*********************100%***********************]  1 of 1 completed"
     ]
    },
    {
     "name": "stdout",
     "output_type": "stream",
     "text": [
      "Stock: NVIDIA Corp\n",
      "==================================\u001b[1m Ai Message \u001b[0m==================================\n",
      "Tool Calls:\n",
      "  get_stock_prices (call_bLhKflq4nahAsNkb5g2Z7tej)\n",
      " Call ID: call_bLhKflq4nahAsNkb5g2Z7tej\n",
      "  Args:\n",
      "    ticker: NVDA\n",
      "Stock: NVIDIA Corp\n",
      "=================================\u001b[1m Tool Message \u001b[0m=================================\n",
      "Name: get_stock_prices\n",
      "\n",
      "Error fetching price data: Data must be 1-dimensional, got ndarray of shape (73, 1) instead\n"
     ]
    },
    {
     "name": "stderr",
     "output_type": "stream",
     "text": [
      "\n"
     ]
    },
    {
     "name": "stdout",
     "output_type": "stream",
     "text": [
      "Stock: NVIDIA Corp\n",
      "==================================\u001b[1m Ai Message \u001b[0m==================================\n",
      "\n",
      "It appears that there was an error retrieving the stock price data for NVIDIA Corp (NVDA). Therefore, I can only provide a fundamental analysis based on the financial metrics available.\n",
      "\n",
      "### Fundamental Analysis for NVIDIA Corp (NVDA)\n",
      "\n",
      "**Financial Metrics:**\n",
      "- **Price-to-Earnings Ratio (P/E)**: 27.216\n",
      "- **Price-to-Book Ratio**: 34.597\n",
      "- **Debt-to-Equity Ratio**: 12.946\n",
      "- **Profit Margins**: 55.8%\n",
      "- **Return on Equity (ROE)**: 119.2%\n",
      "- **Return on Assets (ROA)**: 57.4%\n",
      "- **Current Ratio**: 4.44\n",
      "- **Quick Ratio**: 3.672\n",
      "- **Gross Margins**: 75%\n",
      "- **Operating Margins**: 61.1%\n",
      "\n",
      "### Analysis\n",
      "1. **Valuation Ratios**:\n",
      "   - The P/E ratio of 27.216 suggests that the stock is valued relatively high compared to its earnings, indicating that investors are willing to pay more for growth. The high Price-to-Book ratio of 34.597 further supports this notion, implying strong investor expectations around future growth prospects.\n",
      "\n",
      "2. **Profitability**:\n",
      "   - High profit margins at 55.8% and gross margins of 75% suggest that NVIDIA maintains a strong pricing power and is efficient in controlling costs relative to revenues.\n",
      "\n",
      "3. **Return Ratios**:\n",
      "   - The company shows impressive ROE at 119.2% and ROA of 57.4%, indicating it is highly effective in generating returns from equity and assets.\n",
      "\n",
      "4. **Liquidity**:\n",
      "   - The current ratio of 4.44 and quick ratio of 3.672 point to robust liquidity, suggesting that NVIDIA is well-equipped to meet its short-term obligations without the need to sell inventory.\n",
      "\n",
      "5. **Leverage**:\n",
      "   - A high debt-to-equity ratio of 12.946 indicates that the company has a significant amount of debt relative to its equity, which may pose risks if not managed carefully.\n",
      "\n",
      "### Conclusion\n",
      "Without the latest stock price data and technical indicators, it's challenging to provide a definitive recommendation on whether to buy NVDA stock. However, the underlying financial metrics indicate that NVIDIA is fundamentally strong with high profitability, liquidity, and returns, but it does carry a high level of debt and valuation.\n",
      "\n",
      "#### Final Recommendation\n",
      "Investors should weigh these financial strengths against the potential risks of high debt and valuations. Additionally, considering the current market conditions and the lack of price data, it may be prudent to observe further price trends and technical indicators before making a decision.\n",
      "\n",
      "**Asked Question Answer**: Given the strong financial metrics, but incomplete information on current prices and technical indicators, it would be advisable to conduct further analysis before making a purchase decision.\n"
     ]
    }
   ],
   "source": [
    "events = graph.stream({'messages': [(\n",
    "    'user', 'Should I buy this stock?')], 'stock': 'NVIDIA Corp'}, stream_mode='values')\n",
    "\n",
    "for event in events:\n",
    "    if 'messages' in event:\n",
    "        last_message = event['messages'][-1]\n",
    "\n",
    "        # Ensure that the 'stock' key is correctly formatted\n",
    "        stock_value = event.get('stock', '').strip()\n",
    "\n",
    "        if stock_value:  # Check if stock symbol is valid\n",
    "            print(f\"Stock: {stock_value}\")\n",
    "        else:\n",
    "            print(\"Stock symbol is missing or improperly formatted.\")\n",
    "\n",
    "        # Now handle the message part\n",
    "        if hasattr(last_message, 'pretty_print'):\n",
    "            last_message.pretty_print()\n",
    "        else:\n",
    "            print(last_message)"
   ]
  },
  {
   "cell_type": "code",
   "execution_count": null,
   "metadata": {},
   "outputs": [],
   "source": []
  }
 ],
 "metadata": {
  "kernelspec": {
   "display_name": "agent",
   "language": "python",
   "name": "python3"
  },
  "language_info": {
   "codemirror_mode": {
    "name": "ipython",
    "version": 3
   },
   "file_extension": ".py",
   "mimetype": "text/x-python",
   "name": "python",
   "nbconvert_exporter": "python",
   "pygments_lexer": "ipython3",
   "version": "3.13.2"
  }
 },
 "nbformat": 4,
 "nbformat_minor": 2
}
