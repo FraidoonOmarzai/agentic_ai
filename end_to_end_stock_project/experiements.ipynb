{
 "cells": [
  {
   "cell_type": "markdown",
   "metadata": {},
   "source": [
    "<h1 align=center>Stock Analysis</h1>\n"
   ]
  },
  {
   "cell_type": "markdown",
   "metadata": {},
   "source": [
    "### `Points`:\n",
    "\n",
    "- For 3 months to 1 year, you get a balanced view that works for both short-term traders and AI-based market predictions.\n",
    "\n",
    "- Longer durations (1+ years) are better suited for long-term investors or deeper historical trend analysis.\n"
   ]
  },
  {
   "cell_type": "markdown",
   "metadata": {},
   "source": [
    "### Tools\n",
    "\n",
    "1. fetch data from yahoo finance for 12 months, cause we want short term trading\n"
   ]
  },
  {
   "cell_type": "code",
   "execution_count": 13,
   "metadata": {},
   "outputs": [],
   "source": [
    "# tool: fetch stock price\n",
    "\n",
    "from typing import Union, Dict\n",
    "import datetime as dt\n",
    "import yfinance as yf\n",
    "\n",
    "\n",
    "def get_stock_prices(ticker: str) -> Union[Dict, str]:\n",
    "    \"\"\"Fetches historical stock price data and technical indicators for a given ticker.\"\"\"\n",
    "    try:\n",
    "        data = yf.download(\n",
    "            ticker,\n",
    "            start=dt.datetime.now() - dt.timedelta(weeks=48),\n",
    "            end=dt.datetime.now(),\n",
    "            interval='1wk'\n",
    "        )\n",
    "\n",
    "        return data\n",
    "\n",
    "    except Exception as e:\n",
    "        return f\"Error fetching price data: {str(e)}\""
   ]
  },
  {
   "cell_type": "code",
   "execution_count": 14,
   "metadata": {},
   "outputs": [
    {
     "name": "stderr",
     "output_type": "stream",
     "text": [
      "[*********************100%***********************]  1 of 1 completed\n",
      "\n",
      "1 Failed download:\n",
      "['AAPL']: YFRateLimitError('Too Many Requests. Rate limited. Try after a while.')\n"
     ]
    },
    {
     "data": {
      "text/html": [
       "<div>\n",
       "<style scoped>\n",
       "    .dataframe tbody tr th:only-of-type {\n",
       "        vertical-align: middle;\n",
       "    }\n",
       "\n",
       "    .dataframe tbody tr th {\n",
       "        vertical-align: top;\n",
       "    }\n",
       "\n",
       "    .dataframe thead tr th {\n",
       "        text-align: left;\n",
       "    }\n",
       "\n",
       "    .dataframe thead tr:last-of-type th {\n",
       "        text-align: right;\n",
       "    }\n",
       "</style>\n",
       "<table border=\"1\" class=\"dataframe\">\n",
       "  <thead>\n",
       "    <tr>\n",
       "      <th>Price</th>\n",
       "      <th>Adj Close</th>\n",
       "      <th>Close</th>\n",
       "      <th>High</th>\n",
       "      <th>Low</th>\n",
       "      <th>Open</th>\n",
       "      <th>Volume</th>\n",
       "    </tr>\n",
       "    <tr>\n",
       "      <th>Ticker</th>\n",
       "      <th>AAPL</th>\n",
       "      <th>AAPL</th>\n",
       "      <th>AAPL</th>\n",
       "      <th>AAPL</th>\n",
       "      <th>AAPL</th>\n",
       "      <th>AAPL</th>\n",
       "    </tr>\n",
       "    <tr>\n",
       "      <th>Date</th>\n",
       "      <th></th>\n",
       "      <th></th>\n",
       "      <th></th>\n",
       "      <th></th>\n",
       "      <th></th>\n",
       "      <th></th>\n",
       "    </tr>\n",
       "  </thead>\n",
       "  <tbody>\n",
       "  </tbody>\n",
       "</table>\n",
       "</div>"
      ],
      "text/plain": [
       "Empty DataFrame\n",
       "Columns: [(Adj Close, AAPL), (Close, AAPL), (High, AAPL), (Low, AAPL), (Open, AAPL), (Volume, AAPL)]\n",
       "Index: []"
      ]
     },
     "execution_count": 14,
     "metadata": {},
     "output_type": "execute_result"
    }
   ],
   "source": [
    "ticker = \"AAPL\"  # Example: Apple Inc.\n",
    "\n",
    "# Fetch historical data (e.g., past 3 months)\n",
    "data = get_stock_prices(ticker)\n",
    "\n",
    "# Display the fetched data\n",
    "data.head()"
   ]
  },
  {
   "cell_type": "code",
   "execution_count": null,
   "metadata": {},
   "outputs": [],
   "source": [
    "data[\"Close\"].squeeze()"
   ]
  },
  {
   "cell_type": "code",
   "execution_count": null,
   "metadata": {},
   "outputs": [],
   "source": [
    "from ta.momentum import RSIIndicator, StochasticOscillator\n",
    "from ta.trend import SMAIndicator, EMAIndicator, MACD\n",
    "from ta.volume import volume_weighted_average_price\n",
    "\n",
    "indicators = {}"
   ]
  },
  {
   "cell_type": "code",
   "execution_count": null,
   "metadata": {},
   "outputs": [],
   "source": [
    "data.reset_index(inplace=True)\n",
    "data['Date'] = data['Date'].astype(str)"
   ]
  },
  {
   "cell_type": "code",
   "execution_count": null,
   "metadata": {},
   "outputs": [],
   "source": [
    "rsi_series = RSIIndicator(data['Close'].squeeze(), window=14).rsi().iloc[-12:]\n",
    "indicators[\"RSI\"] = dict(\n",
    "    zip(data['Date'].iloc[-12:], map(lambda x: round(x, 2), rsi_series)))"
   ]
  },
  {
   "cell_type": "code",
   "execution_count": null,
   "metadata": {},
   "outputs": [],
   "source": [
    "indicators[\"RSI\"]"
   ]
  },
  {
   "cell_type": "code",
   "execution_count": null,
   "metadata": {},
   "outputs": [],
   "source": [
    "StochasticOscillator(data['High'].squeeze(), data['Low'].squeeze(\n",
    "), data['Close'].squeeze(), window=14).stoch().iloc[-8:]"
   ]
  },
  {
   "cell_type": "code",
   "execution_count": null,
   "metadata": {},
   "outputs": [],
   "source": [
    "sto_series = StochasticOscillator(data['High'].squeeze(), data['Low'].squeeze(\n",
    "), data['Close'].squeeze(), window=14).stoch().iloc[-12:]\n",
    "indicators[\"Stochastic_Oscillator\"] = dict(\n",
    "    zip(data['Date'].iloc[-12:], map(lambda x: round(x, 2), sto_series)))"
   ]
  },
  {
   "cell_type": "code",
   "execution_count": null,
   "metadata": {},
   "outputs": [],
   "source": [
    "indicators[\"Stochastic_Oscillator\"]"
   ]
  },
  {
   "cell_type": "code",
   "execution_count": null,
   "metadata": {},
   "outputs": [],
   "source": [
    "macd = MACD(data['Close'].squeeze())\n",
    "macd_series = macd.macd().iloc[-12:]\n",
    "indicators[\"MACD\"] = dict(\n",
    "    zip(data['Date'].iloc[-12:], map(lambda x: round(x, 2), macd_series)))"
   ]
  },
  {
   "cell_type": "code",
   "execution_count": null,
   "metadata": {},
   "outputs": [],
   "source": [
    "indicators[\"MACD\"]"
   ]
  },
  {
   "cell_type": "code",
   "execution_count": null,
   "metadata": {},
   "outputs": [],
   "source": [
    "macd_signal_series = macd.macd_signal().iloc[-12:]\n",
    "indicators[\"MACD_Signal\"] = dict(\n",
    "    zip(data['Date'].iloc[-12:], map(lambda x: round(x, 2), macd_signal_series)))"
   ]
  },
  {
   "cell_type": "code",
   "execution_count": null,
   "metadata": {},
   "outputs": [],
   "source": [
    "indicators[\"MACD_Signal\"]"
   ]
  },
  {
   "cell_type": "code",
   "execution_count": null,
   "metadata": {},
   "outputs": [],
   "source": [
    "vwap_series = volume_weighted_average_price(\n",
    "    data['High'].squeeze(), data['Low'].squeeze(), data['Close'].squeeze(), volume=data['Volume'].squeeze()\n",
    ").iloc[-12:]\n",
    "indicators[\"vwap\"] = dict(\n",
    "    zip(data['Date'].iloc[-12:], map(lambda x: round(x, 2), vwap_series)))"
   ]
  },
  {
   "cell_type": "code",
   "execution_count": null,
   "metadata": {},
   "outputs": [],
   "source": [
    "indicators[\"vwap\"]"
   ]
  },
  {
   "cell_type": "code",
   "execution_count": 1,
   "metadata": {},
   "outputs": [],
   "source": [
    "# tool: fetch stock price\n",
    "\n",
    "from typing import Union, Dict\n",
    "import datetime as dt\n",
    "import pandas as pd\n",
    "import yfinance as yf\n",
    "from ta.momentum import RSIIndicator, StochasticOscillator\n",
    "from ta.trend import MACD\n",
    "from ta.volume import volume_weighted_average_price\n",
    "from langchain_core.tools import tool\n",
    "\n",
    "\n",
    "@tool\n",
    "def get_stock_prices(ticker: str) -> Union[Dict, str]:\n",
    "    \"\"\"Fetches historical stock price data and technical indicators for a given ticker.\"\"\"\n",
    "    try:\n",
    "        data = yf.download(\n",
    "            ticker,\n",
    "            start=dt.datetime.now() - dt.timedelta(weeks=12),\n",
    "            end=dt.datetime.now(),\n",
    "            interval='1wk'\n",
    "        )\n",
    "\n",
    "        if data.empty:\n",
    "            return f\"No data found for ticker: {ticker}\"\n",
    "\n",
    "        # reset index so we can access 'Date' as a column\n",
    "        data.reset_index(inplace=True)\n",
    "        data['Date'] = data['Date'].astype(str)\n",
    "\n",
    "        # Technical Indicators - computed on closing prices\n",
    "        indicators = {}\n",
    "\n",
    "        # RSI detects overbought/oversold conditions\n",
    "        # Show last 12 weeks of indicators for a 3-month span\n",
    "        rsi_series = RSIIndicator(\n",
    "            data['Close'].squeeze(), window=14).rsi().iloc[-12:]\n",
    "        indicators[\"RSI\"] = dict(\n",
    "            zip(data['Date'].iloc[-12:], map(lambda x: round(x, 2), rsi_series)))\n",
    "\n",
    "        # Compares current price to a range of previous prices\n",
    "        # Another momentum indicator — complements RSI\n",
    "        sto_series = StochasticOscillator(data['High'].squeeze(), data['Low'].squeeze(\n",
    "        ), data['Close'].squeeze(), window=14).stoch().iloc[-12:]\n",
    "        indicators[\"Stochastic_Oscillator\"] = dict(\n",
    "            zip(data['Date'].iloc[-12:], map(lambda x: round(x, 2), sto_series)))\n",
    "\n",
    "        # MACD is a trend-following indicator (difference of two EMAs)\n",
    "        # Useful for spotting trend reversals\n",
    "        macd = MACD(data['Close'].squeeze())\n",
    "        macd_series = macd.macd().iloc[-12:]\n",
    "        indicators[\"MACD\"] = dict(\n",
    "            zip(data['Date'].iloc[-12:], map(lambda x: round(x, 2), macd_series)))\n",
    "\n",
    "        # Signal line is a smoothed version of MACD used to generate buy/sell signals\n",
    "        macd_signal_series = macd.macd_signal().iloc[-12:]\n",
    "        indicators[\"MACD_Signal\"] = dict(\n",
    "            zip(data['Date'].iloc[-12:], map(lambda x: round(x, 2), macd_signal_series)))\n",
    "\n",
    "        # VWAP helps traders understand average price based on volume\n",
    "        # Commonly used by institutions to assess fair value\n",
    "        vwap_series = volume_weighted_average_price(\n",
    "            data['High'].squeeze(), data['Low'].squeeze(), data['Close'].squeeze(), volume=data['Volume'].squeeze()\n",
    "        ).iloc[-12:]\n",
    "        indicators[\"vwap\"] = dict(\n",
    "            zip(data['Date'].iloc[-12:], map(lambda x: round(x, 2), vwap_series)))\n",
    "\n",
    "        return {\n",
    "            'stock_price': data.to_dict(orient='records'),\n",
    "            'indicators': indicators\n",
    "        }\n",
    "\n",
    "    except Exception as e:\n",
    "        return f\"Error fetching price data: {str(e)}\""
   ]
  },
  {
   "cell_type": "code",
   "execution_count": 2,
   "metadata": {},
   "outputs": [
    {
     "name": "stderr",
     "output_type": "stream",
     "text": [
      "C:\\Users\\44787\\AppData\\Local\\Temp\\ipykernel_15100\\3750346389.py:4: LangChainDeprecationWarning: The method `BaseTool.__call__` was deprecated in langchain-core 0.1.47 and will be removed in 1.0. Use :meth:`~invoke` instead.\n",
      "  stock_data = get_stock_prices(ticker)\n"
     ]
    },
    {
     "name": "stdout",
     "output_type": "stream",
     "text": [
      "YF.download() has changed argument auto_adjust default to True\n"
     ]
    },
    {
     "name": "stderr",
     "output_type": "stream",
     "text": [
      "[*********************100%***********************]  1 of 1 completed\n",
      "\n",
      "1 Failed download:\n",
      "['AAPL']: YFRateLimitError('Too Many Requests. Rate limited. Try after a while.')\n"
     ]
    }
   ],
   "source": [
    "ticker = \"AAPL\"  # Example: Apple Inc.\n",
    "\n",
    "# Fetch historical data (e.g., past 3 months)\n",
    "stock_data = get_stock_prices(ticker)"
   ]
  },
  {
   "cell_type": "code",
   "execution_count": 3,
   "metadata": {},
   "outputs": [
    {
     "data": {
      "text/plain": [
       "'No data found for ticker: AAPL'"
      ]
     },
     "execution_count": 3,
     "metadata": {},
     "output_type": "execute_result"
    }
   ],
   "source": [
    "stock_data"
   ]
  },
  {
   "cell_type": "markdown",
   "metadata": {},
   "source": [
    "2. Retrive financial health ratio\n",
    "\n",
    "```\n",
    "Metric            | Meaning\n",
    "pe_ratio          | Price-to-Earnings (valuation)\n",
    "price_to_book     | Valuation based on book value\n",
    "debt_to_equity    | Leverage/solvency ratio\n",
    "profit_margins    | Net income as % of revenue\n",
    "return_on_equity  | Efficiency of shareholder equity\n",
    "return_on_assets  | Profitability relative to assets\n",
    "current_ratio     | Short-term liquidity\n",
    "quick_ratio       | Liquidity without inventory\n",
    "gross_margins     | Efficiency at core product level\n",
    "operating_margins | Profitability from operations\n",
    "```"
   ]
  },
  {
   "cell_type": "code",
   "execution_count": null,
   "metadata": {},
   "outputs": [],
   "source": [
    "stock = yf.Ticker(\"AAPL\")\n",
    "info = stock.info\n",
    "info"
   ]
  },
  {
   "cell_type": "code",
   "execution_count": null,
   "metadata": {},
   "outputs": [],
   "source": [
    "info.get('forwardPE')"
   ]
  },
  {
   "cell_type": "code",
   "execution_count": 4,
   "metadata": {},
   "outputs": [],
   "source": [
    "@tool\n",
    "def get_financial_metrics(ticker: str) -> Union[Dict, str]:\n",
    "    \"\"\"Fetches key financial ratios for a given ticker.\"\"\"\n",
    "    try:\n",
    "        stock = yf.Ticker(ticker)\n",
    "        info = stock.info\n",
    "\n",
    "        if not info:\n",
    "            return f\"No financial data found for ticker: {ticker}\"\n",
    "\n",
    "        def safe_get(key: str) -> Union[float, str]:\n",
    "            value = info.get(key)\n",
    "            return round(value, 3) if isinstance(value, (int, float)) else \"N/A\"\n",
    "\n",
    "        return {\n",
    "            'pe_ratio': safe_get('forwardPE'),\n",
    "            'price_to_book': safe_get('priceToBook'),\n",
    "            'debt_to_equity': safe_get('debtToEquity'),\n",
    "            'profit_margins': safe_get('profitMargins'),\n",
    "            'return_on_equity': safe_get('returnOnEquity'),\n",
    "            'return_on_assets': safe_get('returnOnAssets'),\n",
    "            'current_ratio': safe_get('currentRatio'),\n",
    "            'quick_ratio': safe_get('quickRatio'),\n",
    "            'gross_margins': safe_get('grossMargins'),\n",
    "            'operating_margins': safe_get('operatingMargins')\n",
    "        }\n",
    "\n",
    "    except Exception as e:\n",
    "        return f\"Error fetching ratios: {str(e)}\""
   ]
  },
  {
   "cell_type": "code",
   "execution_count": null,
   "metadata": {},
   "outputs": [],
   "source": [
    "get_financial_metrics(\"AAPL\")"
   ]
  },
  {
   "cell_type": "markdown",
   "metadata": {},
   "source": [
    "3. get stock news"
   ]
  },
  {
   "cell_type": "code",
   "execution_count": 5,
   "metadata": {},
   "outputs": [],
   "source": [
    "from typing import Union, List, Dict\n",
    "from langchain_core.tools import tool\n",
    "import requests\n",
    "import os\n",
    "\n",
    "\n",
    "@tool\n",
    "def get_stock_news(ticker: str) -> Union[List[Dict], str]:\n",
    "    \"\"\"\n",
    "    Fetches recent news articles related to the given stock ticker using NewsAPI.\n",
    "    Returns top 5 articles with title, description, source, and URL.\n",
    "    \"\"\"\n",
    "    try:\n",
    "        url = (\n",
    "            f\"https://newsapi.org/v2/everything?\"\n",
    "            f\"q={ticker}&\"\n",
    "            f\"sortBy=publishedAt&\"\n",
    "            f\"language=en&\"\n",
    "            f\"pageSize=5&\"\n",
    "            f\"apiKey=00131bbfeba447b7b6d338347ab19c15\"\n",
    "        )\n",
    "\n",
    "        response = requests.get(url)\n",
    "        if response.status_code != 200:\n",
    "            return f\"Failed to fetch news: {response.status_code} - {response.text}\"\n",
    "\n",
    "        data = response.json()\n",
    "        articles = data.get(\"articles\", [])\n",
    "        if not articles:\n",
    "            return f\"No recent news found for ticker: {ticker}\"\n",
    "\n",
    "        return [\n",
    "            {\n",
    "                \"title\": a[\"title\"],\n",
    "                \"description\": a[\"description\"],\n",
    "                \"source\": a[\"source\"][\"name\"],\n",
    "                \"url\": a[\"url\"],\n",
    "                \"published_at\": a[\"publishedAt\"]\n",
    "            }\n",
    "            for a in articles\n",
    "        ]\n",
    "\n",
    "    except Exception as e:\n",
    "        return f\"Error fetching news: {str(e)}\"\n"
   ]
  },
  {
   "cell_type": "code",
   "execution_count": null,
   "metadata": {},
   "outputs": [],
   "source": [
    "get_stock_news(\"AAPL\")"
   ]
  },
  {
   "cell_type": "markdown",
   "metadata": {},
   "source": [
    "``Data Fetched Successfully!``"
   ]
  },
  {
   "cell_type": "markdown",
   "metadata": {},
   "source": [
    "### AI-generated analysis function using OpenAI's LLM\n"
   ]
  },
  {
   "cell_type": "code",
   "execution_count": null,
   "metadata": {},
   "outputs": [],
   "source": [
    "'''\n",
    "from langchain.schema import SystemMessage\n",
    "from langgraph.graph import START, END\n",
    "from langgraph.graph import StateGraph\n",
    "from langgraph.graph.message import add_messages\n",
    "from langgraph.prebuilt import ToolNode, tools_condition\n",
    "from typing import TypedDict, Annotated, List\n",
    "from langchain_openai import ChatOpenAI\n",
    "\n",
    "# Define your LLM\n",
    "llm = ChatOpenAI(model='gpt-4o-mini')\n",
    "\n",
    "# Define the tools you want to use\n",
    "tools = [get_stock_prices, get_financial_metrics, get_stock_news]\n",
    "llm_with_tool = llm.bind_tools(tools)\n",
    "\n",
    "# Define the graph state structure\n",
    "class State(TypedDict):\n",
    "    messages: Annotated[List, add_messages]\n",
    "    stock: str\n",
    "\n",
    "# Your refined prompt from previous step\n",
    "FUNDAMENTAL_ANALYST_PROMPT = \"\"\"...\"\"\"  # (Use the prompt from earlier with `get_stock_news`)\n",
    "\n",
    "# Define the fundamental analyst step\n",
    "def fundamental_analyst(state: State):\n",
    "    messages = [\n",
    "        SystemMessage(content=FUNDAMENTAL_ANALYST_PROMPT.format(\n",
    "            company=state['stock']\n",
    "        )),\n",
    "    ] + state['messages']\n",
    "    \n",
    "    return {\n",
    "        'messages': llm_with_tool.invoke(messages)\n",
    "    }\n",
    "\n",
    "# Build the graph\n",
    "graph_builder = StateGraph(State)\n",
    "\n",
    "# Add nodes\n",
    "graph_builder.add_node(\"fundamental_analyst\", fundamental_analyst)\n",
    "graph_builder.add_node(\"tools\", ToolNode(tools))\n",
    "\n",
    "# Define how the flow moves\n",
    "graph_builder.add_edge(START, \"fundamental_analyst\")\n",
    "graph_builder.add_conditional_edges(\"fundamental_analyst\", tools_condition)\n",
    "graph_builder.add_edge(\"tools\", \"fundamental_analyst\")\n",
    "graph_builder.add_edge(\"fundamental_analyst\", END)\n",
    "\n",
    "# Compile the graph\n",
    "graph = graph_builder.compile()\n",
    "\n",
    "'''"
   ]
  },
  {
   "cell_type": "code",
   "execution_count": 6,
   "metadata": {},
   "outputs": [],
   "source": [
    "# import dotenv\n",
    "# dotenv.load_dotenv()\n",
    "from langchain_openai import ChatOpenAI\n",
    "\n",
    "# 1. Init model\n",
    "llm = ChatOpenAI(model='gpt-4o-mini')\n",
    "\n",
    "# 2. Bind tools\n",
    "tools = [get_stock_prices, get_financial_metrics, get_stock_news]\n",
    "llm_with_tool = llm.bind_tools(tools)"
   ]
  },
  {
   "cell_type": "code",
   "execution_count": 7,
   "metadata": {},
   "outputs": [],
   "source": [
    "# 3. Prompt Template\n",
    "\n",
    "FUNDAMENTAL_ANALYST_PROMPT = \"\"\"\n",
    "You are a professional fundamental analyst tasked with evaluating a company's (whose symbol is {company}) performance using three types of data:\n",
    "\n",
    "1. **Stock Prices & Technical Indicators** — provided by `get_stock_prices`\n",
    "2. **Financial Metrics** — provided by `get_financial_metrics`\n",
    "3. **Recent News Articles** — provided by `get_stock_news`\n",
    "\n",
    "You will be given a stock symbol (e.g., AAPL, MSFT) and tool outputs for that stock. Based on these inputs, generate a structured and insightful summary of the stock's current status.\n",
    "\n",
    "---\n",
    "\n",
    "### Instructions:\n",
    "- **Use ONLY the tool-provided data**. Do not fabricate or speculate.\n",
    "- Focus on trends, patterns, and clear insights.\n",
    "- Be concise and avoid general financial advice.\n",
    "- Highlight both strengths and risks.\n",
    "- Make it useful for someone deciding whether to investigate the stock further.\n",
    "\n",
    "---\n",
    "\n",
    "### Your Output Format (JSON-like):\n",
    "\"stock\": \"<Ticker Symbol>\",\n",
    "\"price_analysis\": \"<Summarize stock price trends and momentum indicators (e.g., RSI, MACD, VWAP)>\",\n",
    "\"financial_analysis\": \"<Summarize financial ratios like P/E, profit margins, debt-to-equity, ROE, etc.>\",\n",
    "\"news_analysis\": \"<Summarize recent headlines, themes, and sentiment from company-related news>\",\n",
    "\"final_summary\": \"<Bring everything together into a clear takeaway or outlook (without recommendations)>\",\n",
    "\"asked_question_answer\": \"<Answer any user question directly using only the information above>\"\n",
    "\n",
    "---\n",
    "\n",
    "Be factual, data-driven, and structured.\n",
    "\"\"\"\n"
   ]
  },
  {
   "cell_type": "markdown",
   "metadata": {},
   "source": [
    "##### creating an instance of StateGraph which will be used to:\n",
    "\n",
    "- Add nodes (your tools/functions)\n",
    "\n",
    "- Define edges (the flow between them)\n",
    "\n",
    "- Set entry and exit points\n",
    "\n",
    "- Compile the graph into a runnable chain"
   ]
  },
  {
   "cell_type": "code",
   "execution_count": 8,
   "metadata": {},
   "outputs": [],
   "source": [
    "# setting up a LangGraph using StateGraph with a custom State\n",
    "from typing import TypedDict, Annotated, List\n",
    "from langgraph.graph.message import add_messages\n",
    "\n",
    "\n",
    "class State(TypedDict):\n",
    "    messages: Annotated[List, add_messages]\n",
    "    stock: str"
   ]
  },
  {
   "cell_type": "code",
   "execution_count": 9,
   "metadata": {},
   "outputs": [],
   "source": [
    "from langchain.schema import SystemMessage\n",
    "\n",
    "def fundamental_analyst(state: State):\n",
    "    messages = [\n",
    "        SystemMessage(content=FUNDAMENTAL_ANALYST_PROMPT.format(\n",
    "            company=state['stock'])),\n",
    "    ] + state['messages']\n",
    "    return {\n",
    "        'messages': llm_with_tool.invoke(messages)\n",
    "    }"
   ]
  },
  {
   "cell_type": "code",
   "execution_count": 10,
   "metadata": {},
   "outputs": [],
   "source": [
    "# from langgraph.graph import START, END\n",
    "# from langgraph.graph import StateGraph\n",
    "# from langgraph.prebuilt import ToolNode, tools_condition\n",
    "\n",
    "\n",
    "# graph_builder = StateGraph(State)\n",
    "\n",
    "# graph_builder.add_node('fundamental_analyst', fundamental_analyst)\n",
    "# # Add the tool node with a name\n",
    "# graph_builder.add_node(\"tools\", ToolNode(tools))\n",
    "\n",
    "# # Connect tool output back to fundamental analysis\n",
    "# graph_builder.add_edge(\"tools\", \"fundamental_analyst\")\n",
    "\n",
    "# # Add the conditional routing based on whether tools are needed\n",
    "# graph_builder.add_conditional_edges(\"fundamental_analyst\", tools_condition)\n",
    "\n",
    "# # Ensure start and end points are defined\n",
    "# graph_builder.add_edge(START, 'fundamental_analyst')\n",
    "# graph_builder.add_edge(\"fundamental_analyst\", END)  # or loop again if more processing\n",
    "\n",
    "# # Compile the graph\n",
    "# graph = graph_builder.compile()"
   ]
  },
  {
   "cell_type": "code",
   "execution_count": 11,
   "metadata": {},
   "outputs": [],
   "source": [
    "from langgraph.graph import START, END\n",
    "from langgraph.graph import StateGraph\n",
    "from langgraph.prebuilt import ToolNode, tools_condition\n",
    "\n",
    "\n",
    "workflow = StateGraph(State)\n",
    "\n",
    "workflow.add_node('fundamental_analyst', fundamental_analyst)\n",
    "workflow.add_edge(START, 'fundamental_analyst')\n",
    "workflow.add_edge(\"fundamental_analyst\", END)\n",
    "\n",
    "\n",
    "\n",
    "# Compile the graph\n",
    "app = workflow.compile()"
   ]
  },
  {
   "cell_type": "code",
   "execution_count": 12,
   "metadata": {},
   "outputs": [
    {
     "name": "stdout",
     "output_type": "stream",
     "text": [
      "HTTPSConnectionPool(host='mermaid.ink', port=443): Read timed out. (read timeout=10)\n"
     ]
    }
   ],
   "source": [
    "from IPython.display import Image, display\n",
    "\n",
    "try:\n",
    "    display(Image(app.get_graph().draw_mermaid_png()))\n",
    "except Exception as e:\n",
    "    # This requires some extra dependencies and is optional\n",
    "    print(e)"
   ]
  },
  {
   "cell_type": "code",
   "execution_count": null,
   "metadata": {},
   "outputs": [],
   "source": [
    "events = app.stream({'messages': [('user', 'Should I buy this stock?')],\n",
    "                       'stock': 'AAPL'}, stream_mode='values')\n",
    "for event in events:\n",
    "    if 'messages' in event:\n",
    "        event['messages'][-1].pretty_print()"
   ]
  },
  {
   "cell_type": "code",
   "execution_count": null,
   "metadata": {},
   "outputs": [],
   "source": [
    "import streamlit as st\n",
    "from langgraph.graph.runner import GraphRunner\n",
    "from langchain.schema import HumanMessage\n",
    "\n",
    "# Import your graph and setup from your LangGraph script\n",
    "from your_graph_file import graph  # Replace with your actual file name\n",
    "from your_graph_file import State  # State definition\n",
    "\n",
    "# Streamlit UI\n",
    "st.set_page_config(page_title=\"Stock Analysis Assistant\", layout=\"wide\")\n",
    "st.title(\"📈 AI Stock Analyst\")\n",
    "\n",
    "ticker = st.text_input(\"Enter stock symbol (e.g., AAPL, TSLA):\", value=\"AAPL\")\n",
    "\n",
    "if st.button(\"Run Analysis\") and ticker:\n",
    "    st.write(\"🔍 Analyzing stock data, technical indicators, financial metrics, and news...\")\n",
    "\n",
    "    # Initialize the graph\n",
    "    runner = GraphRunner(graph)\n",
    "\n",
    "    # Define initial state\n",
    "    initial_state: State = {\n",
    "        \"stock\": ticker.upper(),\n",
    "        \"messages\": [HumanMessage(content=f\"Can you analyze {ticker.upper()} for me?\")]\n",
    "    }\n",
    "\n",
    "    # Run the graph\n",
    "    final_state = runner.invoke(initial_state)\n",
    "\n",
    "    # Extract message\n",
    "    last_message = final_state[\"messages\"][-1].content\n",
    "\n",
    "    # Display result\n",
    "    st.markdown(\"### 📊 Fundamental Analysis Summary\")\n",
    "    st.markdown(last_message)\n"
   ]
  },
  {
   "cell_type": "code",
   "execution_count": null,
   "metadata": {},
   "outputs": [],
   "source": [
    "# 📁 app.py\n",
    "import streamlit as st\n",
    "from langchain.schema import HumanMessage\n",
    "from your_langgraph_module import graph  # <- Import your graph from your existing LangGraph setup\n",
    "\n",
    "# Streamlit page config\n",
    "st.set_page_config(page_title=\"Stock Analyzer\", layout=\"centered\")\n",
    "\n",
    "st.title(\"📈 AI Stock Analyzer\")\n",
    "\n",
    "# User input section\n",
    "stock = st.text_input(\"Enter Stock Symbol (e.g., AAPL):\", value=\"AAPL\")\n",
    "user_question = st.chat_input(\"Ask your stock analysis question:\")\n",
    "\n",
    "# Show previous chat history if needed\n",
    "if \"chat_history\" not in st.session_state:\n",
    "    st.session_state.chat_history = []\n",
    "\n",
    "# On user input\n",
    "if user_question and stock:\n",
    "    # Show user message\n",
    "    with st.chat_message(\"user\"):\n",
    "        st.write(user_question)\n",
    "\n",
    "    # Append to chat history\n",
    "    st.session_state.chat_history.append(HumanMessage(content=user_question))\n",
    "\n",
    "    # Trigger the graph stream\n",
    "    with st.chat_message(\"assistant\"):\n",
    "        message_container = st.empty()  # This will update as we stream\n",
    "\n",
    "        messages = []\n",
    "        for event in graph.stream({\n",
    "            \"messages\": st.session_state.chat_history,\n",
    "            \"stock\": stock\n",
    "        }, stream_mode=\"values\"):\n",
    "            if 'messages' in event:\n",
    "                latest = event['messages'][-1]\n",
    "                content = latest.content if hasattr(latest, 'content') else str(latest)\n",
    "                messages.append(content)\n",
    "                # Stream output live\n",
    "                message_container.markdown(\"\\n\\n\".join(messages))\n",
    "\n",
    "        # Add assistant's last message to session history (optional)\n",
    "        st.session_state.chat_history.append(event['messages'][-1])\n"
   ]
  },
  {
   "cell_type": "code",
   "execution_count": null,
   "metadata": {},
   "outputs": [],
   "source": []
  }
 ],
 "metadata": {
  "kernelspec": {
   "display_name": "agent",
   "language": "python",
   "name": "python3"
  },
  "language_info": {
   "codemirror_mode": {
    "name": "ipython",
    "version": 3
   },
   "file_extension": ".py",
   "mimetype": "text/x-python",
   "name": "python",
   "nbconvert_exporter": "python",
   "pygments_lexer": "ipython3",
   "version": "3.13.2"
  }
 },
 "nbformat": 4,
 "nbformat_minor": 2
}
