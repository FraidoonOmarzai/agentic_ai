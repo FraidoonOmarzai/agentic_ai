{
 "cells": [
  {
   "cell_type": "markdown",
   "metadata": {},
   "source": [
    "<h1 align=center>Dr Appointments</h1>"
   ]
  },
  {
   "cell_type": "markdown",
   "metadata": {},
   "source": [
    "`Targets: `\n",
    "- Storing data in mongodb atlas\n",
    "- Running ETL Pipeline\n",
    "- Adding human in loop to the project"
   ]
  },
  {
   "cell_type": "code",
   "execution_count": 202,
   "metadata": {},
   "outputs": [],
   "source": [
    "import os\n",
    "from dotenv import load_dotenv\n",
    "load_dotenv()\n",
    "\n",
    "\n",
    "from pydantic import BaseModel, Field, field_validator\n",
    "import re\n",
    "import pandas as pd\n",
    "from typing import  Literal,List,Any\n",
    "\n",
    "from langchain_core.tools import tool\n",
    "from typing_extensions import TypedDict, Annotated\n",
    "from langgraph.graph.message import add_messages\n",
    "from langgraph.types import Command\n",
    "from langgraph.graph import START, StateGraph,END\n",
    "from langchain_core.messages import HumanMessage,AIMessage\n",
    "from langchain_core.prompts.chat import ChatPromptTemplate\n",
    "from langgraph.prebuilt import create_react_agent\n",
    "\n"
   ]
  },
  {
   "cell_type": "code",
   "execution_count": 203,
   "metadata": {},
   "outputs": [],
   "source": [
    "# os.environ[\"GROQ_API_KEY\"]= os.getenv(\"GROQ_API_KEY\")\n",
    "# os.environ[\"TAVILY_API_KEY\"] = os.getenv(\"TAVILY_API_KEY\")"
   ]
  },
  {
   "cell_type": "code",
   "execution_count": 204,
   "metadata": {},
   "outputs": [],
   "source": [
    "# from langchain_groq import ChatGroq\n",
    "\n",
    "# llm=ChatGroq(model_name=\"deepseek-r1-distill-llama-70b\")"
   ]
  },
  {
   "cell_type": "code",
   "execution_count": 205,
   "metadata": {},
   "outputs": [],
   "source": [
    "# results = llm.invoke(\"tell me about groq in a sentence\")\n",
    "# print(results.content)"
   ]
  },
  {
   "cell_type": "code",
   "execution_count": 206,
   "metadata": {},
   "outputs": [
    {
     "name": "stdout",
     "output_type": "stream",
     "text": [
      "<think>\n",
      "Okay, so I need to tell me about Groq in a sentence. Hmm, I'm not familiar with Groq, so I should probably start by figuring out what it is. Maybe it's a company or a product? Let me think... I remember hearing something about AI chips or hardware. Perhaps Groq is related to that.\n",
      "\n",
      "I think Groq is a company that makes chips for AI. I recall that there are companies like NVIDIA and Google with their own AI accelerators, so maybe Groq is another player in that space. They might be known for high-performance chips. \n",
      "\n",
      "Wait, I think Groq was founded by some ex-Google employees. That could be a key point. They probably focus on machine learning and AI workloads, maybe for data centers or cloud computing. High efficiency or speed might be their selling point. \n",
      "\n",
      "I should check if they're known for any specific technology, like ASICs (Application-Specific Integrated Circuits). Yeah, I think they use custom silicon for their chips. Maybe they're competitors to TPU (Tensor Processing Units) from Google. \n",
      "\n",
      "So putting it all together, Groq is a company that designs high-performance chips for AI and machine learning, perhaps using custom ASICs, founded by people who used to work at Google. They aim to provide efficient solutions for data centers and cloud services, competing with other big names in the industry.\n",
      "\n",
      "I should make sure that's accurate. Let me see... Yes, Groq is indeed a company that makes AI chips, and they were founded by ex-Google engineers. They focus on high-performance and efficiency for machine learning workloads, so that fits. \n",
      "\n",
      "So, a concise sentence would mention that Groq is a company that designs high-performance chips for AI and machine learning, founded by former Google employees, using custom ASICs, and competes with the likes of NVIDIA and Google in the AI hardware space.\n",
      "</think>\n",
      "\n",
      "Groq is a company that designs high-performance chips for AI and machine learning, founded by former Google employees, utilizing custom ASICs to compete with industry leaders like NVIDIA and Google in the AI hardware sector.\n"
     ]
    }
   ],
   "source": [
    "import os\n",
    "from dotenv import load_dotenv\n",
    "from langchain_groq import ChatGroq\n",
    "\n",
    "# Load environment variables from .env file\n",
    "load_dotenv()\n",
    "\n",
    "# Retrieve the API key safely\n",
    "groq_api_key = os.getenv(\"GROQ_API_KEY\")\n",
    "if not groq_api_key:\n",
    "    raise ValueError(\"GROQ_API_KEY not found in environment variables.\")\n",
    "\n",
    "# Set the environment variable (optional depending on how ChatGroq uses it)\n",
    "os.environ[\"GROQ_API_KEY\"] = groq_api_key\n",
    "\n",
    "# Initialize the LLM\n",
    "llm = ChatGroq(model_name=\"deepseek-r1-distill-llama-70b\")\n",
    "\n",
    "# Invoke a test query\n",
    "response = llm.invoke(\"Tell me about Groq in a sentence.\")\n",
    "print(response.content)"
   ]
  },
  {
   "cell_type": "code",
   "execution_count": 207,
   "metadata": {},
   "outputs": [
    {
     "data": {
      "text/plain": [
       "AIMessage(content='Hello! How can I assist you today?', additional_kwargs={'refusal': None}, response_metadata={'token_usage': {'completion_tokens': 9, 'prompt_tokens': 8, 'total_tokens': 17, 'completion_tokens_details': {'accepted_prediction_tokens': 0, 'audio_tokens': 0, 'reasoning_tokens': 0, 'rejected_prediction_tokens': 0}, 'prompt_tokens_details': {'audio_tokens': 0, 'cached_tokens': 0}}, 'model_name': 'gpt-4o-2024-08-06', 'system_fingerprint': 'fp_55d88aaf2f', 'id': 'chatcmpl-Bj9GKr8A3Wue5VG7UTVGQvkhcFzqF', 'finish_reason': 'stop', 'logprobs': None}, id='run--b30f8152-a54a-46ac-8485-f7f18147ba0c-0', usage_metadata={'input_tokens': 8, 'output_tokens': 9, 'total_tokens': 17, 'input_token_details': {'audio': 0, 'cache_read': 0}, 'output_token_details': {'audio': 0, 'reasoning': 0}})"
      ]
     },
     "execution_count": 207,
     "metadata": {},
     "output_type": "execute_result"
    }
   ],
   "source": [
    "from langchain_openai import ChatOpenAI\n",
    "\n",
    "OPENAI_API_KEY=os.getenv(\"OPENAI_API_KEY\")\n",
    "\n",
    "openai_model=ChatOpenAI(model=\"gpt-4o\")\n",
    "openai_model.invoke(\"hi\")"
   ]
  },
  {
   "cell_type": "code",
   "execution_count": 208,
   "metadata": {},
   "outputs": [],
   "source": [
    "import re\n",
    "from pydantic import BaseModel, Field, field_validator\n",
    "\n",
    "\n",
    "class DateTimeModel(BaseModel):\n",
    "    date: str = Field(\n",
    "        description=\"Properly formatted datetime\",\n",
    "        pattern=r'^\\d{2}-\\d{2}-\\d{4} \\d{2}:\\d{2}$'\n",
    "    )\n",
    "\n",
    "    @field_validator(\"date\")\n",
    "    def check_format_date(cls, v: str) -> str:\n",
    "        if not re.match(r'^\\d{2}-\\d{2}-\\d{4} \\d{2}:\\d{2}$', v):\n",
    "            raise ValueError(\"The date must be in the format 'DD-MM-YYYY HH:MM'\")\n",
    "        return v\n",
    "\n",
    "\n",
    "class DateModel(BaseModel):\n",
    "    date: str = Field(\n",
    "        description=\"Properly formatted date\",\n",
    "        pattern=r'^\\d{2}-\\d{2}-\\d{4}$'\n",
    "    )\n",
    "\n",
    "    @field_validator(\"date\")\n",
    "    def check_format_date(cls, v: str) -> str:\n",
    "        if not re.match(r'^\\d{2}-\\d{2}-\\d{4}$', v):\n",
    "            raise ValueError(\"The date must be in the format 'DD-MM-YYYY'\")\n",
    "        return v\n",
    "\n",
    "\n",
    "class IdentificationNumberModel(BaseModel):\n",
    "    id: int = Field(description=\"Identification number (7 or 8 digits)\")\n",
    "\n",
    "    @field_validator(\"id\")\n",
    "    def check_format_id(cls, v: int) -> int:\n",
    "        if not re.match(r'^\\d{7,8}$', str(v)):\n",
    "            raise ValueError(\"The ID must be a 7 or 8-digit number.\")\n",
    "        return v\n"
   ]
  },
  {
   "cell_type": "code",
   "execution_count": 209,
   "metadata": {},
   "outputs": [],
   "source": [
    "# class DateTimeModel(BaseModel):\n",
    "#     date: str = Field(description=\"Properly formatted date\", pattern=r'^\\d{2}-\\d{2}-\\d{4} \\d{2}:\\d{2}$')\n",
    "\n",
    "#     @field_validator(\"date\")\n",
    "#     def check_format_date(cls, v):\n",
    "#         if not re.match(r'^\\d{2}-\\d{2}-\\d{4} \\d{2}:\\d{2}$', v):  # Ensures 'DD-MM-YYYY HH:MM' format\n",
    "#             raise ValueError(\"The date should be in format 'DD-MM-YYYY HH:MM'\")\n",
    "#         return v"
   ]
  },
  {
   "cell_type": "code",
   "execution_count": 210,
   "metadata": {},
   "outputs": [],
   "source": [
    "# class DateModel(BaseModel):\n",
    "#     date: str = Field(description=\"Properly formatted date\", pattern=r'^\\d{2}-\\d{2}-\\d{4}$')\n",
    "\n",
    "#     @field_validator(\"date\")\n",
    "#     def check_format_date(cls, v):\n",
    "#         if not re.match(r'^\\d{2}-\\d{2}-\\d{4}$', v):  # Ensures DD-MM-YYYY format\n",
    "#             raise ValueError(\"The date must be in the format 'DD-MM-YYYY'\")\n",
    "#         return v"
   ]
  },
  {
   "cell_type": "code",
   "execution_count": 211,
   "metadata": {},
   "outputs": [],
   "source": [
    "# class IdentificationNumberModel(BaseModel):\n",
    "#     id: int = Field(description=\"Identification number (7 or 8 digits long)\")\n",
    "#     @field_validator(\"id\")\n",
    "#     def check_format_id(cls, v):\n",
    "#         if not re.match(r'^\\d{7,8}$', str(v)):  # Convert to string before matching\n",
    "#             raise ValueError(\"The ID number should be a 7 or 8-digit number\")\n",
    "#         return v"
   ]
  },
  {
   "cell_type": "code",
   "execution_count": 212,
   "metadata": {},
   "outputs": [
    {
     "name": "stdout",
     "output_type": "stream",
     "text": [
      "date='22-12-2023 09:45'\n",
      "date='03-09-2024'\n",
      "id=78797516\n"
     ]
    }
   ],
   "source": [
    "print(DateTimeModel(date=\"22-12-2023 09:45\"))\n",
    "\n",
    "print(DateModel(date=\"03-09-2024\"))\n",
    "\n",
    "print(IdentificationNumberModel(id=\"78797516\"))"
   ]
  },
  {
   "cell_type": "code",
   "execution_count": 213,
   "metadata": {},
   "outputs": [
    {
     "name": "stdout",
     "output_type": "stream",
     "text": [
      "✅ Data loaded successfully. Here's a preview:\n"
     ]
    },
    {
     "data": {
      "text/html": [
       "<div>\n",
       "<style scoped>\n",
       "    .dataframe tbody tr th:only-of-type {\n",
       "        vertical-align: middle;\n",
       "    }\n",
       "\n",
       "    .dataframe tbody tr th {\n",
       "        vertical-align: top;\n",
       "    }\n",
       "\n",
       "    .dataframe thead th {\n",
       "        text-align: right;\n",
       "    }\n",
       "</style>\n",
       "<table border=\"1\" class=\"dataframe\">\n",
       "  <thead>\n",
       "    <tr style=\"text-align: right;\">\n",
       "      <th></th>\n",
       "      <th>date_slot</th>\n",
       "      <th>specialization</th>\n",
       "      <th>doctor_name</th>\n",
       "      <th>is_available</th>\n",
       "      <th>patient_to_attend</th>\n",
       "    </tr>\n",
       "  </thead>\n",
       "  <tbody>\n",
       "    <tr>\n",
       "      <th>0</th>\n",
       "      <td>05-08-2024 08:00</td>\n",
       "      <td>general_dentist</td>\n",
       "      <td>john doe</td>\n",
       "      <td>False</td>\n",
       "      <td>1000082.0</td>\n",
       "    </tr>\n",
       "    <tr>\n",
       "      <th>1</th>\n",
       "      <td>05-08-2024 08:30</td>\n",
       "      <td>general_dentist</td>\n",
       "      <td>john doe</td>\n",
       "      <td>False</td>\n",
       "      <td>1000082.0</td>\n",
       "    </tr>\n",
       "    <tr>\n",
       "      <th>2</th>\n",
       "      <td>05-08-2024 09:00</td>\n",
       "      <td>general_dentist</td>\n",
       "      <td>john doe</td>\n",
       "      <td>False</td>\n",
       "      <td>1000048.0</td>\n",
       "    </tr>\n",
       "    <tr>\n",
       "      <th>3</th>\n",
       "      <td>05-08-2024 09:30</td>\n",
       "      <td>general_dentist</td>\n",
       "      <td>john doe</td>\n",
       "      <td>False</td>\n",
       "      <td>1000036.0</td>\n",
       "    </tr>\n",
       "    <tr>\n",
       "      <th>4</th>\n",
       "      <td>05-08-2024 10:00</td>\n",
       "      <td>general_dentist</td>\n",
       "      <td>john doe</td>\n",
       "      <td>False</td>\n",
       "      <td>1000024.0</td>\n",
       "    </tr>\n",
       "  </tbody>\n",
       "</table>\n",
       "</div>"
      ],
      "text/plain": [
       "          date_slot   specialization doctor_name  is_available  \\\n",
       "0  05-08-2024 08:00  general_dentist    john doe         False   \n",
       "1  05-08-2024 08:30  general_dentist    john doe         False   \n",
       "2  05-08-2024 09:00  general_dentist    john doe         False   \n",
       "3  05-08-2024 09:30  general_dentist    john doe         False   \n",
       "4  05-08-2024 10:00  general_dentist    john doe         False   \n",
       "\n",
       "   patient_to_attend  \n",
       "0          1000082.0  \n",
       "1          1000082.0  \n",
       "2          1000048.0  \n",
       "3          1000036.0  \n",
       "4          1000024.0  "
      ]
     },
     "metadata": {},
     "output_type": "display_data"
    }
   ],
   "source": [
    "import pandas as pd\n",
    "\n",
    "# Load the CSV into a DataFrame\n",
    "try:\n",
    "    df = pd.read_csv(\"availability.csv\")\n",
    "    print(\"✅ Data loaded successfully. Here's a preview:\")\n",
    "    display(df.head())  # Use display() in Jupyter\n",
    "except FileNotFoundError:\n",
    "    print(\"❌ Error: 'availability.csv' file not found.\")\n",
    "except pd.errors.ParserError:\n",
    "    print(\"❌ Error: Problem parsing 'availability.csv'. Check formatting.\")\n"
   ]
  },
  {
   "cell_type": "code",
   "execution_count": 214,
   "metadata": {},
   "outputs": [
    {
     "data": {
      "text/plain": [
       "[{'date_slot': '05-08-2024 08:00',\n",
       "  'specialization': 'general_dentist',\n",
       "  'doctor_name': 'john doe',\n",
       "  'is_available': False,\n",
       "  'patient_to_attend': 1000082.0},\n",
       " {'date_slot': '05-08-2024 08:30',\n",
       "  'specialization': 'general_dentist',\n",
       "  'doctor_name': 'john doe',\n",
       "  'is_available': False,\n",
       "  'patient_to_attend': 1000082.0}]"
      ]
     },
     "execution_count": 214,
     "metadata": {},
     "output_type": "execute_result"
    }
   ],
   "source": [
    "import json\n",
    "\n",
    "records=list(json.loads(df.T.to_json()).values())\n",
    "records[:2]"
   ]
  },
  {
   "cell_type": "code",
   "execution_count": 215,
   "metadata": {},
   "outputs": [
    {
     "data": {
      "text/html": [
       "<div>\n",
       "<style scoped>\n",
       "    .dataframe tbody tr th:only-of-type {\n",
       "        vertical-align: middle;\n",
       "    }\n",
       "\n",
       "    .dataframe tbody tr th {\n",
       "        vertical-align: top;\n",
       "    }\n",
       "\n",
       "    .dataframe thead th {\n",
       "        text-align: right;\n",
       "    }\n",
       "</style>\n",
       "<table border=\"1\" class=\"dataframe\">\n",
       "  <thead>\n",
       "    <tr style=\"text-align: right;\">\n",
       "      <th></th>\n",
       "      <th>date_slot</th>\n",
       "      <th>specialization</th>\n",
       "      <th>doctor_name</th>\n",
       "      <th>is_available</th>\n",
       "      <th>patient_to_attend</th>\n",
       "    </tr>\n",
       "  </thead>\n",
       "  <tbody>\n",
       "    <tr>\n",
       "      <th>0</th>\n",
       "      <td>05-08-2024 08:00</td>\n",
       "      <td>general_dentist</td>\n",
       "      <td>john doe</td>\n",
       "      <td>False</td>\n",
       "      <td>1000082.0</td>\n",
       "    </tr>\n",
       "    <tr>\n",
       "      <th>1</th>\n",
       "      <td>05-08-2024 08:30</td>\n",
       "      <td>general_dentist</td>\n",
       "      <td>john doe</td>\n",
       "      <td>False</td>\n",
       "      <td>1000082.0</td>\n",
       "    </tr>\n",
       "  </tbody>\n",
       "</table>\n",
       "</div>"
      ],
      "text/plain": [
       "          date_slot   specialization doctor_name  is_available  \\\n",
       "0  05-08-2024 08:00  general_dentist    john doe         False   \n",
       "1  05-08-2024 08:30  general_dentist    john doe         False   \n",
       "\n",
       "   patient_to_attend  \n",
       "0          1000082.0  \n",
       "1          1000082.0  "
      ]
     },
     "execution_count": 215,
     "metadata": {},
     "output_type": "execute_result"
    }
   ],
   "source": [
    "pd.DataFrame(list(records))[:2]"
   ]
  },
  {
   "cell_type": "code",
   "execution_count": 216,
   "metadata": {},
   "outputs": [
    {
     "data": {
      "text/plain": [
       "0       08:00\n",
       "1       08:30\n",
       "2       09:00\n",
       "3       09:30\n",
       "4       10:00\n",
       "        ...  \n",
       "4275    14:30\n",
       "4276    15:00\n",
       "4277    15:30\n",
       "4278    16:00\n",
       "4279    16:30\n",
       "Name: time, Length: 4280, dtype: object"
      ]
     },
     "execution_count": 216,
     "metadata": {},
     "output_type": "execute_result"
    }
   ],
   "source": [
    "df['time'] = df['date_slot'].apply(lambda input: input.split(' ')[-1])\n",
    "df.time"
   ]
  },
  {
   "cell_type": "code",
   "execution_count": 217,
   "metadata": {},
   "outputs": [
    {
     "data": {
      "text/plain": [
       "0       05-08-2024\n",
       "1       05-08-2024\n",
       "2       05-08-2024\n",
       "3       05-08-2024\n",
       "4       05-08-2024\n",
       "           ...    \n",
       "4275    03-09-2024\n",
       "4276    03-09-2024\n",
       "4277    03-09-2024\n",
       "4278    03-09-2024\n",
       "4279    03-09-2024\n",
       "Name: date_slot, Length: 4280, dtype: object"
      ]
     },
     "execution_count": 217,
     "metadata": {},
     "output_type": "execute_result"
    }
   ],
   "source": [
    "dates = df['date_slot'].apply(lambda input: input.split(' ')[0])\n",
    "dates"
   ]
  },
  {
   "cell_type": "code",
   "execution_count": 218,
   "metadata": {},
   "outputs": [
    {
     "data": {
      "text/plain": [
       "['08:00',\n",
       " '08:30',\n",
       " '09:00',\n",
       " '09:30',\n",
       " '10:00',\n",
       " '10:30',\n",
       " '11:00',\n",
       " '11:30',\n",
       " '12:00',\n",
       " '12:30',\n",
       " '13:00',\n",
       " '13:30',\n",
       " '14:00',\n",
       " '14:30',\n",
       " '15:00',\n",
       " '15:30',\n",
       " '16:00',\n",
       " '16:30']"
      ]
     },
     "execution_count": 218,
     "metadata": {},
     "output_type": "execute_result"
    }
   ],
   "source": [
    "df[(dates == \"05-08-2024\")&(df.doctor_name == \"john doe\")&(df.is_available == False)]['time'].tolist()"
   ]
  },
  {
   "cell_type": "code",
   "execution_count": 219,
   "metadata": {},
   "outputs": [
    {
     "data": {
      "text/plain": [
       "[]"
      ]
     },
     "execution_count": 219,
     "metadata": {},
     "output_type": "execute_result"
    }
   ],
   "source": [
    "(df[(dates == \"05-08-2024\") & (df.doctor_name == \"john doe\") & (df.is_available == True)]['time']).tolist()"
   ]
  },
  {
   "cell_type": "code",
   "execution_count": 220,
   "metadata": {},
   "outputs": [],
   "source": [
    "# @tool\n",
    "# def check_availability_by_doctor(desired_date:DateModel, doctor_name:Literal['kevin anderson','robert martinez','susan davis','daniel miller','sarah wilson','michael green','lisa brown','jane smith','emily johnson','john doe']):\n",
    "#     \"\"\"\n",
    "#     Checking the database if we have availability for the specific doctor.\n",
    "#     The parameters should be mentioned by the user in the query\n",
    "#     \"\"\"\n",
    "#     df = pd.read_csv(r\"availability.csv\")\n",
    "    \n",
    "#     df['date_slot_time'] = df['date_slot'].apply(lambda input: input.split(' ')[-1])\n",
    "    \n",
    "#     rows = list(df[(df['date_slot'].apply(lambda input: input.split(' ')[0]) == desired_date.date)&(df['doctor_name'] == doctor_name)&(df['is_available'] == True)]['date_slot_time'])\n",
    "\n",
    "#     if len(rows) == 0:\n",
    "#         output = \"No availability in the entire day\"\n",
    "#     else:\n",
    "#         output = f'This availability for {desired_date.date}\\n'\n",
    "#         output += \"Available slots: \" + ', '.join(rows)\n",
    "\n",
    "#     return output"
   ]
  },
  {
   "cell_type": "code",
   "execution_count": 221,
   "metadata": {},
   "outputs": [],
   "source": [
    "from typing import Literal\n",
    "import pandas as pd\n",
    "from langchain.tools import tool\n",
    "\n",
    "\n",
    "@tool\n",
    "def check_availability_by_doctor(\n",
    "    desired_date: DateModel,\n",
    "    doctor_name: Literal[\n",
    "        'kevin anderson', 'robert martinez', 'susan davis',\n",
    "        'daniel miller', 'sarah wilson', 'michael green',\n",
    "        'lisa brown', 'jane smith', 'emily johnson', 'john doe'\n",
    "    ]\n",
    ") -> str:\n",
    "    \"\"\"\n",
    "    Check availability for a specific doctor on a given date.\n",
    "    \"\"\"\n",
    "    try:\n",
    "        df = pd.read_csv(\"availability.csv\")\n",
    "    except FileNotFoundError:\n",
    "        return \"Availability database not found.\"\n",
    "\n",
    "    # Filter rows where date matches and doctor is available\n",
    "    df['date'] = df['date_slot'].apply(lambda x: x.split(' ')[0])\n",
    "    df['time'] = df['date_slot'].apply(lambda x: x.split(' ')[1])\n",
    "\n",
    "    available_slots = df[\n",
    "        (df['date'] == desired_date.date) &\n",
    "        (df['doctor_name'].str.lower() == doctor_name.lower()) &\n",
    "        (df['is_available'] == True)\n",
    "    ]['time'].tolist()\n",
    "\n",
    "    if not available_slots:\n",
    "        return f\"No availability for Dr. {doctor_name.title()} on {desired_date.date}.\"\n",
    "    \n",
    "    return (\n",
    "        f\"✅ Availability for Dr. {doctor_name.title()} on {desired_date.date}:\\n\"\n",
    "        f\"🕒 Available time slots: {', '.join(available_slots)}\"\n",
    "    )\n"
   ]
  },
  {
   "cell_type": "code",
   "execution_count": 222,
   "metadata": {},
   "outputs": [
    {
     "name": "stdout",
     "output_type": "stream",
     "text": [
      "✅ Availability for Dr. Kevin Anderson on 03-09-2024:\n",
      "🕒 Available time slots: 12:30, 14:00, 14:30, 15:00\n"
     ]
    }
   ],
   "source": [
    "print(\n",
    "    check_availability_by_doctor.invoke({\n",
    "        \"desired_date\": DateModel(date=\"03-09-2024\"),\n",
    "        \"doctor_name\": \"kevin anderson\"\n",
    "    })\n",
    ")"
   ]
  },
  {
   "cell_type": "code",
   "execution_count": 223,
   "metadata": {},
   "outputs": [],
   "source": [
    "# @tool\n",
    "# def check_availability_by_specialization(desired_date:DateModel, specialization:Literal[\"general_dentist\", \"cosmetic_dentist\", \"prosthodontist\", \"pediatric_dentist\",\"emergency_dentist\",\"oral_surgeon\",\"orthodontist\"]):\n",
    "#     \"\"\"\n",
    "#     Checking the database if we have availability for the specific specialization.\n",
    "#     The parameters should be mentioned by the user in the query\n",
    "#     \"\"\"\n",
    "#     #Dummy data\n",
    "#     df = pd.read_csv(r\"availability.csv\")\n",
    "#     df['date_slot_time'] = df['date_slot'].apply(lambda input: input.split(' ')[-1])\n",
    "#     rows = df[(df['date_slot'].apply(lambda input: input.split(' ')[0]) == desired_date.date) & (df['specialization'] == specialization) & (df['is_available'] == True)].groupby(['specialization', 'doctor_name'])['date_slot_time'].apply(list).reset_index(name='available_slots')\n",
    "\n",
    "#     if len(rows) == 0:\n",
    "#         output = \"No availability in the entire day\"\n",
    "#     else:\n",
    "#         def convert_to_am_pm(time_str):\n",
    "#             # Split the time string into hours and minutes\n",
    "#             time_str = str(time_str)\n",
    "#             hours, minutes = map(int, time_str.split(\":\"))\n",
    "            \n",
    "#             # Determine AM or PM\n",
    "#             period = \"AM\" if hours < 12 else \"PM\"\n",
    "            \n",
    "#             # Convert hours to 12-hour format\n",
    "#             hours = hours % 12 or 12\n",
    "            \n",
    "#             # Format the output\n",
    "#             return f\"{hours}:{minutes:02d} {period}\"\n",
    "#         output = f'This availability for {desired_date.date}\\n'\n",
    "#         for row in rows.values:\n",
    "#             output += row[1] + \". Available slots: \\n\" + ', \\n'.join([convert_to_am_pm(value)for value in row[2]])+'\\n'\n",
    "\n",
    "#     return output"
   ]
  },
  {
   "cell_type": "code",
   "execution_count": 224,
   "metadata": {},
   "outputs": [],
   "source": [
    "@tool\n",
    "def check_availability_by_specialization(\n",
    "    desired_date: DateModel,\n",
    "    specialization: Literal[\n",
    "        \"general_dentist\", \"cosmetic_dentist\", \"prosthodontist\",\n",
    "        \"pediatric_dentist\", \"emergency_dentist\", \"oral_surgeon\", \"orthodontist\"\n",
    "    ]\n",
    ") -> str:\n",
    "    \"\"\"\n",
    "    Check availability for a specific specialization on a given date.\n",
    "    \"\"\"\n",
    "    try:\n",
    "        df = pd.read_csv(\"availability.csv\")\n",
    "    except FileNotFoundError:\n",
    "        return \"Availability database not found.\"\n",
    "\n",
    "    # Extract date and time parts once\n",
    "    df['date'] = df['date_slot'].apply(lambda x: x.split(' ')[0])\n",
    "    df['time'] = df['date_slot'].apply(lambda x: x.split(' ')[1])\n",
    "\n",
    "    # Filter rows matching date, specialization, and availability\n",
    "    filtered = df[\n",
    "        (df['date'] == desired_date.date) &\n",
    "        (df['specialization'] == specialization) &\n",
    "        (df['is_available'] == True)\n",
    "    ]\n",
    "\n",
    "    if filtered.empty:\n",
    "        return f\"No availability for specialization '{specialization}' on {desired_date.date}.\"\n",
    "\n",
    "    # Group by doctor_name and aggregate time slots\n",
    "    grouped = filtered.groupby('doctor_name')['time'].apply(list).reset_index()\n",
    "\n",
    "    def convert_to_am_pm(time_str: str) -> str:\n",
    "        hours, minutes = map(int, time_str.split(\":\"))\n",
    "        period = \"AM\" if hours < 12 else \"PM\"\n",
    "        hours = hours % 12 or 12\n",
    "        return f\"{hours}:{minutes:02d} {period}\"\n",
    "\n",
    "    output = f\"✅ Availability for specialization '{specialization}' on {desired_date.date}:\\n\"\n",
    "    for _, row in grouped.iterrows():\n",
    "        doctor = row['doctor_name'].title()\n",
    "        slots = ', '.join(convert_to_am_pm(t) for t in row['time'])\n",
    "        output += f\"- Dr. {doctor}: {slots}\\n\"\n",
    "\n",
    "    return output\n"
   ]
  },
  {
   "cell_type": "code",
   "execution_count": 225,
   "metadata": {},
   "outputs": [
    {
     "name": "stdout",
     "output_type": "stream",
     "text": [
      "✅ Availability for specialization 'orthodontist' on 03-09-2024:\n",
      "- Dr. Kevin Anderson: 12:30 PM, 2:00 PM, 2:30 PM, 3:00 PM\n",
      "\n"
     ]
    }
   ],
   "source": [
    "print(\n",
    "    check_availability_by_specialization.invoke({\n",
    "        \"desired_date\": DateModel(date=\"03-09-2024\"),\n",
    "        \"specialization\": \"orthodontist\"\n",
    "    })\n",
    ")\n"
   ]
  },
  {
   "cell_type": "code",
   "execution_count": 226,
   "metadata": {},
   "outputs": [],
   "source": [
    "# @tool\n",
    "# def set_appointment(desired_date:DateTimeModel, id_number:IdentificationNumberModel, doctor_name:Literal['kevin anderson','robert martinez','susan davis','daniel miller','sarah wilson','michael green','lisa brown','jane smith','emily johnson','john doe']):\n",
    "#     \"\"\"\n",
    "#     Set appointment or slot with the doctor.\n",
    "#     The parameters MUST be mentioned by the user in the query.\n",
    "#     \"\"\"\n",
    "#     df = pd.read_csv(r\"availability.csv\")\n",
    "   \n",
    "#     from datetime import datetime\n",
    "#     def convert_datetime_format(dt_str): ######## not used\n",
    "#         # Parse the input datetime string\n",
    "#         #dt = datetime.strptime(dt_str, \"%Y-%m-%d %H:%M\")\n",
    "#         dt = datetime.strptime(dt_str, \"%d-%m-%Y %H:%M\")\n",
    "        \n",
    "#         # Format the output as 'DD-MM-YYYY H.M' (removing leading zero from hour only)\n",
    "#         return dt.strftime(\"%d-%m-%Y %#H.%M\")\n",
    "    \n",
    "#     # case = df[(df['date_slot'] == convert_datetime_format(desired_date.date))&(df['doctor_name'] == doctor_name)&(df['is_available'] == True)]\n",
    "#     case = df[(df['date_slot'] == desired_date.date)&(df['doctor_name'] == doctor_name)&(df['is_available'] == True)]\n",
    "    \n",
    "#     if len(case) == 0:\n",
    "#         return \"No available appointments for that particular case\"\n",
    "#     else:\n",
    "#         # df.loc[(df['date_slot'] == convert_datetime_format(desired_date.date))&(df['doctor_name'] == doctor_name) & (df['is_available'] == True), ['is_available','patient_to_attend']] = [False, id_number.id]\n",
    "#         df.loc[(df['date_slot'] == desired_date.date)&(df['doctor_name'] == doctor_name) & (df['is_available'] == True), ['is_available','patient_to_attend']] = [False, id_number.id]\n",
    "        \n",
    "#         df.to_csv(f\"availability.csv\", index = False)\n",
    "\n",
    "#         return \"Succesfully done\"\n",
    "    "
   ]
  },
  {
   "cell_type": "code",
   "execution_count": 227,
   "metadata": {},
   "outputs": [],
   "source": [
    "@tool\n",
    "def set_appointment(\n",
    "    desired_date: DateTimeModel,\n",
    "    id_number: IdentificationNumberModel,\n",
    "    doctor_name: Literal[\n",
    "        'kevin anderson', 'robert martinez', 'susan davis', 'daniel miller',\n",
    "        'sarah wilson', 'michael green', 'lisa brown', 'jane smith',\n",
    "        'emily johnson', 'john doe'\n",
    "    ]\n",
    ") -> str:\n",
    "    \"\"\"\n",
    "    Set an appointment slot with the doctor if available.\n",
    "    \"\"\"\n",
    "    try:\n",
    "        df = pd.read_csv(\"availability.csv\")\n",
    "    except FileNotFoundError:\n",
    "        return \"Availability database not found.\"\n",
    "\n",
    "    # The 'date_slot' column format is assumed to be \"DD-MM-YYYY HH:MM\"\n",
    "    # Make sure your desired_date.date is in that exact format.\n",
    "\n",
    "    # Filter available slots matching the date_slot and doctor\n",
    "    matching_rows = df[\n",
    "        (df['date_slot'] == desired_date.date) &\n",
    "        (df['doctor_name'].str.lower() == doctor_name.lower()) &\n",
    "        (df['is_available'] == True)\n",
    "    ]\n",
    "\n",
    "    if matching_rows.empty:\n",
    "        return f\"No available appointments for Dr. {doctor_name.title()} at {desired_date.date}.\"\n",
    "\n",
    "    # Update the first available slot found\n",
    "    index_to_update = matching_rows.index[0]\n",
    "    df.loc[index_to_update, 'is_available'] = False\n",
    "    df.loc[index_to_update, 'patient_to_attend'] = id_number.id\n",
    "\n",
    "    # Save the updated availability back to CSV\n",
    "    df.to_csv(\"availability.csv\", index=False)\n",
    "\n",
    "    return f\"Appointment successfully booked with Dr. {doctor_name.title()} on {desired_date.date}.\"\n"
   ]
  },
  {
   "cell_type": "code",
   "execution_count": 228,
   "metadata": {},
   "outputs": [
    {
     "data": {
      "text/html": [
       "<div>\n",
       "<style scoped>\n",
       "    .dataframe tbody tr th:only-of-type {\n",
       "        vertical-align: middle;\n",
       "    }\n",
       "\n",
       "    .dataframe tbody tr th {\n",
       "        vertical-align: top;\n",
       "    }\n",
       "\n",
       "    .dataframe thead th {\n",
       "        text-align: right;\n",
       "    }\n",
       "</style>\n",
       "<table border=\"1\" class=\"dataframe\">\n",
       "  <thead>\n",
       "    <tr style=\"text-align: right;\">\n",
       "      <th></th>\n",
       "      <th>date_slot</th>\n",
       "      <th>specialization</th>\n",
       "      <th>doctor_name</th>\n",
       "      <th>is_available</th>\n",
       "      <th>patient_to_attend</th>\n",
       "      <th>time</th>\n",
       "    </tr>\n",
       "  </thead>\n",
       "  <tbody>\n",
       "    <tr>\n",
       "      <th>4262</th>\n",
       "      <td>03-09-2024 08:00</td>\n",
       "      <td>orthodontist</td>\n",
       "      <td>kevin anderson</td>\n",
       "      <td>False</td>\n",
       "      <td>1111223.0</td>\n",
       "      <td>08:00</td>\n",
       "    </tr>\n",
       "  </tbody>\n",
       "</table>\n",
       "</div>"
      ],
      "text/plain": [
       "             date_slot specialization     doctor_name  is_available  \\\n",
       "4262  03-09-2024 08:00   orthodontist  kevin anderson         False   \n",
       "\n",
       "      patient_to_attend   time  \n",
       "4262          1111223.0  08:00  "
      ]
     },
     "execution_count": 228,
     "metadata": {},
     "output_type": "execute_result"
    }
   ],
   "source": [
    "df[(df.date_slot == \"03-09-2024 08:00\")&(df.doctor_name==\"kevin anderson\")]"
   ]
  },
  {
   "cell_type": "code",
   "execution_count": 229,
   "metadata": {},
   "outputs": [
    {
     "name": "stdout",
     "output_type": "stream",
     "text": [
      "No available appointments for Dr. Kevin Anderson at 03-09-2024 08:00.\n"
     ]
    }
   ],
   "source": [
    "Date = DateTimeModel(date=\"03-09-2024 08:00\")\n",
    "IDNumber = IdentificationNumberModel(id=1111223)  # id as int\n",
    "\n",
    "print(\n",
    "    set_appointment.invoke({\n",
    "        \"desired_date\": Date,\n",
    "        \"id_number\": IDNumber,\n",
    "        \"doctor_name\": \"kevin anderson\"\n",
    "    })\n",
    ")"
   ]
  },
  {
   "cell_type": "code",
   "execution_count": 230,
   "metadata": {},
   "outputs": [
    {
     "name": "stdout",
     "output_type": "stream",
     "text": [
      "No available appointments for Dr. Kevin Anderson at 03-09-2024 08:30.\n"
     ]
    }
   ],
   "source": [
    "Date = DateTimeModel(date=\"03-09-2024 08:30\")\n",
    "IDNumber = IdentificationNumberModel(id=1111111)  # id as int\n",
    "\n",
    "print(\n",
    "    set_appointment.invoke({\n",
    "        \"desired_date\": Date,\n",
    "        \"id_number\": IDNumber,\n",
    "        \"doctor_name\": \"kevin anderson\"\n",
    "    })\n",
    ")"
   ]
  },
  {
   "cell_type": "code",
   "execution_count": 231,
   "metadata": {},
   "outputs": [
    {
     "data": {
      "text/html": [
       "<div>\n",
       "<style scoped>\n",
       "    .dataframe tbody tr th:only-of-type {\n",
       "        vertical-align: middle;\n",
       "    }\n",
       "\n",
       "    .dataframe tbody tr th {\n",
       "        vertical-align: top;\n",
       "    }\n",
       "\n",
       "    .dataframe thead th {\n",
       "        text-align: right;\n",
       "    }\n",
       "</style>\n",
       "<table border=\"1\" class=\"dataframe\">\n",
       "  <thead>\n",
       "    <tr style=\"text-align: right;\">\n",
       "      <th></th>\n",
       "      <th>date_slot</th>\n",
       "      <th>specialization</th>\n",
       "      <th>doctor_name</th>\n",
       "      <th>is_available</th>\n",
       "      <th>patient_to_attend</th>\n",
       "      <th>time</th>\n",
       "    </tr>\n",
       "  </thead>\n",
       "  <tbody>\n",
       "    <tr>\n",
       "      <th>4262</th>\n",
       "      <td>03-09-2024 08:00</td>\n",
       "      <td>orthodontist</td>\n",
       "      <td>kevin anderson</td>\n",
       "      <td>False</td>\n",
       "      <td>1111223.0</td>\n",
       "      <td>08:00</td>\n",
       "    </tr>\n",
       "  </tbody>\n",
       "</table>\n",
       "</div>"
      ],
      "text/plain": [
       "             date_slot specialization     doctor_name  is_available  \\\n",
       "4262  03-09-2024 08:00   orthodontist  kevin anderson         False   \n",
       "\n",
       "      patient_to_attend   time  \n",
       "4262          1111223.0  08:00  "
      ]
     },
     "execution_count": 231,
     "metadata": {},
     "output_type": "execute_result"
    }
   ],
   "source": [
    "df[(df.date_slot == \"03-09-2024 08:00\")&(df.doctor_name==\"kevin anderson\")]"
   ]
  },
  {
   "cell_type": "code",
   "execution_count": 232,
   "metadata": {},
   "outputs": [],
   "source": [
    "# @tool\n",
    "# def cancel_appointment(date:DateTimeModel, id_number:IdentificationNumberModel, doctor_name:Literal['kevin anderson','robert martinez','susan davis','daniel miller','sarah wilson','michael green','lisa brown','jane smith','emily johnson','john doe']):\n",
    "#     \"\"\"\n",
    "#     Canceling an appointment.\n",
    "#     The parameters MUST be mentioned by the user in the query.\n",
    "#     \"\"\"\n",
    "#     df = pd.read_csv(r\"availability.csv\")\n",
    "#     case_to_remove = df[(df['date_slot'] == date.date)&(df['patient_to_attend'] == id_number.id)&(df['doctor_name'] == doctor_name)]\n",
    "#     if len(case_to_remove) == 0:\n",
    "#         return \"You don´t have any appointment with that specifications\"\n",
    "#     else:\n",
    "#         df.loc[(df['date_slot'] == date.date) & (df['patient_to_attend'] == id_number.id) & (df['doctor_name'] == doctor_name), ['is_available', 'patient_to_attend']] = [True, None]\n",
    "#         df.to_csv(f\"availability.csv\", index = False)\n",
    "\n",
    "#         return \"Successfully cancelled\""
   ]
  },
  {
   "cell_type": "code",
   "execution_count": 233,
   "metadata": {},
   "outputs": [],
   "source": [
    "import os\n",
    "\n",
    "@tool\n",
    "def cancel_appointment(\n",
    "    date: DateTimeModel,\n",
    "    id_number: IdentificationNumberModel,\n",
    "    doctor_name: Literal[\n",
    "        'kevin anderson', 'robert martinez', 'susan davis', 'daniel miller',\n",
    "        'sarah wilson', 'michael green', 'lisa brown', 'jane smith',\n",
    "        'emily johnson', 'john doe'\n",
    "    ]\n",
    ") -> str:\n",
    "    \"\"\"\n",
    "    Cancel an appointment.\n",
    "    The parameters MUST be mentioned by the user in the query.\n",
    "    \"\"\"\n",
    "    try:\n",
    "        csv_path = os.path.abspath(\"availability.csv\")\n",
    "        df = pd.read_csv(csv_path)\n",
    "    except FileNotFoundError:\n",
    "        return \"Availability database not found.\"\n",
    "\n",
    "    date_str = date.date.strip()\n",
    "    doctor_name_lower = doctor_name.lower().strip()\n",
    "\n",
    "    case_to_remove = df[\n",
    "        (df['date_slot'] == date_str) &\n",
    "        (df['patient_to_attend'] == id_number.id) &\n",
    "        (df['doctor_name'].str.lower().str.strip() == doctor_name_lower)\n",
    "    ]\n",
    "\n",
    "    if case_to_remove.empty:\n",
    "        return \"You don’t have any appointment with those specifications.\"\n",
    "\n",
    "    df.loc[\n",
    "        (df['date_slot'] == date_str) &\n",
    "        (df['patient_to_attend'] == id_number.id) &\n",
    "        (df['doctor_name'].str.lower().str.strip() == doctor_name_lower),\n",
    "        ['is_available', 'patient_to_attend']\n",
    "    ] = [True, None]\n",
    "\n",
    "    df.to_csv(csv_path, index=False)\n",
    "\n",
    "    return \"Successfully cancelled the appointment.\"\n"
   ]
  },
  {
   "cell_type": "code",
   "execution_count": 234,
   "metadata": {},
   "outputs": [
    {
     "name": "stdout",
     "output_type": "stream",
     "text": [
      "You don’t have any appointment with those specifications.\n"
     ]
    }
   ],
   "source": [
    "print(cancel_appointment.invoke({\n",
    "    \"date\": DateTimeModel(date=\"03-09-2024 08:30\"),\n",
    "    \"id_number\": IdentificationNumberModel(id=1111223), \n",
    "    \"doctor_name\": \"kevin anderson\"\n",
    "}))\n"
   ]
  },
  {
   "cell_type": "code",
   "execution_count": 235,
   "metadata": {},
   "outputs": [],
   "source": [
    "# ## Tools For Booking agent\n",
    "# @tool\n",
    "# def reschedule_appointment(old_date:DateTimeModel, new_date:DateTimeModel, id_number:IdentificationNumberModel, doctor_name:Literal['kevin anderson','robert martinez','susan davis','daniel miller','sarah wilson','michael green','lisa brown','jane smith','emily johnson','john doe']):\n",
    "#     \"\"\"\n",
    "#     Rescheduling an appointment.\n",
    "#     The parameters MUST be mentioned by the user in the query.\n",
    "#     \"\"\"\n",
    "#     #Dummy data\n",
    "#     df = pd.read_csv(r\"availability.csv\")\n",
    "#     available_for_desired_date = df[(df['date_slot'] == new_date.date)&(df['is_available'] == True)&(df['doctor_name'] == doctor_name)]\n",
    "#     if len(available_for_desired_date) == 0:\n",
    "#         return \"Not available slots in the desired period\"\n",
    "#     else:\n",
    "#         cancel_appointment.invoke({'date':old_date, 'id_number':id_number, 'doctor_name':doctor_name})\n",
    "#         set_appointment.invoke({'desired_date':new_date, 'id_number': id_number, 'doctor_name': doctor_name})\n",
    "#         return \"Successfully rescheduled for the desired time\""
   ]
  },
  {
   "cell_type": "code",
   "execution_count": 236,
   "metadata": {},
   "outputs": [],
   "source": [
    "@tool\n",
    "def reschedule_appointment(\n",
    "    old_date: DateTimeModel,\n",
    "    new_date: DateTimeModel,\n",
    "    id_number: IdentificationNumberModel,\n",
    "    doctor_name: Literal[\n",
    "        'kevin anderson', 'robert martinez', 'susan davis', 'daniel miller',\n",
    "        'sarah wilson', 'michael green', 'lisa brown', 'jane smith',\n",
    "        'emily johnson', 'john doe'\n",
    "    ]\n",
    ") -> str:\n",
    "    \"\"\"\n",
    "    Reschedule an appointment.\n",
    "    The parameters MUST be mentioned by the user in the query.\n",
    "    \"\"\"\n",
    "    csv_path = os.path.abspath(\"availability.csv\")\n",
    "    df = pd.read_csv(csv_path)\n",
    "    df['doctor_name_norm'] = df['doctor_name'].str.lower().str.strip()\n",
    "    doctor_name_norm = doctor_name.lower().strip()\n",
    "\n",
    "    available_for_desired_date = df[\n",
    "        (df['date_slot'] == new_date.date) &\n",
    "        (df['is_available'] == True) &\n",
    "        (df['doctor_name_norm'] == doctor_name_norm)\n",
    "    ]\n",
    "\n",
    "    if available_for_desired_date.empty:\n",
    "        return \"No available slots in the desired period.\"\n",
    "\n",
    "    # Call cancel and set appointment tools and capture their responses\n",
    "    cancel_response = cancel_appointment.invoke({\n",
    "        'date': old_date,\n",
    "        'id_number': id_number,\n",
    "        'doctor_name': doctor_name\n",
    "    })\n",
    "\n",
    "    set_response = set_appointment.invoke({\n",
    "        'desired_date': new_date,\n",
    "        'id_number': id_number,\n",
    "        'doctor_name': doctor_name\n",
    "    })\n",
    "\n",
    "    return f\"Reschedule result:\\nCancel: {cancel_response}\\nSet: {set_response}\"\n"
   ]
  },
  {
   "cell_type": "code",
   "execution_count": 237,
   "metadata": {},
   "outputs": [
    {
     "data": {
      "text/plain": [
       "DateTimeModel(date='03-09-2024 08:30')"
      ]
     },
     "execution_count": 237,
     "metadata": {},
     "output_type": "execute_result"
    }
   ],
   "source": [
    "Old_Date_Time = DateTimeModel(date=\"03-09-2024 08:30\")\n",
    "Old_Date_Time"
   ]
  },
  {
   "cell_type": "code",
   "execution_count": 238,
   "metadata": {},
   "outputs": [
    {
     "data": {
      "text/plain": [
       "DateTimeModel(date='03-09-2024 11:30')"
      ]
     },
     "execution_count": 238,
     "metadata": {},
     "output_type": "execute_result"
    }
   ],
   "source": [
    "New_Date_Time = DateTimeModel(date=\"03-09-2024 11:30\")\n",
    "New_Date_Time"
   ]
  },
  {
   "cell_type": "code",
   "execution_count": 239,
   "metadata": {},
   "outputs": [
    {
     "data": {
      "text/plain": [
       "IdentificationNumberModel(id=1111111)"
      ]
     },
     "execution_count": 239,
     "metadata": {},
     "output_type": "execute_result"
    }
   ],
   "source": [
    "IDNumber = IdentificationNumberModel(id=1111111)\n",
    "IDNumber"
   ]
  },
  {
   "cell_type": "code",
   "execution_count": 240,
   "metadata": {},
   "outputs": [
    {
     "name": "stdout",
     "output_type": "stream",
     "text": [
      "No available slots in the desired period.\n"
     ]
    }
   ],
   "source": [
    "print(reschedule_appointment.invoke({\n",
    "    \"old_date\": Old_Date_Time,\n",
    "    \"new_date\": New_Date_Time,\n",
    "    \"id_number\": IDNumber,\n",
    "    \"doctor_name\": \"kevin anderson\"\n",
    "}))\n"
   ]
  },
  {
   "cell_type": "code",
   "execution_count": 241,
   "metadata": {},
   "outputs": [
    {
     "data": {
      "text/html": [
       "<div>\n",
       "<style scoped>\n",
       "    .dataframe tbody tr th:only-of-type {\n",
       "        vertical-align: middle;\n",
       "    }\n",
       "\n",
       "    .dataframe tbody tr th {\n",
       "        vertical-align: top;\n",
       "    }\n",
       "\n",
       "    .dataframe thead th {\n",
       "        text-align: right;\n",
       "    }\n",
       "</style>\n",
       "<table border=\"1\" class=\"dataframe\">\n",
       "  <thead>\n",
       "    <tr style=\"text-align: right;\">\n",
       "      <th></th>\n",
       "      <th>date_slot</th>\n",
       "      <th>specialization</th>\n",
       "      <th>doctor_name</th>\n",
       "      <th>is_available</th>\n",
       "      <th>patient_to_attend</th>\n",
       "      <th>time</th>\n",
       "    </tr>\n",
       "  </thead>\n",
       "  <tbody>\n",
       "    <tr>\n",
       "      <th>36</th>\n",
       "      <td>07-08-2024 08:00</td>\n",
       "      <td>general_dentist</td>\n",
       "      <td>john doe</td>\n",
       "      <td>True</td>\n",
       "      <td>NaN</td>\n",
       "      <td>08:00</td>\n",
       "    </tr>\n",
       "    <tr>\n",
       "      <th>37</th>\n",
       "      <td>07-08-2024 08:30</td>\n",
       "      <td>general_dentist</td>\n",
       "      <td>john doe</td>\n",
       "      <td>True</td>\n",
       "      <td>NaN</td>\n",
       "      <td>08:30</td>\n",
       "    </tr>\n",
       "    <tr>\n",
       "      <th>39</th>\n",
       "      <td>07-08-2024 09:30</td>\n",
       "      <td>general_dentist</td>\n",
       "      <td>john doe</td>\n",
       "      <td>True</td>\n",
       "      <td>NaN</td>\n",
       "      <td>09:30</td>\n",
       "    </tr>\n",
       "    <tr>\n",
       "      <th>41</th>\n",
       "      <td>07-08-2024 10:30</td>\n",
       "      <td>general_dentist</td>\n",
       "      <td>john doe</td>\n",
       "      <td>True</td>\n",
       "      <td>NaN</td>\n",
       "      <td>10:30</td>\n",
       "    </tr>\n",
       "    <tr>\n",
       "      <th>42</th>\n",
       "      <td>07-08-2024 11:00</td>\n",
       "      <td>general_dentist</td>\n",
       "      <td>john doe</td>\n",
       "      <td>True</td>\n",
       "      <td>NaN</td>\n",
       "      <td>11:00</td>\n",
       "    </tr>\n",
       "    <tr>\n",
       "      <th>...</th>\n",
       "      <td>...</td>\n",
       "      <td>...</td>\n",
       "      <td>...</td>\n",
       "      <td>...</td>\n",
       "      <td>...</td>\n",
       "      <td>...</td>\n",
       "    </tr>\n",
       "    <tr>\n",
       "      <th>421</th>\n",
       "      <td>03-09-2024 13:30</td>\n",
       "      <td>general_dentist</td>\n",
       "      <td>john doe</td>\n",
       "      <td>True</td>\n",
       "      <td>NaN</td>\n",
       "      <td>13:30</td>\n",
       "    </tr>\n",
       "    <tr>\n",
       "      <th>422</th>\n",
       "      <td>03-09-2024 14:00</td>\n",
       "      <td>general_dentist</td>\n",
       "      <td>john doe</td>\n",
       "      <td>True</td>\n",
       "      <td>NaN</td>\n",
       "      <td>14:00</td>\n",
       "    </tr>\n",
       "    <tr>\n",
       "      <th>423</th>\n",
       "      <td>03-09-2024 14:30</td>\n",
       "      <td>general_dentist</td>\n",
       "      <td>john doe</td>\n",
       "      <td>True</td>\n",
       "      <td>NaN</td>\n",
       "      <td>14:30</td>\n",
       "    </tr>\n",
       "    <tr>\n",
       "      <th>424</th>\n",
       "      <td>03-09-2024 15:00</td>\n",
       "      <td>general_dentist</td>\n",
       "      <td>john doe</td>\n",
       "      <td>True</td>\n",
       "      <td>NaN</td>\n",
       "      <td>15:00</td>\n",
       "    </tr>\n",
       "    <tr>\n",
       "      <th>427</th>\n",
       "      <td>03-09-2024 16:30</td>\n",
       "      <td>general_dentist</td>\n",
       "      <td>john doe</td>\n",
       "      <td>True</td>\n",
       "      <td>NaN</td>\n",
       "      <td>16:30</td>\n",
       "    </tr>\n",
       "  </tbody>\n",
       "</table>\n",
       "<p>258 rows × 6 columns</p>\n",
       "</div>"
      ],
      "text/plain": [
       "            date_slot   specialization doctor_name  is_available  \\\n",
       "36   07-08-2024 08:00  general_dentist    john doe          True   \n",
       "37   07-08-2024 08:30  general_dentist    john doe          True   \n",
       "39   07-08-2024 09:30  general_dentist    john doe          True   \n",
       "41   07-08-2024 10:30  general_dentist    john doe          True   \n",
       "42   07-08-2024 11:00  general_dentist    john doe          True   \n",
       "..                ...              ...         ...           ...   \n",
       "421  03-09-2024 13:30  general_dentist    john doe          True   \n",
       "422  03-09-2024 14:00  general_dentist    john doe          True   \n",
       "423  03-09-2024 14:30  general_dentist    john doe          True   \n",
       "424  03-09-2024 15:00  general_dentist    john doe          True   \n",
       "427  03-09-2024 16:30  general_dentist    john doe          True   \n",
       "\n",
       "     patient_to_attend   time  \n",
       "36                 NaN  08:00  \n",
       "37                 NaN  08:30  \n",
       "39                 NaN  09:30  \n",
       "41                 NaN  10:30  \n",
       "42                 NaN  11:00  \n",
       "..                 ...    ...  \n",
       "421                NaN  13:30  \n",
       "422                NaN  14:00  \n",
       "423                NaN  14:30  \n",
       "424                NaN  15:00  \n",
       "427                NaN  16:30  \n",
       "\n",
       "[258 rows x 6 columns]"
      ]
     },
     "execution_count": 241,
     "metadata": {},
     "output_type": "execute_result"
    }
   ],
   "source": [
    "df[(df.doctor_name==\"john doe\")&(df.is_available==True)]"
   ]
  },
  {
   "cell_type": "code",
   "execution_count": 242,
   "metadata": {},
   "outputs": [],
   "source": [
    "# class Router(TypedDict):\n",
    "#     next: Literal[\"information_node\",\"booking_node\",\"FINISH\"]\n",
    "#     reasoning: str\n",
    "    "
   ]
  },
  {
   "cell_type": "code",
   "execution_count": 243,
   "metadata": {},
   "outputs": [],
   "source": [
    "# class AgentState(TypedDict):\n",
    "#     messages: Annotated[list[Any], add_messages]\n",
    "#     id_number: int\n",
    "#     next:str\n",
    "#     query: str\n",
    "#     current_reasoning: str"
   ]
  },
  {
   "cell_type": "code",
   "execution_count": 244,
   "metadata": {},
   "outputs": [],
   "source": [
    "# members_dict = {'information_node':'specialized agent to provide information related to availability of doctors or any FAQs related to hospital.','booking_node':'specialized agent to only to book, cancel or reschedule appointment'}\n",
    "\n",
    "# members_dict"
   ]
  },
  {
   "cell_type": "code",
   "execution_count": 245,
   "metadata": {},
   "outputs": [
    {
     "data": {
      "text/plain": [
       "{'information_node': 'specialized agent to provide information related to availability of doctors or any FAQs related to hospital.',\n",
       " 'booking_node': 'specialized agent to only to book, cancel or reschedule appointment'}"
      ]
     },
     "execution_count": 245,
     "metadata": {},
     "output_type": "execute_result"
    }
   ],
   "source": [
    "from typing import TypedDict, Literal, Any\n",
    "from typing_extensions import Annotated\n",
    "\n",
    "# Define the routing dictionary, indicating the next node and the reasoning behind it\n",
    "class Router(TypedDict):\n",
    "    next: Literal[\"information_node\", \"booking_node\", \"FINISH\"]\n",
    "    reasoning: str\n",
    "\n",
    "# Define the agent state, including messages and tracking info\n",
    "class AgentState(TypedDict):\n",
    "    messages: Annotated[list[Any], 'add_messages']  # You may want to define add_messages somewhere\n",
    "    id_number: int\n",
    "    next: str\n",
    "    query: str\n",
    "    current_reasoning: str\n",
    "\n",
    "# Mapping of node names to their descriptions\n",
    "members_dict = {\n",
    "    'information_node': 'specialized agent to provide information related to availability of doctors or any FAQs related to hospital.',\n",
    "    'booking_node': 'specialized agent to only to book, cancel or reschedule appointment'\n",
    "}\n",
    "\n",
    "members_dict"
   ]
  },
  {
   "cell_type": "code",
   "execution_count": 246,
   "metadata": {},
   "outputs": [
    {
     "data": {
      "text/plain": [
       "['information_node', 'booking_node', 'FINISH']"
      ]
     },
     "execution_count": 246,
     "metadata": {},
     "output_type": "execute_result"
    }
   ],
   "source": [
    "options = list(members_dict.keys()) + [\"FINISH\"]\n",
    "\n",
    "options"
   ]
  },
  {
   "cell_type": "code",
   "execution_count": 247,
   "metadata": {},
   "outputs": [
    {
     "name": "stdout",
     "output_type": "stream",
     "text": [
      "WORKER: information_node \n",
      "DESCRIPTION: specialized agent to provide information related to availability of doctors or any FAQs related to hospital.\n",
      "\n",
      "WORKER: booking_node \n",
      "DESCRIPTION: specialized agent to only to book, cancel or reschedule appointment\n",
      "\n",
      "WORKER: FINISH \n",
      "DESCRIPTION: If User Query is answered and route to Finished\n"
     ]
    }
   ],
   "source": [
    "worker_info = '\\n\\n'.join([f'WORKER: {member} \\nDESCRIPTION: {description}' for member, description in members_dict.items()]) + '\\n\\nWORKER: FINISH \\nDESCRIPTION: If User Query is answered and route to Finished'\n",
    "\n",
    "print(worker_info)"
   ]
  },
  {
   "cell_type": "code",
   "execution_count": 248,
   "metadata": {},
   "outputs": [
    {
     "name": "stdout",
     "output_type": "stream",
     "text": [
      "You are a supervisor tasked with managing a conversation between following workers. ### SPECIALIZED ASSISTANT:\n",
      "WORKER: information_node \n",
      "DESCRIPTION: specialized agent to provide information related to availability of doctors or any FAQs related to hospital.\n",
      "\n",
      "WORKER: booking_node \n",
      "DESCRIPTION: specialized agent to only to book, cancel or reschedule appointment\n",
      "\n",
      "WORKER: FINISH \n",
      "DESCRIPTION: If User Query is answered and route to Finished\n",
      "\n",
      "Your primary role is to help the user make an appointment with the doctor and provide updates on FAQs and doctor's availability. If a customer requests to know the availability of a doctor or to book, reschedule, or cancel an appointment, delegate the task to the appropriate specialized workers. Given the following user request, respond with the worker to act next. Each worker will perform a task and respond with their results and status. When finished, respond with FINISH.UTILIZE last conversation to assess if the conversation should end you answered the query, then route to FINISH \n"
     ]
    }
   ],
   "source": [
    "system_prompt = (\n",
    "    \"You are a supervisor tasked with managing a conversation between following workers. \"\n",
    "    \"### SPECIALIZED ASSISTANT:\\n\"\n",
    "    f\"{worker_info}\\n\\n\"\n",
    "    \"Your primary role is to help the user make an appointment with the doctor and provide updates on FAQs and doctor's availability. \"\n",
    "    \"If a customer requests to know the availability of a doctor or to book, reschedule, or cancel an appointment, \"\n",
    "    \"delegate the task to the appropriate specialized workers. Given the following user request,\"\n",
    "    \" respond with the worker to act next. Each worker will perform a\"\n",
    "    \" task and respond with their results and status. When finished,\"\n",
    "    \" respond with FINISH.\"\n",
    "    \"UTILIZE last conversation to assess if the conversation should end you answered the query, then route to FINISH \"\n",
    "    )\n",
    "\n",
    "print(system_prompt)\n"
   ]
  },
  {
   "cell_type": "code",
   "execution_count": 249,
   "metadata": {},
   "outputs": [],
   "source": [
    "# system_prompt = (\n",
    "#     \"You are a supervisor managing a conversation between the following workers:\\n\"\n",
    "#     f\"{worker_info}\\n\\n\"\n",
    "#     \"Your primary role is to assist the user with doctor appointments and FAQs about availability. \"\n",
    "#     \"If the user requests availability, booking, rescheduling, or cancellation, \"\n",
    "#     \"delegate the task to the appropriate worker. After each task, wait for the result and decide the next worker. \"\n",
    "#     \"When the user's query is fully answered, respond with 'FINISH' to end the conversation. \"\n",
    "#     \"Use the entire conversation context to decide when the interaction is complete.\"\n",
    "# )\n",
    "\n",
    "# print(system_prompt)"
   ]
  },
  {
   "cell_type": "code",
   "execution_count": 250,
   "metadata": {},
   "outputs": [],
   "source": [
    "# def supervisor_node(state:AgentState) -> Command[Literal['information_node', 'booking_node', '__end__']]:\n",
    "#     print(\"**************************below is my state right after entering****************************\")\n",
    "#     print(state)\n",
    "    \n",
    "#     messages = [\n",
    "#         {\"role\": \"system\", \"content\": system_prompt},\n",
    "#         {\"role\": \"user\", \"content\": f\"user's identification number is {state['id_number']}\"},\n",
    "#     ] + state[\"messages\"]\n",
    "    \n",
    "#     print(\"***********************this is my message*****************************************\")\n",
    "#     print(messages)\n",
    "    \n",
    "#     # query = state['messages'][-1].content if state[\"messages\"] else \"\"\n",
    "#     query = ''\n",
    "#     if len(state['messages']) == 1:\n",
    "#         query = state['messages'][0].content\n",
    "     \n",
    "#     print(\"************below is my query********************\")    \n",
    "#     print(query)\n",
    "    \n",
    "#     response = openai_model.with_structured_output(Router).invoke(messages) ##### check for llm.with_structured_output...\n",
    "    \n",
    "#     goto = response[\"next\"]\n",
    "    \n",
    "#     print(\"********************************this is my goto*************************\")\n",
    "#     print(goto)\n",
    "    \n",
    "#     print(\"********************************\")\n",
    "#     print(response[\"reasoning\"])\n",
    "          \n",
    "#     if goto == \"FINISH\":\n",
    "#         goto = END\n",
    "        \n",
    "#     print(\"**************************below is my state****************************\")\n",
    "#     print(state)\n",
    "    \n",
    "#     if query:\n",
    "#         return Command(goto=goto, update={'next': goto, \n",
    "#                                           'query': query, \n",
    "#                                           'current_reasoning': response[\"reasoning\"],\n",
    "#                                           'messages': [HumanMessage(content=f\"user's identification number is {state['id_number']}\")]\n",
    "#                         })\n",
    "#     return Command(goto=goto, update={'next': goto, \n",
    "#                                       'current_reasoning': response[\"reasoning\"]}\n",
    "#                    )"
   ]
  },
  {
   "cell_type": "code",
   "execution_count": 251,
   "metadata": {},
   "outputs": [],
   "source": [
    "def supervisor_node(state:AgentState) -> Command[Literal['information_node', 'booking_node', '__end__']]:\n",
    "    print(\"**************************below is my state right after entering****************************\")\n",
    "    print(state)\n",
    "    \n",
    "    messages = [\n",
    "        {\"role\": \"system\", \"content\": system_prompt},\n",
    "        {\"role\": \"user\", \"content\": f\"user's identification number is {state['id_number']}\"},\n",
    "    ] + state[\"messages\"]\n",
    "    \n",
    "    print(\"***********************this is my message*****************************************\")\n",
    "    print(messages)\n",
    "    \n",
    "    # query = state['messages'][-1].content if state[\"messages\"] else \"\"\n",
    "    query = ''\n",
    "    if len(state['messages']) == 1:\n",
    "        query = state['messages'][0].content\n",
    "      \n",
    "    print(\"************below is my query********************\")    \n",
    "    print(query)\n",
    "    \n",
    "    response = openai_model.with_structured_output(Router).invoke(messages)\n",
    "    \n",
    "    goto = response[\"next\"]\n",
    "    \n",
    "    print(\"********************************this is my goto*************************\")\n",
    "    print(goto)\n",
    "    \n",
    "    print(\"********************************\")\n",
    "    print(response[\"reasoning\"])\n",
    "          \n",
    "    if goto == \"FINISH\":\n",
    "        goto = END\n",
    "        \n",
    "    print(\"**************************below is my state****************************\")\n",
    "    print(state)\n",
    "    \n",
    "    if query:\n",
    "        return Command(goto=goto, update={'next': goto, \n",
    "                                          'query': query, \n",
    "                                          'current_reasoning': response[\"reasoning\"],\n",
    "                                          'messages': [HumanMessage(content=f\"user's identification number is {state['id_number']}\")]\n",
    "                        })\n",
    "    return Command(goto=goto, update={'next': goto, \n",
    "                                      'current_reasoning': response[\"reasoning\"]}\n",
    "                   )"
   ]
  },
  {
   "cell_type": "code",
   "execution_count": 252,
   "metadata": {},
   "outputs": [],
   "source": [
    "def information_node(state:AgentState) -> Command[Literal['supervisor']]:\n",
    "    print(\"*****************called information node************\")\n",
    "    \n",
    "    system_prompt = \"You are specialized agent to provide information related to availability of doctors or any FAQs related to hospital based on the query. You have access to the tool.\\n Make sure to ask user politely if you need any further information to execute the tool.\\n For your information, Always consider current year is 2024.\"\n",
    "    \n",
    "    system_prompt = ChatPromptTemplate.from_messages(\n",
    "            [\n",
    "                (\n",
    "                    \"system\",\n",
    "                    system_prompt\n",
    "                ),\n",
    "                (\n",
    "                    \"placeholder\", \n",
    "                    \"{messages}\"\n",
    "                ),\n",
    "            ]\n",
    "        )\n",
    "    \n",
    "    information_agent = create_react_agent(model=openai_model,tools=[check_availability_by_doctor,check_availability_by_specialization] ,prompt=system_prompt)\n",
    "    \n",
    "    result = information_agent.invoke(state)\n",
    "    \n",
    "    return Command(\n",
    "        update={\n",
    "            \"messages\": state[\"messages\"] + [\n",
    "                AIMessage(content=result[\"messages\"][-1].content, name=\"information_node\")\n",
    "                #HumanMessage(content=result[\"messages\"][-1].content, name=\"information_node\")\n",
    "            ]\n",
    "        },\n",
    "        goto=\"supervisor\",\n",
    "    )"
   ]
  },
  {
   "cell_type": "code",
   "execution_count": 253,
   "metadata": {},
   "outputs": [],
   "source": [
    "def booking_node(state:AgentState) ->  Command[Literal['supervisor']]:\n",
    "    \n",
    "    print(\"*****************called booking node************\")\n",
    "    \n",
    "    system_prompt = \"You are specialized agent to set, cancel or reschedule appointment based on the query. You have access to the tool.\\n Make sure to ask user politely if you need any further information to execute the tool.\\n For your information, Always consider current year is 2024.\"\n",
    "    \n",
    "    system_prompt = ChatPromptTemplate.from_messages(\n",
    "            [\n",
    "                (\n",
    "                    \"system\",\n",
    "                    system_prompt\n",
    "                ),\n",
    "                (\n",
    "                    \"placeholder\", \n",
    "                    \"{messages}\"\n",
    "                ),\n",
    "            ]\n",
    "        )\n",
    "    booking_agent = create_react_agent(model=openai_model,tools=[set_appointment,cancel_appointment,reschedule_appointment],prompt=system_prompt)\n",
    "\n",
    "    result = booking_agent.invoke(state)\n",
    "    \n",
    "    return Command(\n",
    "        update={\n",
    "            \"messages\": state[\"messages\"] + [\n",
    "                AIMessage(content=result[\"messages\"][-1].content, name=\"booking_node\")\n",
    "                #HumanMessage(content=result[\"messages\"][-1].content, name=\"booking_node\")\n",
    "            ]\n",
    "        },\n",
    "        goto=\"supervisor\",\n",
    "    )"
   ]
  },
  {
   "cell_type": "code",
   "execution_count": 254,
   "metadata": {},
   "outputs": [],
   "source": [
    "graph = StateGraph(AgentState)\n",
    "graph.add_node(\"supervisor\", supervisor_node)\n",
    "graph.add_node(\"information_node\", information_node)\n",
    "graph.add_node(\"booking_node\", booking_node)\n",
    "graph.add_edge(START, \"supervisor\")\n",
    "app = graph.compile()"
   ]
  },
  {
   "cell_type": "code",
   "execution_count": 255,
   "metadata": {},
   "outputs": [
    {
     "name": "stdout",
     "output_type": "stream",
     "text": [
      "Graph(nodes={'__start__': Node(id='__start__', name='__start__', data=<class 'langchain_core.utils.pydantic.LangGraphInput'>, metadata=None), 'supervisor': Node(id='supervisor', name='supervisor', data=supervisor(tags=None, recurse=True, explode_args=False, func_accepts_config=False, func_accepts={}), metadata=None), 'information_node': Node(id='information_node', name='information_node', data=information_node(tags=None, recurse=True, explode_args=False, func_accepts_config=False, func_accepts={}), metadata=None), 'booking_node': Node(id='booking_node', name='booking_node', data=booking_node(tags=None, recurse=True, explode_args=False, func_accepts_config=False, func_accepts={}), metadata=None), '__end__': Node(id='__end__', name='__end__', data=<class 'langchain_core.utils.pydantic.LangGraphOutput'>, metadata=None)}, edges=[Edge(source='__start__', target='supervisor', data=None, conditional=False), Edge(source='supervisor', target='information_node', data=None, conditional=True), Edge(source='supervisor', target='booking_node', data=None, conditional=True), Edge(source='supervisor', target='__end__', data=None, conditional=True), Edge(source='information_node', target='supervisor', data=None, conditional=True), Edge(source='booking_node', target='supervisor', data=None, conditional=True)])\n"
     ]
    }
   ],
   "source": [
    "graph = app.get_graph()\n",
    "print(graph)"
   ]
  },
  {
   "cell_type": "code",
   "execution_count": 256,
   "metadata": {},
   "outputs": [
    {
     "data": {
      "image/png": "[encoded data removed]",
      "text/plain": [
       "<IPython.core.display.Image object>"
      ]
     },
     "metadata": {},
     "output_type": "display_data"
    }
   ],
   "source": [
    "from IPython.display import Image, display\n",
    "\n",
    "display(Image(app.get_graph().draw_mermaid_png()))"
   ]
  },
  {
   "cell_type": "code",
   "execution_count": null,
   "metadata": {},
   "outputs": [],
   "source": []
  },
  {
   "cell_type": "code",
   "execution_count": 257,
   "metadata": {},
   "outputs": [],
   "source": [
    "inputs1 = [\n",
    "        HumanMessage(content='can you check and make a booking if dentist available on 8 August 2024 at 8 PM?')\n",
    "    ]"
   ]
  },
  {
   "cell_type": "code",
   "execution_count": 258,
   "metadata": {},
   "outputs": [
    {
     "name": "stdout",
     "output_type": "stream",
     "text": [
      "**************************below is my state right after entering****************************\n",
      "{'messages': [HumanMessage(content='can you check and make a booking if dentist available on 8 August 2024 at 8 PM?', additional_kwargs={}, response_metadata={})], 'id_number': 1111223}\n",
      "***********************this is my message*****************************************\n",
      "[{'role': 'system', 'content': \"You are a supervisor tasked with managing a conversation between following workers. ### SPECIALIZED ASSISTANT:\\nWORKER: information_node \\nDESCRIPTION: specialized agent to provide information related to availability of doctors or any FAQs related to hospital.\\n\\nWORKER: booking_node \\nDESCRIPTION: specialized agent to only to book, cancel or reschedule appointment\\n\\nWORKER: FINISH \\nDESCRIPTION: If User Query is answered and route to Finished\\n\\nYour primary role is to help the user make an appointment with the doctor and provide updates on FAQs and doctor's availability. If a customer requests to know the availability of a doctor or to book, reschedule, or cancel an appointment, delegate the task to the appropriate specialized workers. Given the following user request, respond with the worker to act next. Each worker will perform a task and respond with their results and status. When finished, respond with FINISH.UTILIZE last conversation to assess if the conversation should end you answered the query, then route to FINISH \"}, {'role': 'user', 'content': \"user's identification number is 1111223\"}, HumanMessage(content='can you check and make a booking if dentist available on 8 August 2024 at 8 PM?', additional_kwargs={}, response_metadata={})]\n",
      "************below is my query********************\n",
      "can you check and make a booking if dentist available on 8 August 2024 at 8 PM?\n",
      "********************************this is my goto*************************\n",
      "information_node\n",
      "********************************\n",
      "The user is asking to check the availability of a dentist on a specific date and time. Before making a booking, it's necessary to confirm whether a dentist is available at that time. Therefore, we should first consult the information_node to verify availability.\n",
      "**************************below is my state****************************\n",
      "{'messages': [HumanMessage(content='can you check and make a booking if dentist available on 8 August 2024 at 8 PM?', additional_kwargs={}, response_metadata={})], 'id_number': 1111223}\n",
      "*****************called information node************\n",
      "**************************below is my state right after entering****************************\n",
      "{'messages': [HumanMessage(content=\"user's identification number is 1111223\", additional_kwargs={}, response_metadata={}, id='adbc8337-332e-4585-aa49-173f3008f66e'), AIMessage(content=\"It seems you've provided an identification number. Could you please let me know how I can assist you today, especially if you have a specific query related to doctor availability or hospital FAQs?\", additional_kwargs={}, response_metadata={}, name='information_node')], 'id_number': 1111223, 'next': 'information_node', 'query': 'can you check and make a booking if dentist available on 8 August 2024 at 8 PM?', 'current_reasoning': \"The user is asking to check the availability of a dentist on a specific date and time. Before making a booking, it's necessary to confirm whether a dentist is available at that time. Therefore, we should first consult the information_node to verify availability.\"}\n",
      "***********************this is my message*****************************************\n",
      "[{'role': 'system', 'content': \"You are a supervisor tasked with managing a conversation between following workers. ### SPECIALIZED ASSISTANT:\\nWORKER: information_node \\nDESCRIPTION: specialized agent to provide information related to availability of doctors or any FAQs related to hospital.\\n\\nWORKER: booking_node \\nDESCRIPTION: specialized agent to only to book, cancel or reschedule appointment\\n\\nWORKER: FINISH \\nDESCRIPTION: If User Query is answered and route to Finished\\n\\nYour primary role is to help the user make an appointment with the doctor and provide updates on FAQs and doctor's availability. If a customer requests to know the availability of a doctor or to book, reschedule, or cancel an appointment, delegate the task to the appropriate specialized workers. Given the following user request, respond with the worker to act next. Each worker will perform a task and respond with their results and status. When finished, respond with FINISH.UTILIZE last conversation to assess if the conversation should end you answered the query, then route to FINISH \"}, {'role': 'user', 'content': \"user's identification number is 1111223\"}, HumanMessage(content=\"user's identification number is 1111223\", additional_kwargs={}, response_metadata={}, id='adbc8337-332e-4585-aa49-173f3008f66e'), AIMessage(content=\"It seems you've provided an identification number. Could you please let me know how I can assist you today, especially if you have a specific query related to doctor availability or hospital FAQs?\", additional_kwargs={}, response_metadata={}, name='information_node')]\n",
      "************below is my query********************\n",
      "\n",
      "********************************this is my goto*************************\n",
      "information_node\n",
      "********************************\n",
      "The user has provided their identification number but hasn't yet specified their query. Since no action like booking, canceling, or rescheduling an appointment has been explicitly requested, and we don't yet have details of a question or request related to doctor availability or FAQs, it would be appropriate for the information_node to clarify and address any potential queries the user might have.\n",
      "**************************below is my state****************************\n",
      "{'messages': [HumanMessage(content=\"user's identification number is 1111223\", additional_kwargs={}, response_metadata={}, id='adbc8337-332e-4585-aa49-173f3008f66e'), AIMessage(content=\"It seems you've provided an identification number. Could you please let me know how I can assist you today, especially if you have a specific query related to doctor availability or hospital FAQs?\", additional_kwargs={}, response_metadata={}, name='information_node')], 'id_number': 1111223, 'next': 'information_node', 'query': 'can you check and make a booking if dentist available on 8 August 2024 at 8 PM?', 'current_reasoning': \"The user is asking to check the availability of a dentist on a specific date and time. Before making a booking, it's necessary to confirm whether a dentist is available at that time. Therefore, we should first consult the information_node to verify availability.\"}\n",
      "*****************called information node************\n",
      "**************************below is my state right after entering****************************\n",
      "{'messages': [HumanMessage(content=\"user's identification number is 1111223\", additional_kwargs={}, response_metadata={}, id='adbc8337-332e-4585-aa49-173f3008f66e'), AIMessage(content=\"It seems you've provided an identification number. Could you please let me know how I can assist you today, especially if you have a specific query related to doctor availability or hospital FAQs?\", additional_kwargs={}, response_metadata={}, name='information_node', id='9fa3e84f-1acf-4655-8120-543196be2aa0'), AIMessage(content=\"Please let me know if you need information on doctor availability or have any questions related to the hospital's services.\", additional_kwargs={}, response_metadata={}, name='information_node')], 'id_number': 1111223, 'next': 'information_node', 'query': 'can you check and make a booking if dentist available on 8 August 2024 at 8 PM?', 'current_reasoning': \"The user has provided their identification number but hasn't yet specified their query. Since no action like booking, canceling, or rescheduling an appointment has been explicitly requested, and we don't yet have details of a question or request related to doctor availability or FAQs, it would be appropriate for the information_node to clarify and address any potential queries the user might have.\"}\n",
      "***********************this is my message*****************************************\n",
      "[{'role': 'system', 'content': \"You are a supervisor tasked with managing a conversation between following workers. ### SPECIALIZED ASSISTANT:\\nWORKER: information_node \\nDESCRIPTION: specialized agent to provide information related to availability of doctors or any FAQs related to hospital.\\n\\nWORKER: booking_node \\nDESCRIPTION: specialized agent to only to book, cancel or reschedule appointment\\n\\nWORKER: FINISH \\nDESCRIPTION: If User Query is answered and route to Finished\\n\\nYour primary role is to help the user make an appointment with the doctor and provide updates on FAQs and doctor's availability. If a customer requests to know the availability of a doctor or to book, reschedule, or cancel an appointment, delegate the task to the appropriate specialized workers. Given the following user request, respond with the worker to act next. Each worker will perform a task and respond with their results and status. When finished, respond with FINISH.UTILIZE last conversation to assess if the conversation should end you answered the query, then route to FINISH \"}, {'role': 'user', 'content': \"user's identification number is 1111223\"}, HumanMessage(content=\"user's identification number is 1111223\", additional_kwargs={}, response_metadata={}, id='adbc8337-332e-4585-aa49-173f3008f66e'), AIMessage(content=\"It seems you've provided an identification number. Could you please let me know how I can assist you today, especially if you have a specific query related to doctor availability or hospital FAQs?\", additional_kwargs={}, response_metadata={}, name='information_node', id='9fa3e84f-1acf-4655-8120-543196be2aa0'), AIMessage(content=\"Please let me know if you need information on doctor availability or have any questions related to the hospital's services.\", additional_kwargs={}, response_metadata={}, name='information_node')]\n",
      "************below is my query********************\n",
      "\n",
      "********************************this is my goto*************************\n",
      "information_node\n",
      "********************************\n",
      "The user has provided their identification number but hasn't specified their request. Since we can assist with doctor availability or FAQs, the next step is to check if they have any queries related to these areas.\n",
      "**************************below is my state****************************\n",
      "{'messages': [HumanMessage(content=\"user's identification number is 1111223\", additional_kwargs={}, response_metadata={}, id='adbc8337-332e-4585-aa49-173f3008f66e'), AIMessage(content=\"It seems you've provided an identification number. Could you please let me know how I can assist you today, especially if you have a specific query related to doctor availability or hospital FAQs?\", additional_kwargs={}, response_metadata={}, name='information_node', id='9fa3e84f-1acf-4655-8120-543196be2aa0'), AIMessage(content=\"Please let me know if you need information on doctor availability or have any questions related to the hospital's services.\", additional_kwargs={}, response_metadata={}, name='information_node')], 'id_number': 1111223, 'next': 'information_node', 'query': 'can you check and make a booking if dentist available on 8 August 2024 at 8 PM?', 'current_reasoning': \"The user has provided their identification number but hasn't yet specified their query. Since no action like booking, canceling, or rescheduling an appointment has been explicitly requested, and we don't yet have details of a question or request related to doctor availability or FAQs, it would be appropriate for the information_node to clarify and address any potential queries the user might have.\"}\n",
      "*****************called information node************\n",
      "**************************below is my state right after entering****************************\n",
      "{'messages': [HumanMessage(content=\"user's identification number is 1111223\", additional_kwargs={}, response_metadata={}, id='adbc8337-332e-4585-aa49-173f3008f66e'), AIMessage(content=\"It seems you've provided an identification number. Could you please let me know how I can assist you today, especially if you have a specific query related to doctor availability or hospital FAQs?\", additional_kwargs={}, response_metadata={}, name='information_node', id='9fa3e84f-1acf-4655-8120-543196be2aa0'), AIMessage(content=\"Please let me know if you need information on doctor availability or have any questions related to the hospital's services.\", additional_kwargs={}, response_metadata={}, name='information_node', id='eacf6b00-76b8-4cea-8ff4-2b0d2264fdce'), AIMessage(content=\"If you need to check the availability of a specific doctor or specialization on a particular date, feel free to provide me with the details. I'm here to help!\", additional_kwargs={}, response_metadata={}, name='information_node')], 'id_number': 1111223, 'next': 'information_node', 'query': 'can you check and make a booking if dentist available on 8 August 2024 at 8 PM?', 'current_reasoning': \"The user has provided their identification number but hasn't specified their request. Since we can assist with doctor availability or FAQs, the next step is to check if they have any queries related to these areas.\"}\n",
      "***********************this is my message*****************************************\n",
      "[{'role': 'system', 'content': \"You are a supervisor tasked with managing a conversation between following workers. ### SPECIALIZED ASSISTANT:\\nWORKER: information_node \\nDESCRIPTION: specialized agent to provide information related to availability of doctors or any FAQs related to hospital.\\n\\nWORKER: booking_node \\nDESCRIPTION: specialized agent to only to book, cancel or reschedule appointment\\n\\nWORKER: FINISH \\nDESCRIPTION: If User Query is answered and route to Finished\\n\\nYour primary role is to help the user make an appointment with the doctor and provide updates on FAQs and doctor's availability. If a customer requests to know the availability of a doctor or to book, reschedule, or cancel an appointment, delegate the task to the appropriate specialized workers. Given the following user request, respond with the worker to act next. Each worker will perform a task and respond with their results and status. When finished, respond with FINISH.UTILIZE last conversation to assess if the conversation should end you answered the query, then route to FINISH \"}, {'role': 'user', 'content': \"user's identification number is 1111223\"}, HumanMessage(content=\"user's identification number is 1111223\", additional_kwargs={}, response_metadata={}, id='adbc8337-332e-4585-aa49-173f3008f66e'), AIMessage(content=\"It seems you've provided an identification number. Could you please let me know how I can assist you today, especially if you have a specific query related to doctor availability or hospital FAQs?\", additional_kwargs={}, response_metadata={}, name='information_node', id='9fa3e84f-1acf-4655-8120-543196be2aa0'), AIMessage(content=\"Please let me know if you need information on doctor availability or have any questions related to the hospital's services.\", additional_kwargs={}, response_metadata={}, name='information_node', id='eacf6b00-76b8-4cea-8ff4-2b0d2264fdce'), AIMessage(content=\"If you need to check the availability of a specific doctor or specialization on a particular date, feel free to provide me with the details. I'm here to help!\", additional_kwargs={}, response_metadata={}, name='information_node')]\n",
      "************below is my query********************\n",
      "\n",
      "********************************this is my goto*************************\n",
      "information_node\n",
      "********************************\n",
      "The user has only provided their identification number and hasn't yet mentioned anything specific about their request. Since there's no direct indication of what they need, it's logical to engage the information_node to check for any informational queries such as requesting information on doctor availability or hospital FAQs.\n",
      "**************************below is my state****************************\n",
      "{'messages': [HumanMessage(content=\"user's identification number is 1111223\", additional_kwargs={}, response_metadata={}, id='adbc8337-332e-4585-aa49-173f3008f66e'), AIMessage(content=\"It seems you've provided an identification number. Could you please let me know how I can assist you today, especially if you have a specific query related to doctor availability or hospital FAQs?\", additional_kwargs={}, response_metadata={}, name='information_node', id='9fa3e84f-1acf-4655-8120-543196be2aa0'), AIMessage(content=\"Please let me know if you need information on doctor availability or have any questions related to the hospital's services.\", additional_kwargs={}, response_metadata={}, name='information_node', id='eacf6b00-76b8-4cea-8ff4-2b0d2264fdce'), AIMessage(content=\"If you need to check the availability of a specific doctor or specialization on a particular date, feel free to provide me with the details. I'm here to help!\", additional_kwargs={}, response_metadata={}, name='information_node')], 'id_number': 1111223, 'next': 'information_node', 'query': 'can you check and make a booking if dentist available on 8 August 2024 at 8 PM?', 'current_reasoning': \"The user has provided their identification number but hasn't specified their request. Since we can assist with doctor availability or FAQs, the next step is to check if they have any queries related to these areas.\"}\n",
      "*****************called information node************\n",
      "**************************below is my state right after entering****************************\n",
      "{'messages': [HumanMessage(content=\"user's identification number is 1111223\", additional_kwargs={}, response_metadata={}, id='adbc8337-332e-4585-aa49-173f3008f66e'), AIMessage(content=\"It seems you've provided an identification number. Could you please let me know how I can assist you today, especially if you have a specific query related to doctor availability or hospital FAQs?\", additional_kwargs={}, response_metadata={}, name='information_node', id='9fa3e84f-1acf-4655-8120-543196be2aa0'), AIMessage(content=\"Please let me know if you need information on doctor availability or have any questions related to the hospital's services.\", additional_kwargs={}, response_metadata={}, name='information_node', id='eacf6b00-76b8-4cea-8ff4-2b0d2264fdce'), AIMessage(content=\"If you need to check the availability of a specific doctor or specialization on a particular date, feel free to provide me with the details. I'm here to help!\", additional_kwargs={}, response_metadata={}, name='information_node', id='f9c095b4-5b35-47f4-a32c-a1297b0be0a8'), AIMessage(content=\"It seems you've provided an identification number. Please let me know if you need assistance with doctor availability or have any questions related to our hospital services!\", additional_kwargs={}, response_metadata={}, name='information_node')], 'id_number': 1111223, 'next': 'information_node', 'query': 'can you check and make a booking if dentist available on 8 August 2024 at 8 PM?', 'current_reasoning': \"The user has only provided their identification number and hasn't yet mentioned anything specific about their request. Since there's no direct indication of what they need, it's logical to engage the information_node to check for any informational queries such as requesting information on doctor availability or hospital FAQs.\"}\n",
      "***********************this is my message*****************************************\n",
      "[{'role': 'system', 'content': \"You are a supervisor tasked with managing a conversation between following workers. ### SPECIALIZED ASSISTANT:\\nWORKER: information_node \\nDESCRIPTION: specialized agent to provide information related to availability of doctors or any FAQs related to hospital.\\n\\nWORKER: booking_node \\nDESCRIPTION: specialized agent to only to book, cancel or reschedule appointment\\n\\nWORKER: FINISH \\nDESCRIPTION: If User Query is answered and route to Finished\\n\\nYour primary role is to help the user make an appointment with the doctor and provide updates on FAQs and doctor's availability. If a customer requests to know the availability of a doctor or to book, reschedule, or cancel an appointment, delegate the task to the appropriate specialized workers. Given the following user request, respond with the worker to act next. Each worker will perform a task and respond with their results and status. When finished, respond with FINISH.UTILIZE last conversation to assess if the conversation should end you answered the query, then route to FINISH \"}, {'role': 'user', 'content': \"user's identification number is 1111223\"}, HumanMessage(content=\"user's identification number is 1111223\", additional_kwargs={}, response_metadata={}, id='adbc8337-332e-4585-aa49-173f3008f66e'), AIMessage(content=\"It seems you've provided an identification number. Could you please let me know how I can assist you today, especially if you have a specific query related to doctor availability or hospital FAQs?\", additional_kwargs={}, response_metadata={}, name='information_node', id='9fa3e84f-1acf-4655-8120-543196be2aa0'), AIMessage(content=\"Please let me know if you need information on doctor availability or have any questions related to the hospital's services.\", additional_kwargs={}, response_metadata={}, name='information_node', id='eacf6b00-76b8-4cea-8ff4-2b0d2264fdce'), AIMessage(content=\"If you need to check the availability of a specific doctor or specialization on a particular date, feel free to provide me with the details. I'm here to help!\", additional_kwargs={}, response_metadata={}, name='information_node', id='f9c095b4-5b35-47f4-a32c-a1297b0be0a8'), AIMessage(content=\"It seems you've provided an identification number. Please let me know if you need assistance with doctor availability or have any questions related to our hospital services!\", additional_kwargs={}, response_metadata={}, name='information_node')]\n",
      "************below is my query********************\n",
      "\n",
      "********************************this is my goto*************************\n",
      "information_node\n",
      "********************************\n",
      "The user has not specified any direct request other than providing an identification number. Since there's no direct mention of booking, rescheduling, or cancelling an appointment, it's appropriate to proceed with seeking additional information about what the user needs, likely related to doctor availability or hospital information.\n",
      "**************************below is my state****************************\n",
      "{'messages': [HumanMessage(content=\"user's identification number is 1111223\", additional_kwargs={}, response_metadata={}, id='adbc8337-332e-4585-aa49-173f3008f66e'), AIMessage(content=\"It seems you've provided an identification number. Could you please let me know how I can assist you today, especially if you have a specific query related to doctor availability or hospital FAQs?\", additional_kwargs={}, response_metadata={}, name='information_node', id='9fa3e84f-1acf-4655-8120-543196be2aa0'), AIMessage(content=\"Please let me know if you need information on doctor availability or have any questions related to the hospital's services.\", additional_kwargs={}, response_metadata={}, name='information_node', id='eacf6b00-76b8-4cea-8ff4-2b0d2264fdce'), AIMessage(content=\"If you need to check the availability of a specific doctor or specialization on a particular date, feel free to provide me with the details. I'm here to help!\", additional_kwargs={}, response_metadata={}, name='information_node', id='f9c095b4-5b35-47f4-a32c-a1297b0be0a8'), AIMessage(content=\"It seems you've provided an identification number. Please let me know if you need assistance with doctor availability or have any questions related to our hospital services!\", additional_kwargs={}, response_metadata={}, name='information_node')], 'id_number': 1111223, 'next': 'information_node', 'query': 'can you check and make a booking if dentist available on 8 August 2024 at 8 PM?', 'current_reasoning': \"The user has only provided their identification number and hasn't yet mentioned anything specific about their request. Since there's no direct indication of what they need, it's logical to engage the information_node to check for any informational queries such as requesting information on doctor availability or hospital FAQs.\"}\n",
      "*****************called information node************\n",
      "**************************below is my state right after entering****************************\n",
      "{'messages': [HumanMessage(content=\"user's identification number is 1111223\", additional_kwargs={}, response_metadata={}, id='adbc8337-332e-4585-aa49-173f3008f66e'), AIMessage(content=\"It seems you've provided an identification number. Could you please let me know how I can assist you today, especially if you have a specific query related to doctor availability or hospital FAQs?\", additional_kwargs={}, response_metadata={}, name='information_node', id='9fa3e84f-1acf-4655-8120-543196be2aa0'), AIMessage(content=\"Please let me know if you need information on doctor availability or have any questions related to the hospital's services.\", additional_kwargs={}, response_metadata={}, name='information_node', id='eacf6b00-76b8-4cea-8ff4-2b0d2264fdce'), AIMessage(content=\"If you need to check the availability of a specific doctor or specialization on a particular date, feel free to provide me with the details. I'm here to help!\", additional_kwargs={}, response_metadata={}, name='information_node', id='f9c095b4-5b35-47f4-a32c-a1297b0be0a8'), AIMessage(content=\"It seems you've provided an identification number. Please let me know if you need assistance with doctor availability or have any questions related to our hospital services!\", additional_kwargs={}, response_metadata={}, name='information_node', id='3f3a93ca-4fc5-4196-89fe-575ac90d4bf9'), AIMessage(content=\"It seems like you've provided an identification number. How can I assist you today? If you have any questions related to doctor availability or other hospital-related inquiries, please let me know!\", additional_kwargs={}, response_metadata={}, name='information_node')], 'id_number': 1111223, 'next': 'information_node', 'query': 'can you check and make a booking if dentist available on 8 August 2024 at 8 PM?', 'current_reasoning': \"The user has not specified any direct request other than providing an identification number. Since there's no direct mention of booking, rescheduling, or cancelling an appointment, it's appropriate to proceed with seeking additional information about what the user needs, likely related to doctor availability or hospital information.\"}\n",
      "***********************this is my message*****************************************\n",
      "[{'role': 'system', 'content': \"You are a supervisor tasked with managing a conversation between following workers. ### SPECIALIZED ASSISTANT:\\nWORKER: information_node \\nDESCRIPTION: specialized agent to provide information related to availability of doctors or any FAQs related to hospital.\\n\\nWORKER: booking_node \\nDESCRIPTION: specialized agent to only to book, cancel or reschedule appointment\\n\\nWORKER: FINISH \\nDESCRIPTION: If User Query is answered and route to Finished\\n\\nYour primary role is to help the user make an appointment with the doctor and provide updates on FAQs and doctor's availability. If a customer requests to know the availability of a doctor or to book, reschedule, or cancel an appointment, delegate the task to the appropriate specialized workers. Given the following user request, respond with the worker to act next. Each worker will perform a task and respond with their results and status. When finished, respond with FINISH.UTILIZE last conversation to assess if the conversation should end you answered the query, then route to FINISH \"}, {'role': 'user', 'content': \"user's identification number is 1111223\"}, HumanMessage(content=\"user's identification number is 1111223\", additional_kwargs={}, response_metadata={}, id='adbc8337-332e-4585-aa49-173f3008f66e'), AIMessage(content=\"It seems you've provided an identification number. Could you please let me know how I can assist you today, especially if you have a specific query related to doctor availability or hospital FAQs?\", additional_kwargs={}, response_metadata={}, name='information_node', id='9fa3e84f-1acf-4655-8120-543196be2aa0'), AIMessage(content=\"Please let me know if you need information on doctor availability or have any questions related to the hospital's services.\", additional_kwargs={}, response_metadata={}, name='information_node', id='eacf6b00-76b8-4cea-8ff4-2b0d2264fdce'), AIMessage(content=\"If you need to check the availability of a specific doctor or specialization on a particular date, feel free to provide me with the details. I'm here to help!\", additional_kwargs={}, response_metadata={}, name='information_node', id='f9c095b4-5b35-47f4-a32c-a1297b0be0a8'), AIMessage(content=\"It seems you've provided an identification number. Please let me know if you need assistance with doctor availability or have any questions related to our hospital services!\", additional_kwargs={}, response_metadata={}, name='information_node', id='3f3a93ca-4fc5-4196-89fe-575ac90d4bf9'), AIMessage(content=\"It seems like you've provided an identification number. How can I assist you today? If you have any questions related to doctor availability or other hospital-related inquiries, please let me know!\", additional_kwargs={}, response_metadata={}, name='information_node')]\n",
      "************below is my query********************\n",
      "\n",
      "********************************this is my goto*************************\n",
      "information_node\n",
      "********************************\n",
      "The user provided an identification number but hasn't specified their need. Given the context, they might require information regarding a doctor's availability or hospital FAQs, so it's appropriate to engage the \"information_node\" to address any such queries they might have.\n",
      "**************************below is my state****************************\n",
      "{'messages': [HumanMessage(content=\"user's identification number is 1111223\", additional_kwargs={}, response_metadata={}, id='adbc8337-332e-4585-aa49-173f3008f66e'), AIMessage(content=\"It seems you've provided an identification number. Could you please let me know how I can assist you today, especially if you have a specific query related to doctor availability or hospital FAQs?\", additional_kwargs={}, response_metadata={}, name='information_node', id='9fa3e84f-1acf-4655-8120-543196be2aa0'), AIMessage(content=\"Please let me know if you need information on doctor availability or have any questions related to the hospital's services.\", additional_kwargs={}, response_metadata={}, name='information_node', id='eacf6b00-76b8-4cea-8ff4-2b0d2264fdce'), AIMessage(content=\"If you need to check the availability of a specific doctor or specialization on a particular date, feel free to provide me with the details. I'm here to help!\", additional_kwargs={}, response_metadata={}, name='information_node', id='f9c095b4-5b35-47f4-a32c-a1297b0be0a8'), AIMessage(content=\"It seems you've provided an identification number. Please let me know if you need assistance with doctor availability or have any questions related to our hospital services!\", additional_kwargs={}, response_metadata={}, name='information_node', id='3f3a93ca-4fc5-4196-89fe-575ac90d4bf9'), AIMessage(content=\"It seems like you've provided an identification number. How can I assist you today? If you have any questions related to doctor availability or other hospital-related inquiries, please let me know!\", additional_kwargs={}, response_metadata={}, name='information_node')], 'id_number': 1111223, 'next': 'information_node', 'query': 'can you check and make a booking if dentist available on 8 August 2024 at 8 PM?', 'current_reasoning': \"The user has not specified any direct request other than providing an identification number. Since there's no direct mention of booking, rescheduling, or cancelling an appointment, it's appropriate to proceed with seeking additional information about what the user needs, likely related to doctor availability or hospital information.\"}\n",
      "*****************called information node************\n",
      "**************************below is my state right after entering****************************\n",
      "{'messages': [HumanMessage(content=\"user's identification number is 1111223\", additional_kwargs={}, response_metadata={}, id='adbc8337-332e-4585-aa49-173f3008f66e'), AIMessage(content=\"It seems you've provided an identification number. Could you please let me know how I can assist you today, especially if you have a specific query related to doctor availability or hospital FAQs?\", additional_kwargs={}, response_metadata={}, name='information_node', id='9fa3e84f-1acf-4655-8120-543196be2aa0'), AIMessage(content=\"Please let me know if you need information on doctor availability or have any questions related to the hospital's services.\", additional_kwargs={}, response_metadata={}, name='information_node', id='eacf6b00-76b8-4cea-8ff4-2b0d2264fdce'), AIMessage(content=\"If you need to check the availability of a specific doctor or specialization on a particular date, feel free to provide me with the details. I'm here to help!\", additional_kwargs={}, response_metadata={}, name='information_node', id='f9c095b4-5b35-47f4-a32c-a1297b0be0a8'), AIMessage(content=\"It seems you've provided an identification number. Please let me know if you need assistance with doctor availability or have any questions related to our hospital services!\", additional_kwargs={}, response_metadata={}, name='information_node', id='3f3a93ca-4fc5-4196-89fe-575ac90d4bf9'), AIMessage(content=\"It seems like you've provided an identification number. How can I assist you today? If you have any questions related to doctor availability or other hospital-related inquiries, please let me know!\", additional_kwargs={}, response_metadata={}, name='information_node', id='6c17dd88-1041-473a-a5b1-f9e2e76858f4'), AIMessage(content=\"It looks like you've shared an identification number. Please provide me with further details about how I can assist you, such as checking a doctor's availability or answering any hospital-related questions.\", additional_kwargs={}, response_metadata={}, name='information_node')], 'id_number': 1111223, 'next': 'information_node', 'query': 'can you check and make a booking if dentist available on 8 August 2024 at 8 PM?', 'current_reasoning': 'The user provided an identification number but hasn\\'t specified their need. Given the context, they might require information regarding a doctor\\'s availability or hospital FAQs, so it\\'s appropriate to engage the \"information_node\" to address any such queries they might have.'}\n",
      "***********************this is my message*****************************************\n",
      "[{'role': 'system', 'content': \"You are a supervisor tasked with managing a conversation between following workers. ### SPECIALIZED ASSISTANT:\\nWORKER: information_node \\nDESCRIPTION: specialized agent to provide information related to availability of doctors or any FAQs related to hospital.\\n\\nWORKER: booking_node \\nDESCRIPTION: specialized agent to only to book, cancel or reschedule appointment\\n\\nWORKER: FINISH \\nDESCRIPTION: If User Query is answered and route to Finished\\n\\nYour primary role is to help the user make an appointment with the doctor and provide updates on FAQs and doctor's availability. If a customer requests to know the availability of a doctor or to book, reschedule, or cancel an appointment, delegate the task to the appropriate specialized workers. Given the following user request, respond with the worker to act next. Each worker will perform a task and respond with their results and status. When finished, respond with FINISH.UTILIZE last conversation to assess if the conversation should end you answered the query, then route to FINISH \"}, {'role': 'user', 'content': \"user's identification number is 1111223\"}, HumanMessage(content=\"user's identification number is 1111223\", additional_kwargs={}, response_metadata={}, id='adbc8337-332e-4585-aa49-173f3008f66e'), AIMessage(content=\"It seems you've provided an identification number. Could you please let me know how I can assist you today, especially if you have a specific query related to doctor availability or hospital FAQs?\", additional_kwargs={}, response_metadata={}, name='information_node', id='9fa3e84f-1acf-4655-8120-543196be2aa0'), AIMessage(content=\"Please let me know if you need information on doctor availability or have any questions related to the hospital's services.\", additional_kwargs={}, response_metadata={}, name='information_node', id='eacf6b00-76b8-4cea-8ff4-2b0d2264fdce'), AIMessage(content=\"If you need to check the availability of a specific doctor or specialization on a particular date, feel free to provide me with the details. I'm here to help!\", additional_kwargs={}, response_metadata={}, name='information_node', id='f9c095b4-5b35-47f4-a32c-a1297b0be0a8'), AIMessage(content=\"It seems you've provided an identification number. Please let me know if you need assistance with doctor availability or have any questions related to our hospital services!\", additional_kwargs={}, response_metadata={}, name='information_node', id='3f3a93ca-4fc5-4196-89fe-575ac90d4bf9'), AIMessage(content=\"It seems like you've provided an identification number. How can I assist you today? If you have any questions related to doctor availability or other hospital-related inquiries, please let me know!\", additional_kwargs={}, response_metadata={}, name='information_node', id='6c17dd88-1041-473a-a5b1-f9e2e76858f4'), AIMessage(content=\"It looks like you've shared an identification number. Please provide me with further details about how I can assist you, such as checking a doctor's availability or answering any hospital-related questions.\", additional_kwargs={}, response_metadata={}, name='information_node')]\n",
      "************below is my query********************\n",
      "\n",
      "********************************this is my goto*************************\n",
      "information_node\n",
      "********************************\n",
      "The user has provided an identification number, possibly indicating they need assistance related to a specific account or information query. Since no request was made to book, cancel, or reschedule an appointment, it is appropriate to route this to the information_node for further clarification on their needs.\n",
      "**************************below is my state****************************\n",
      "{'messages': [HumanMessage(content=\"user's identification number is 1111223\", additional_kwargs={}, response_metadata={}, id='adbc8337-332e-4585-aa49-173f3008f66e'), AIMessage(content=\"It seems you've provided an identification number. Could you please let me know how I can assist you today, especially if you have a specific query related to doctor availability or hospital FAQs?\", additional_kwargs={}, response_metadata={}, name='information_node', id='9fa3e84f-1acf-4655-8120-543196be2aa0'), AIMessage(content=\"Please let me know if you need information on doctor availability or have any questions related to the hospital's services.\", additional_kwargs={}, response_metadata={}, name='information_node', id='eacf6b00-76b8-4cea-8ff4-2b0d2264fdce'), AIMessage(content=\"If you need to check the availability of a specific doctor or specialization on a particular date, feel free to provide me with the details. I'm here to help!\", additional_kwargs={}, response_metadata={}, name='information_node', id='f9c095b4-5b35-47f4-a32c-a1297b0be0a8'), AIMessage(content=\"It seems you've provided an identification number. Please let me know if you need assistance with doctor availability or have any questions related to our hospital services!\", additional_kwargs={}, response_metadata={}, name='information_node', id='3f3a93ca-4fc5-4196-89fe-575ac90d4bf9'), AIMessage(content=\"It seems like you've provided an identification number. How can I assist you today? If you have any questions related to doctor availability or other hospital-related inquiries, please let me know!\", additional_kwargs={}, response_metadata={}, name='information_node', id='6c17dd88-1041-473a-a5b1-f9e2e76858f4'), AIMessage(content=\"It looks like you've shared an identification number. Please provide me with further details about how I can assist you, such as checking a doctor's availability or answering any hospital-related questions.\", additional_kwargs={}, response_metadata={}, name='information_node')], 'id_number': 1111223, 'next': 'information_node', 'query': 'can you check and make a booking if dentist available on 8 August 2024 at 8 PM?', 'current_reasoning': 'The user provided an identification number but hasn\\'t specified their need. Given the context, they might require information regarding a doctor\\'s availability or hospital FAQs, so it\\'s appropriate to engage the \"information_node\" to address any such queries they might have.'}\n",
      "*****************called information node************\n",
      "**************************below is my state right after entering****************************\n",
      "{'messages': [HumanMessage(content=\"user's identification number is 1111223\", additional_kwargs={}, response_metadata={}, id='adbc8337-332e-4585-aa49-173f3008f66e'), AIMessage(content=\"It seems you've provided an identification number. Could you please let me know how I can assist you today, especially if you have a specific query related to doctor availability or hospital FAQs?\", additional_kwargs={}, response_metadata={}, name='information_node', id='9fa3e84f-1acf-4655-8120-543196be2aa0'), AIMessage(content=\"Please let me know if you need information on doctor availability or have any questions related to the hospital's services.\", additional_kwargs={}, response_metadata={}, name='information_node', id='eacf6b00-76b8-4cea-8ff4-2b0d2264fdce'), AIMessage(content=\"If you need to check the availability of a specific doctor or specialization on a particular date, feel free to provide me with the details. I'm here to help!\", additional_kwargs={}, response_metadata={}, name='information_node', id='f9c095b4-5b35-47f4-a32c-a1297b0be0a8'), AIMessage(content=\"It seems you've provided an identification number. Please let me know if you need assistance with doctor availability or have any questions related to our hospital services!\", additional_kwargs={}, response_metadata={}, name='information_node', id='3f3a93ca-4fc5-4196-89fe-575ac90d4bf9'), AIMessage(content=\"It seems like you've provided an identification number. How can I assist you today? If you have any questions related to doctor availability or other hospital-related inquiries, please let me know!\", additional_kwargs={}, response_metadata={}, name='information_node', id='6c17dd88-1041-473a-a5b1-f9e2e76858f4'), AIMessage(content=\"It looks like you've shared an identification number. Please provide me with further details about how I can assist you, such as checking a doctor's availability or answering any hospital-related questions.\", additional_kwargs={}, response_metadata={}, name='information_node', id='da75a885-6239-4eb3-b921-8e8c546c53c8'), AIMessage(content=\"It seems like you've provided an identification number. How may I assist you today? If you have a question regarding doctor availability or other hospital-related queries, please let me know!\", additional_kwargs={}, response_metadata={}, name='information_node')], 'id_number': 1111223, 'next': 'information_node', 'query': 'can you check and make a booking if dentist available on 8 August 2024 at 8 PM?', 'current_reasoning': 'The user has provided an identification number, possibly indicating they need assistance related to a specific account or information query. Since no request was made to book, cancel, or reschedule an appointment, it is appropriate to route this to the information_node for further clarification on their needs.'}\n",
      "***********************this is my message*****************************************\n",
      "[{'role': 'system', 'content': \"You are a supervisor tasked with managing a conversation between following workers. ### SPECIALIZED ASSISTANT:\\nWORKER: information_node \\nDESCRIPTION: specialized agent to provide information related to availability of doctors or any FAQs related to hospital.\\n\\nWORKER: booking_node \\nDESCRIPTION: specialized agent to only to book, cancel or reschedule appointment\\n\\nWORKER: FINISH \\nDESCRIPTION: If User Query is answered and route to Finished\\n\\nYour primary role is to help the user make an appointment with the doctor and provide updates on FAQs and doctor's availability. If a customer requests to know the availability of a doctor or to book, reschedule, or cancel an appointment, delegate the task to the appropriate specialized workers. Given the following user request, respond with the worker to act next. Each worker will perform a task and respond with their results and status. When finished, respond with FINISH.UTILIZE last conversation to assess if the conversation should end you answered the query, then route to FINISH \"}, {'role': 'user', 'content': \"user's identification number is 1111223\"}, HumanMessage(content=\"user's identification number is 1111223\", additional_kwargs={}, response_metadata={}, id='adbc8337-332e-4585-aa49-173f3008f66e'), AIMessage(content=\"It seems you've provided an identification number. Could you please let me know how I can assist you today, especially if you have a specific query related to doctor availability or hospital FAQs?\", additional_kwargs={}, response_metadata={}, name='information_node', id='9fa3e84f-1acf-4655-8120-543196be2aa0'), AIMessage(content=\"Please let me know if you need information on doctor availability or have any questions related to the hospital's services.\", additional_kwargs={}, response_metadata={}, name='information_node', id='eacf6b00-76b8-4cea-8ff4-2b0d2264fdce'), AIMessage(content=\"If you need to check the availability of a specific doctor or specialization on a particular date, feel free to provide me with the details. I'm here to help!\", additional_kwargs={}, response_metadata={}, name='information_node', id='f9c095b4-5b35-47f4-a32c-a1297b0be0a8'), AIMessage(content=\"It seems you've provided an identification number. Please let me know if you need assistance with doctor availability or have any questions related to our hospital services!\", additional_kwargs={}, response_metadata={}, name='information_node', id='3f3a93ca-4fc5-4196-89fe-575ac90d4bf9'), AIMessage(content=\"It seems like you've provided an identification number. How can I assist you today? If you have any questions related to doctor availability or other hospital-related inquiries, please let me know!\", additional_kwargs={}, response_metadata={}, name='information_node', id='6c17dd88-1041-473a-a5b1-f9e2e76858f4'), AIMessage(content=\"It looks like you've shared an identification number. Please provide me with further details about how I can assist you, such as checking a doctor's availability or answering any hospital-related questions.\", additional_kwargs={}, response_metadata={}, name='information_node', id='da75a885-6239-4eb3-b921-8e8c546c53c8'), AIMessage(content=\"It seems like you've provided an identification number. How may I assist you today? If you have a question regarding doctor availability or other hospital-related queries, please let me know!\", additional_kwargs={}, response_metadata={}, name='information_node')]\n",
      "************below is my query********************\n",
      "\n",
      "********************************this is my goto*************************\n",
      "information_node\n",
      "********************************\n",
      "Having received an identification number from the user, it's logical to check if the user needs information related to doctor availability or FAQs related to the hospital. Utilizing this, the information_node can further assist in clarifying the user's request.\n",
      "**************************below is my state****************************\n",
      "{'messages': [HumanMessage(content=\"user's identification number is 1111223\", additional_kwargs={}, response_metadata={}, id='adbc8337-332e-4585-aa49-173f3008f66e'), AIMessage(content=\"It seems you've provided an identification number. Could you please let me know how I can assist you today, especially if you have a specific query related to doctor availability or hospital FAQs?\", additional_kwargs={}, response_metadata={}, name='information_node', id='9fa3e84f-1acf-4655-8120-543196be2aa0'), AIMessage(content=\"Please let me know if you need information on doctor availability or have any questions related to the hospital's services.\", additional_kwargs={}, response_metadata={}, name='information_node', id='eacf6b00-76b8-4cea-8ff4-2b0d2264fdce'), AIMessage(content=\"If you need to check the availability of a specific doctor or specialization on a particular date, feel free to provide me with the details. I'm here to help!\", additional_kwargs={}, response_metadata={}, name='information_node', id='f9c095b4-5b35-47f4-a32c-a1297b0be0a8'), AIMessage(content=\"It seems you've provided an identification number. Please let me know if you need assistance with doctor availability or have any questions related to our hospital services!\", additional_kwargs={}, response_metadata={}, name='information_node', id='3f3a93ca-4fc5-4196-89fe-575ac90d4bf9'), AIMessage(content=\"It seems like you've provided an identification number. How can I assist you today? If you have any questions related to doctor availability or other hospital-related inquiries, please let me know!\", additional_kwargs={}, response_metadata={}, name='information_node', id='6c17dd88-1041-473a-a5b1-f9e2e76858f4'), AIMessage(content=\"It looks like you've shared an identification number. Please provide me with further details about how I can assist you, such as checking a doctor's availability or answering any hospital-related questions.\", additional_kwargs={}, response_metadata={}, name='information_node', id='da75a885-6239-4eb3-b921-8e8c546c53c8'), AIMessage(content=\"It seems like you've provided an identification number. How may I assist you today? If you have a question regarding doctor availability or other hospital-related queries, please let me know!\", additional_kwargs={}, response_metadata={}, name='information_node')], 'id_number': 1111223, 'next': 'information_node', 'query': 'can you check and make a booking if dentist available on 8 August 2024 at 8 PM?', 'current_reasoning': 'The user has provided an identification number, possibly indicating they need assistance related to a specific account or information query. Since no request was made to book, cancel, or reschedule an appointment, it is appropriate to route this to the information_node for further clarification on their needs.'}\n",
      "*****************called information node************\n",
      "**************************below is my state right after entering****************************\n",
      "{'messages': [HumanMessage(content=\"user's identification number is 1111223\", additional_kwargs={}, response_metadata={}, id='adbc8337-332e-4585-aa49-173f3008f66e'), AIMessage(content=\"It seems you've provided an identification number. Could you please let me know how I can assist you today, especially if you have a specific query related to doctor availability or hospital FAQs?\", additional_kwargs={}, response_metadata={}, name='information_node', id='9fa3e84f-1acf-4655-8120-543196be2aa0'), AIMessage(content=\"Please let me know if you need information on doctor availability or have any questions related to the hospital's services.\", additional_kwargs={}, response_metadata={}, name='information_node', id='eacf6b00-76b8-4cea-8ff4-2b0d2264fdce'), AIMessage(content=\"If you need to check the availability of a specific doctor or specialization on a particular date, feel free to provide me with the details. I'm here to help!\", additional_kwargs={}, response_metadata={}, name='information_node', id='f9c095b4-5b35-47f4-a32c-a1297b0be0a8'), AIMessage(content=\"It seems you've provided an identification number. Please let me know if you need assistance with doctor availability or have any questions related to our hospital services!\", additional_kwargs={}, response_metadata={}, name='information_node', id='3f3a93ca-4fc5-4196-89fe-575ac90d4bf9'), AIMessage(content=\"It seems like you've provided an identification number. How can I assist you today? If you have any questions related to doctor availability or other hospital-related inquiries, please let me know!\", additional_kwargs={}, response_metadata={}, name='information_node', id='6c17dd88-1041-473a-a5b1-f9e2e76858f4'), AIMessage(content=\"It looks like you've shared an identification number. Please provide me with further details about how I can assist you, such as checking a doctor's availability or answering any hospital-related questions.\", additional_kwargs={}, response_metadata={}, name='information_node', id='da75a885-6239-4eb3-b921-8e8c546c53c8'), AIMessage(content=\"It seems like you've provided an identification number. How may I assist you today? If you have a question regarding doctor availability or other hospital-related queries, please let me know!\", additional_kwargs={}, response_metadata={}, name='information_node', id='4708262a-6daf-4173-825f-2dd26f56e5f5'), AIMessage(content=\"It seems you've provided an identification number. Let me know if there's anything specific you need, like checking the availability of a doctor or specialized service, or any other hospital-related inquiry.\", additional_kwargs={}, response_metadata={}, name='information_node')], 'id_number': 1111223, 'next': 'information_node', 'query': 'can you check and make a booking if dentist available on 8 August 2024 at 8 PM?', 'current_reasoning': \"Having received an identification number from the user, it's logical to check if the user needs information related to doctor availability or FAQs related to the hospital. Utilizing this, the information_node can further assist in clarifying the user's request.\"}\n",
      "***********************this is my message*****************************************\n",
      "[{'role': 'system', 'content': \"You are a supervisor tasked with managing a conversation between following workers. ### SPECIALIZED ASSISTANT:\\nWORKER: information_node \\nDESCRIPTION: specialized agent to provide information related to availability of doctors or any FAQs related to hospital.\\n\\nWORKER: booking_node \\nDESCRIPTION: specialized agent to only to book, cancel or reschedule appointment\\n\\nWORKER: FINISH \\nDESCRIPTION: If User Query is answered and route to Finished\\n\\nYour primary role is to help the user make an appointment with the doctor and provide updates on FAQs and doctor's availability. If a customer requests to know the availability of a doctor or to book, reschedule, or cancel an appointment, delegate the task to the appropriate specialized workers. Given the following user request, respond with the worker to act next. Each worker will perform a task and respond with their results and status. When finished, respond with FINISH.UTILIZE last conversation to assess if the conversation should end you answered the query, then route to FINISH \"}, {'role': 'user', 'content': \"user's identification number is 1111223\"}, HumanMessage(content=\"user's identification number is 1111223\", additional_kwargs={}, response_metadata={}, id='adbc8337-332e-4585-aa49-173f3008f66e'), AIMessage(content=\"It seems you've provided an identification number. Could you please let me know how I can assist you today, especially if you have a specific query related to doctor availability or hospital FAQs?\", additional_kwargs={}, response_metadata={}, name='information_node', id='9fa3e84f-1acf-4655-8120-543196be2aa0'), AIMessage(content=\"Please let me know if you need information on doctor availability or have any questions related to the hospital's services.\", additional_kwargs={}, response_metadata={}, name='information_node', id='eacf6b00-76b8-4cea-8ff4-2b0d2264fdce'), AIMessage(content=\"If you need to check the availability of a specific doctor or specialization on a particular date, feel free to provide me with the details. I'm here to help!\", additional_kwargs={}, response_metadata={}, name='information_node', id='f9c095b4-5b35-47f4-a32c-a1297b0be0a8'), AIMessage(content=\"It seems you've provided an identification number. Please let me know if you need assistance with doctor availability or have any questions related to our hospital services!\", additional_kwargs={}, response_metadata={}, name='information_node', id='3f3a93ca-4fc5-4196-89fe-575ac90d4bf9'), AIMessage(content=\"It seems like you've provided an identification number. How can I assist you today? If you have any questions related to doctor availability or other hospital-related inquiries, please let me know!\", additional_kwargs={}, response_metadata={}, name='information_node', id='6c17dd88-1041-473a-a5b1-f9e2e76858f4'), AIMessage(content=\"It looks like you've shared an identification number. Please provide me with further details about how I can assist you, such as checking a doctor's availability or answering any hospital-related questions.\", additional_kwargs={}, response_metadata={}, name='information_node', id='da75a885-6239-4eb3-b921-8e8c546c53c8'), AIMessage(content=\"It seems like you've provided an identification number. How may I assist you today? If you have a question regarding doctor availability or other hospital-related queries, please let me know!\", additional_kwargs={}, response_metadata={}, name='information_node', id='4708262a-6daf-4173-825f-2dd26f56e5f5'), AIMessage(content=\"It seems you've provided an identification number. Let me know if there's anything specific you need, like checking the availability of a doctor or specialized service, or any other hospital-related inquiry.\", additional_kwargs={}, response_metadata={}, name='information_node')]\n",
      "************below is my query********************\n",
      "\n",
      "********************************this is my goto*************************\n",
      "information_node\n",
      "********************************\n",
      "The user has provided their identification number, which typically indicates they may be seeking specific information related to their account, such as doctor availability or hospital FAQs. Since no specific request for booking or appointment changes has been made yet, the conversation should be directed to the information node to provide relevant details or information needed.\n",
      "**************************below is my state****************************\n",
      "{'messages': [HumanMessage(content=\"user's identification number is 1111223\", additional_kwargs={}, response_metadata={}, id='adbc8337-332e-4585-aa49-173f3008f66e'), AIMessage(content=\"It seems you've provided an identification number. Could you please let me know how I can assist you today, especially if you have a specific query related to doctor availability or hospital FAQs?\", additional_kwargs={}, response_metadata={}, name='information_node', id='9fa3e84f-1acf-4655-8120-543196be2aa0'), AIMessage(content=\"Please let me know if you need information on doctor availability or have any questions related to the hospital's services.\", additional_kwargs={}, response_metadata={}, name='information_node', id='eacf6b00-76b8-4cea-8ff4-2b0d2264fdce'), AIMessage(content=\"If you need to check the availability of a specific doctor or specialization on a particular date, feel free to provide me with the details. I'm here to help!\", additional_kwargs={}, response_metadata={}, name='information_node', id='f9c095b4-5b35-47f4-a32c-a1297b0be0a8'), AIMessage(content=\"It seems you've provided an identification number. Please let me know if you need assistance with doctor availability or have any questions related to our hospital services!\", additional_kwargs={}, response_metadata={}, name='information_node', id='3f3a93ca-4fc5-4196-89fe-575ac90d4bf9'), AIMessage(content=\"It seems like you've provided an identification number. How can I assist you today? If you have any questions related to doctor availability or other hospital-related inquiries, please let me know!\", additional_kwargs={}, response_metadata={}, name='information_node', id='6c17dd88-1041-473a-a5b1-f9e2e76858f4'), AIMessage(content=\"It looks like you've shared an identification number. Please provide me with further details about how I can assist you, such as checking a doctor's availability or answering any hospital-related questions.\", additional_kwargs={}, response_metadata={}, name='information_node', id='da75a885-6239-4eb3-b921-8e8c546c53c8'), AIMessage(content=\"It seems like you've provided an identification number. How may I assist you today? If you have a question regarding doctor availability or other hospital-related queries, please let me know!\", additional_kwargs={}, response_metadata={}, name='information_node', id='4708262a-6daf-4173-825f-2dd26f56e5f5'), AIMessage(content=\"It seems you've provided an identification number. Let me know if there's anything specific you need, like checking the availability of a doctor or specialized service, or any other hospital-related inquiry.\", additional_kwargs={}, response_metadata={}, name='information_node')], 'id_number': 1111223, 'next': 'information_node', 'query': 'can you check and make a booking if dentist available on 8 August 2024 at 8 PM?', 'current_reasoning': \"Having received an identification number from the user, it's logical to check if the user needs information related to doctor availability or FAQs related to the hospital. Utilizing this, the information_node can further assist in clarifying the user's request.\"}\n",
      "*****************called information node************\n",
      "**************************below is my state right after entering****************************\n",
      "{'messages': [HumanMessage(content=\"user's identification number is 1111223\", additional_kwargs={}, response_metadata={}, id='adbc8337-332e-4585-aa49-173f3008f66e'), AIMessage(content=\"It seems you've provided an identification number. Could you please let me know how I can assist you today, especially if you have a specific query related to doctor availability or hospital FAQs?\", additional_kwargs={}, response_metadata={}, name='information_node', id='9fa3e84f-1acf-4655-8120-543196be2aa0'), AIMessage(content=\"Please let me know if you need information on doctor availability or have any questions related to the hospital's services.\", additional_kwargs={}, response_metadata={}, name='information_node', id='eacf6b00-76b8-4cea-8ff4-2b0d2264fdce'), AIMessage(content=\"If you need to check the availability of a specific doctor or specialization on a particular date, feel free to provide me with the details. I'm here to help!\", additional_kwargs={}, response_metadata={}, name='information_node', id='f9c095b4-5b35-47f4-a32c-a1297b0be0a8'), AIMessage(content=\"It seems you've provided an identification number. Please let me know if you need assistance with doctor availability or have any questions related to our hospital services!\", additional_kwargs={}, response_metadata={}, name='information_node', id='3f3a93ca-4fc5-4196-89fe-575ac90d4bf9'), AIMessage(content=\"It seems like you've provided an identification number. How can I assist you today? If you have any questions related to doctor availability or other hospital-related inquiries, please let me know!\", additional_kwargs={}, response_metadata={}, name='information_node', id='6c17dd88-1041-473a-a5b1-f9e2e76858f4'), AIMessage(content=\"It looks like you've shared an identification number. Please provide me with further details about how I can assist you, such as checking a doctor's availability or answering any hospital-related questions.\", additional_kwargs={}, response_metadata={}, name='information_node', id='da75a885-6239-4eb3-b921-8e8c546c53c8'), AIMessage(content=\"It seems like you've provided an identification number. How may I assist you today? If you have a question regarding doctor availability or other hospital-related queries, please let me know!\", additional_kwargs={}, response_metadata={}, name='information_node', id='4708262a-6daf-4173-825f-2dd26f56e5f5'), AIMessage(content=\"It seems you've provided an identification number. Let me know if there's anything specific you need, like checking the availability of a doctor or specialized service, or any other hospital-related inquiry.\", additional_kwargs={}, response_metadata={}, name='information_node', id='4b6cc945-e40e-49b9-b731-8ca07355751b'), AIMessage(content='If you have a specific query about doctor availability or any other hospital-related questions, please let me know how I can assist you further!', additional_kwargs={}, response_metadata={}, name='information_node')], 'id_number': 1111223, 'next': 'information_node', 'query': 'can you check and make a booking if dentist available on 8 August 2024 at 8 PM?', 'current_reasoning': 'The user has provided their identification number, which typically indicates they may be seeking specific information related to their account, such as doctor availability or hospital FAQs. Since no specific request for booking or appointment changes has been made yet, the conversation should be directed to the information node to provide relevant details or information needed.'}\n",
      "***********************this is my message*****************************************\n",
      "[{'role': 'system', 'content': \"You are a supervisor tasked with managing a conversation between following workers. ### SPECIALIZED ASSISTANT:\\nWORKER: information_node \\nDESCRIPTION: specialized agent to provide information related to availability of doctors or any FAQs related to hospital.\\n\\nWORKER: booking_node \\nDESCRIPTION: specialized agent to only to book, cancel or reschedule appointment\\n\\nWORKER: FINISH \\nDESCRIPTION: If User Query is answered and route to Finished\\n\\nYour primary role is to help the user make an appointment with the doctor and provide updates on FAQs and doctor's availability. If a customer requests to know the availability of a doctor or to book, reschedule, or cancel an appointment, delegate the task to the appropriate specialized workers. Given the following user request, respond with the worker to act next. Each worker will perform a task and respond with their results and status. When finished, respond with FINISH.UTILIZE last conversation to assess if the conversation should end you answered the query, then route to FINISH \"}, {'role': 'user', 'content': \"user's identification number is 1111223\"}, HumanMessage(content=\"user's identification number is 1111223\", additional_kwargs={}, response_metadata={}, id='adbc8337-332e-4585-aa49-173f3008f66e'), AIMessage(content=\"It seems you've provided an identification number. Could you please let me know how I can assist you today, especially if you have a specific query related to doctor availability or hospital FAQs?\", additional_kwargs={}, response_metadata={}, name='information_node', id='9fa3e84f-1acf-4655-8120-543196be2aa0'), AIMessage(content=\"Please let me know if you need information on doctor availability or have any questions related to the hospital's services.\", additional_kwargs={}, response_metadata={}, name='information_node', id='eacf6b00-76b8-4cea-8ff4-2b0d2264fdce'), AIMessage(content=\"If you need to check the availability of a specific doctor or specialization on a particular date, feel free to provide me with the details. I'm here to help!\", additional_kwargs={}, response_metadata={}, name='information_node', id='f9c095b4-5b35-47f4-a32c-a1297b0be0a8'), AIMessage(content=\"It seems you've provided an identification number. Please let me know if you need assistance with doctor availability or have any questions related to our hospital services!\", additional_kwargs={}, response_metadata={}, name='information_node', id='3f3a93ca-4fc5-4196-89fe-575ac90d4bf9'), AIMessage(content=\"It seems like you've provided an identification number. How can I assist you today? If you have any questions related to doctor availability or other hospital-related inquiries, please let me know!\", additional_kwargs={}, response_metadata={}, name='information_node', id='6c17dd88-1041-473a-a5b1-f9e2e76858f4'), AIMessage(content=\"It looks like you've shared an identification number. Please provide me with further details about how I can assist you, such as checking a doctor's availability or answering any hospital-related questions.\", additional_kwargs={}, response_metadata={}, name='information_node', id='da75a885-6239-4eb3-b921-8e8c546c53c8'), AIMessage(content=\"It seems like you've provided an identification number. How may I assist you today? If you have a question regarding doctor availability or other hospital-related queries, please let me know!\", additional_kwargs={}, response_metadata={}, name='information_node', id='4708262a-6daf-4173-825f-2dd26f56e5f5'), AIMessage(content=\"It seems you've provided an identification number. Let me know if there's anything specific you need, like checking the availability of a doctor or specialized service, or any other hospital-related inquiry.\", additional_kwargs={}, response_metadata={}, name='information_node', id='4b6cc945-e40e-49b9-b731-8ca07355751b'), AIMessage(content='If you have a specific query about doctor availability or any other hospital-related questions, please let me know how I can assist you further!', additional_kwargs={}, response_metadata={}, name='information_node')]\n",
      "************below is my query********************\n",
      "\n",
      "********************************this is my goto*************************\n",
      "information_node\n",
      "********************************\n",
      "The user has provided an identification number but has not specified a request. It's possible they might want information about doctor's availability or other hospital-related queries. Thus, it's appropriate to engage the 'information_node' to potentially gather more context or respond to an implied information request.\n",
      "**************************below is my state****************************\n",
      "{'messages': [HumanMessage(content=\"user's identification number is 1111223\", additional_kwargs={}, response_metadata={}, id='adbc8337-332e-4585-aa49-173f3008f66e'), AIMessage(content=\"It seems you've provided an identification number. Could you please let me know how I can assist you today, especially if you have a specific query related to doctor availability or hospital FAQs?\", additional_kwargs={}, response_metadata={}, name='information_node', id='9fa3e84f-1acf-4655-8120-543196be2aa0'), AIMessage(content=\"Please let me know if you need information on doctor availability or have any questions related to the hospital's services.\", additional_kwargs={}, response_metadata={}, name='information_node', id='eacf6b00-76b8-4cea-8ff4-2b0d2264fdce'), AIMessage(content=\"If you need to check the availability of a specific doctor or specialization on a particular date, feel free to provide me with the details. I'm here to help!\", additional_kwargs={}, response_metadata={}, name='information_node', id='f9c095b4-5b35-47f4-a32c-a1297b0be0a8'), AIMessage(content=\"It seems you've provided an identification number. Please let me know if you need assistance with doctor availability or have any questions related to our hospital services!\", additional_kwargs={}, response_metadata={}, name='information_node', id='3f3a93ca-4fc5-4196-89fe-575ac90d4bf9'), AIMessage(content=\"It seems like you've provided an identification number. How can I assist you today? If you have any questions related to doctor availability or other hospital-related inquiries, please let me know!\", additional_kwargs={}, response_metadata={}, name='information_node', id='6c17dd88-1041-473a-a5b1-f9e2e76858f4'), AIMessage(content=\"It looks like you've shared an identification number. Please provide me with further details about how I can assist you, such as checking a doctor's availability or answering any hospital-related questions.\", additional_kwargs={}, response_metadata={}, name='information_node', id='da75a885-6239-4eb3-b921-8e8c546c53c8'), AIMessage(content=\"It seems like you've provided an identification number. How may I assist you today? If you have a question regarding doctor availability or other hospital-related queries, please let me know!\", additional_kwargs={}, response_metadata={}, name='information_node', id='4708262a-6daf-4173-825f-2dd26f56e5f5'), AIMessage(content=\"It seems you've provided an identification number. Let me know if there's anything specific you need, like checking the availability of a doctor or specialized service, or any other hospital-related inquiry.\", additional_kwargs={}, response_metadata={}, name='information_node', id='4b6cc945-e40e-49b9-b731-8ca07355751b'), AIMessage(content='If you have a specific query about doctor availability or any other hospital-related questions, please let me know how I can assist you further!', additional_kwargs={}, response_metadata={}, name='information_node')], 'id_number': 1111223, 'next': 'information_node', 'query': 'can you check and make a booking if dentist available on 8 August 2024 at 8 PM?', 'current_reasoning': 'The user has provided their identification number, which typically indicates they may be seeking specific information related to their account, such as doctor availability or hospital FAQs. Since no specific request for booking or appointment changes has been made yet, the conversation should be directed to the information node to provide relevant details or information needed.'}\n",
      "*****************called information node************\n",
      "**************************below is my state right after entering****************************\n",
      "{'messages': [HumanMessage(content=\"user's identification number is 1111223\", additional_kwargs={}, response_metadata={}, id='adbc8337-332e-4585-aa49-173f3008f66e'), AIMessage(content=\"It seems you've provided an identification number. Could you please let me know how I can assist you today, especially if you have a specific query related to doctor availability or hospital FAQs?\", additional_kwargs={}, response_metadata={}, name='information_node', id='9fa3e84f-1acf-4655-8120-543196be2aa0'), AIMessage(content=\"Please let me know if you need information on doctor availability or have any questions related to the hospital's services.\", additional_kwargs={}, response_metadata={}, name='information_node', id='eacf6b00-76b8-4cea-8ff4-2b0d2264fdce'), AIMessage(content=\"If you need to check the availability of a specific doctor or specialization on a particular date, feel free to provide me with the details. I'm here to help!\", additional_kwargs={}, response_metadata={}, name='information_node', id='f9c095b4-5b35-47f4-a32c-a1297b0be0a8'), AIMessage(content=\"It seems you've provided an identification number. Please let me know if you need assistance with doctor availability or have any questions related to our hospital services!\", additional_kwargs={}, response_metadata={}, name='information_node', id='3f3a93ca-4fc5-4196-89fe-575ac90d4bf9'), AIMessage(content=\"It seems like you've provided an identification number. How can I assist you today? If you have any questions related to doctor availability or other hospital-related inquiries, please let me know!\", additional_kwargs={}, response_metadata={}, name='information_node', id='6c17dd88-1041-473a-a5b1-f9e2e76858f4'), AIMessage(content=\"It looks like you've shared an identification number. Please provide me with further details about how I can assist you, such as checking a doctor's availability or answering any hospital-related questions.\", additional_kwargs={}, response_metadata={}, name='information_node', id='da75a885-6239-4eb3-b921-8e8c546c53c8'), AIMessage(content=\"It seems like you've provided an identification number. How may I assist you today? If you have a question regarding doctor availability or other hospital-related queries, please let me know!\", additional_kwargs={}, response_metadata={}, name='information_node', id='4708262a-6daf-4173-825f-2dd26f56e5f5'), AIMessage(content=\"It seems you've provided an identification number. Let me know if there's anything specific you need, like checking the availability of a doctor or specialized service, or any other hospital-related inquiry.\", additional_kwargs={}, response_metadata={}, name='information_node', id='4b6cc945-e40e-49b9-b731-8ca07355751b'), AIMessage(content='If you have a specific query about doctor availability or any other hospital-related questions, please let me know how I can assist you further!', additional_kwargs={}, response_metadata={}, name='information_node', id='83ac4e9a-58f1-4b8f-9de5-412e4a611054'), AIMessage(content='Could you please share the details regarding whether you want to check doctor availability or have other hospital-related inquiries?', additional_kwargs={}, response_metadata={}, name='information_node')], 'id_number': 1111223, 'next': 'information_node', 'query': 'can you check and make a booking if dentist available on 8 August 2024 at 8 PM?', 'current_reasoning': \"The user has provided an identification number but has not specified a request. It's possible they might want information about doctor's availability or other hospital-related queries. Thus, it's appropriate to engage the 'information_node' to potentially gather more context or respond to an implied information request.\"}\n",
      "***********************this is my message*****************************************\n",
      "[{'role': 'system', 'content': \"You are a supervisor tasked with managing a conversation between following workers. ### SPECIALIZED ASSISTANT:\\nWORKER: information_node \\nDESCRIPTION: specialized agent to provide information related to availability of doctors or any FAQs related to hospital.\\n\\nWORKER: booking_node \\nDESCRIPTION: specialized agent to only to book, cancel or reschedule appointment\\n\\nWORKER: FINISH \\nDESCRIPTION: If User Query is answered and route to Finished\\n\\nYour primary role is to help the user make an appointment with the doctor and provide updates on FAQs and doctor's availability. If a customer requests to know the availability of a doctor or to book, reschedule, or cancel an appointment, delegate the task to the appropriate specialized workers. Given the following user request, respond with the worker to act next. Each worker will perform a task and respond with their results and status. When finished, respond with FINISH.UTILIZE last conversation to assess if the conversation should end you answered the query, then route to FINISH \"}, {'role': 'user', 'content': \"user's identification number is 1111223\"}, HumanMessage(content=\"user's identification number is 1111223\", additional_kwargs={}, response_metadata={}, id='adbc8337-332e-4585-aa49-173f3008f66e'), AIMessage(content=\"It seems you've provided an identification number. Could you please let me know how I can assist you today, especially if you have a specific query related to doctor availability or hospital FAQs?\", additional_kwargs={}, response_metadata={}, name='information_node', id='9fa3e84f-1acf-4655-8120-543196be2aa0'), AIMessage(content=\"Please let me know if you need information on doctor availability or have any questions related to the hospital's services.\", additional_kwargs={}, response_metadata={}, name='information_node', id='eacf6b00-76b8-4cea-8ff4-2b0d2264fdce'), AIMessage(content=\"If you need to check the availability of a specific doctor or specialization on a particular date, feel free to provide me with the details. I'm here to help!\", additional_kwargs={}, response_metadata={}, name='information_node', id='f9c095b4-5b35-47f4-a32c-a1297b0be0a8'), AIMessage(content=\"It seems you've provided an identification number. Please let me know if you need assistance with doctor availability or have any questions related to our hospital services!\", additional_kwargs={}, response_metadata={}, name='information_node', id='3f3a93ca-4fc5-4196-89fe-575ac90d4bf9'), AIMessage(content=\"It seems like you've provided an identification number. How can I assist you today? If you have any questions related to doctor availability or other hospital-related inquiries, please let me know!\", additional_kwargs={}, response_metadata={}, name='information_node', id='6c17dd88-1041-473a-a5b1-f9e2e76858f4'), AIMessage(content=\"It looks like you've shared an identification number. Please provide me with further details about how I can assist you, such as checking a doctor's availability or answering any hospital-related questions.\", additional_kwargs={}, response_metadata={}, name='information_node', id='da75a885-6239-4eb3-b921-8e8c546c53c8'), AIMessage(content=\"It seems like you've provided an identification number. How may I assist you today? If you have a question regarding doctor availability or other hospital-related queries, please let me know!\", additional_kwargs={}, response_metadata={}, name='information_node', id='4708262a-6daf-4173-825f-2dd26f56e5f5'), AIMessage(content=\"It seems you've provided an identification number. Let me know if there's anything specific you need, like checking the availability of a doctor or specialized service, or any other hospital-related inquiry.\", additional_kwargs={}, response_metadata={}, name='information_node', id='4b6cc945-e40e-49b9-b731-8ca07355751b'), AIMessage(content='If you have a specific query about doctor availability or any other hospital-related questions, please let me know how I can assist you further!', additional_kwargs={}, response_metadata={}, name='information_node', id='83ac4e9a-58f1-4b8f-9de5-412e4a611054'), AIMessage(content='Could you please share the details regarding whether you want to check doctor availability or have other hospital-related inquiries?', additional_kwargs={}, response_metadata={}, name='information_node')]\n",
      "************below is my query********************\n",
      "\n",
      "********************************this is my goto*************************\n",
      "information_node\n",
      "********************************\n",
      "The user has provided an identification number but hasn't specified their request. We need more information to determine their exact need. I'll engage the information node to clarify whether they need details about doctor availability or have other questions related to the hospital.\n",
      "**************************below is my state****************************\n",
      "{'messages': [HumanMessage(content=\"user's identification number is 1111223\", additional_kwargs={}, response_metadata={}, id='adbc8337-332e-4585-aa49-173f3008f66e'), AIMessage(content=\"It seems you've provided an identification number. Could you please let me know how I can assist you today, especially if you have a specific query related to doctor availability or hospital FAQs?\", additional_kwargs={}, response_metadata={}, name='information_node', id='9fa3e84f-1acf-4655-8120-543196be2aa0'), AIMessage(content=\"Please let me know if you need information on doctor availability or have any questions related to the hospital's services.\", additional_kwargs={}, response_metadata={}, name='information_node', id='eacf6b00-76b8-4cea-8ff4-2b0d2264fdce'), AIMessage(content=\"If you need to check the availability of a specific doctor or specialization on a particular date, feel free to provide me with the details. I'm here to help!\", additional_kwargs={}, response_metadata={}, name='information_node', id='f9c095b4-5b35-47f4-a32c-a1297b0be0a8'), AIMessage(content=\"It seems you've provided an identification number. Please let me know if you need assistance with doctor availability or have any questions related to our hospital services!\", additional_kwargs={}, response_metadata={}, name='information_node', id='3f3a93ca-4fc5-4196-89fe-575ac90d4bf9'), AIMessage(content=\"It seems like you've provided an identification number. How can I assist you today? If you have any questions related to doctor availability or other hospital-related inquiries, please let me know!\", additional_kwargs={}, response_metadata={}, name='information_node', id='6c17dd88-1041-473a-a5b1-f9e2e76858f4'), AIMessage(content=\"It looks like you've shared an identification number. Please provide me with further details about how I can assist you, such as checking a doctor's availability or answering any hospital-related questions.\", additional_kwargs={}, response_metadata={}, name='information_node', id='da75a885-6239-4eb3-b921-8e8c546c53c8'), AIMessage(content=\"It seems like you've provided an identification number. How may I assist you today? If you have a question regarding doctor availability or other hospital-related queries, please let me know!\", additional_kwargs={}, response_metadata={}, name='information_node', id='4708262a-6daf-4173-825f-2dd26f56e5f5'), AIMessage(content=\"It seems you've provided an identification number. Let me know if there's anything specific you need, like checking the availability of a doctor or specialized service, or any other hospital-related inquiry.\", additional_kwargs={}, response_metadata={}, name='information_node', id='4b6cc945-e40e-49b9-b731-8ca07355751b'), AIMessage(content='If you have a specific query about doctor availability or any other hospital-related questions, please let me know how I can assist you further!', additional_kwargs={}, response_metadata={}, name='information_node', id='83ac4e9a-58f1-4b8f-9de5-412e4a611054'), AIMessage(content='Could you please share the details regarding whether you want to check doctor availability or have other hospital-related inquiries?', additional_kwargs={}, response_metadata={}, name='information_node')], 'id_number': 1111223, 'next': 'information_node', 'query': 'can you check and make a booking if dentist available on 8 August 2024 at 8 PM?', 'current_reasoning': \"The user has provided an identification number but has not specified a request. It's possible they might want information about doctor's availability or other hospital-related queries. Thus, it's appropriate to engage the 'information_node' to potentially gather more context or respond to an implied information request.\"}\n",
      "*****************called information node************\n",
      "**************************below is my state right after entering****************************\n",
      "{'messages': [HumanMessage(content=\"user's identification number is 1111223\", additional_kwargs={}, response_metadata={}, id='adbc8337-332e-4585-aa49-173f3008f66e'), AIMessage(content=\"It seems you've provided an identification number. Could you please let me know how I can assist you today, especially if you have a specific query related to doctor availability or hospital FAQs?\", additional_kwargs={}, response_metadata={}, name='information_node', id='9fa3e84f-1acf-4655-8120-543196be2aa0'), AIMessage(content=\"Please let me know if you need information on doctor availability or have any questions related to the hospital's services.\", additional_kwargs={}, response_metadata={}, name='information_node', id='eacf6b00-76b8-4cea-8ff4-2b0d2264fdce'), AIMessage(content=\"If you need to check the availability of a specific doctor or specialization on a particular date, feel free to provide me with the details. I'm here to help!\", additional_kwargs={}, response_metadata={}, name='information_node', id='f9c095b4-5b35-47f4-a32c-a1297b0be0a8'), AIMessage(content=\"It seems you've provided an identification number. Please let me know if you need assistance with doctor availability or have any questions related to our hospital services!\", additional_kwargs={}, response_metadata={}, name='information_node', id='3f3a93ca-4fc5-4196-89fe-575ac90d4bf9'), AIMessage(content=\"It seems like you've provided an identification number. How can I assist you today? If you have any questions related to doctor availability or other hospital-related inquiries, please let me know!\", additional_kwargs={}, response_metadata={}, name='information_node', id='6c17dd88-1041-473a-a5b1-f9e2e76858f4'), AIMessage(content=\"It looks like you've shared an identification number. Please provide me with further details about how I can assist you, such as checking a doctor's availability or answering any hospital-related questions.\", additional_kwargs={}, response_metadata={}, name='information_node', id='da75a885-6239-4eb3-b921-8e8c546c53c8'), AIMessage(content=\"It seems like you've provided an identification number. How may I assist you today? If you have a question regarding doctor availability or other hospital-related queries, please let me know!\", additional_kwargs={}, response_metadata={}, name='information_node', id='4708262a-6daf-4173-825f-2dd26f56e5f5'), AIMessage(content=\"It seems you've provided an identification number. Let me know if there's anything specific you need, like checking the availability of a doctor or specialized service, or any other hospital-related inquiry.\", additional_kwargs={}, response_metadata={}, name='information_node', id='4b6cc945-e40e-49b9-b731-8ca07355751b'), AIMessage(content='If you have a specific query about doctor availability or any other hospital-related questions, please let me know how I can assist you further!', additional_kwargs={}, response_metadata={}, name='information_node', id='83ac4e9a-58f1-4b8f-9de5-412e4a611054'), AIMessage(content='Could you please share the details regarding whether you want to check doctor availability or have other hospital-related inquiries?', additional_kwargs={}, response_metadata={}, name='information_node', id='b68afadd-5061-46ee-a840-9a3e0dfa1b38'), AIMessage(content='I can assist you with hospital-related information or checking the availability of doctors. Could you please specify how I can assist you today?', additional_kwargs={}, response_metadata={}, name='information_node')], 'id_number': 1111223, 'next': 'information_node', 'query': 'can you check and make a booking if dentist available on 8 August 2024 at 8 PM?', 'current_reasoning': \"The user has provided an identification number but hasn't specified their request. We need more information to determine their exact need. I'll engage the information node to clarify whether they need details about doctor availability or have other questions related to the hospital.\"}\n",
      "***********************this is my message*****************************************\n",
      "[{'role': 'system', 'content': \"You are a supervisor tasked with managing a conversation between following workers. ### SPECIALIZED ASSISTANT:\\nWORKER: information_node \\nDESCRIPTION: specialized agent to provide information related to availability of doctors or any FAQs related to hospital.\\n\\nWORKER: booking_node \\nDESCRIPTION: specialized agent to only to book, cancel or reschedule appointment\\n\\nWORKER: FINISH \\nDESCRIPTION: If User Query is answered and route to Finished\\n\\nYour primary role is to help the user make an appointment with the doctor and provide updates on FAQs and doctor's availability. If a customer requests to know the availability of a doctor or to book, reschedule, or cancel an appointment, delegate the task to the appropriate specialized workers. Given the following user request, respond with the worker to act next. Each worker will perform a task and respond with their results and status. When finished, respond with FINISH.UTILIZE last conversation to assess if the conversation should end you answered the query, then route to FINISH \"}, {'role': 'user', 'content': \"user's identification number is 1111223\"}, HumanMessage(content=\"user's identification number is 1111223\", additional_kwargs={}, response_metadata={}, id='adbc8337-332e-4585-aa49-173f3008f66e'), AIMessage(content=\"It seems you've provided an identification number. Could you please let me know how I can assist you today, especially if you have a specific query related to doctor availability or hospital FAQs?\", additional_kwargs={}, response_metadata={}, name='information_node', id='9fa3e84f-1acf-4655-8120-543196be2aa0'), AIMessage(content=\"Please let me know if you need information on doctor availability or have any questions related to the hospital's services.\", additional_kwargs={}, response_metadata={}, name='information_node', id='eacf6b00-76b8-4cea-8ff4-2b0d2264fdce'), AIMessage(content=\"If you need to check the availability of a specific doctor or specialization on a particular date, feel free to provide me with the details. I'm here to help!\", additional_kwargs={}, response_metadata={}, name='information_node', id='f9c095b4-5b35-47f4-a32c-a1297b0be0a8'), AIMessage(content=\"It seems you've provided an identification number. Please let me know if you need assistance with doctor availability or have any questions related to our hospital services!\", additional_kwargs={}, response_metadata={}, name='information_node', id='3f3a93ca-4fc5-4196-89fe-575ac90d4bf9'), AIMessage(content=\"It seems like you've provided an identification number. How can I assist you today? If you have any questions related to doctor availability or other hospital-related inquiries, please let me know!\", additional_kwargs={}, response_metadata={}, name='information_node', id='6c17dd88-1041-473a-a5b1-f9e2e76858f4'), AIMessage(content=\"It looks like you've shared an identification number. Please provide me with further details about how I can assist you, such as checking a doctor's availability or answering any hospital-related questions.\", additional_kwargs={}, response_metadata={}, name='information_node', id='da75a885-6239-4eb3-b921-8e8c546c53c8'), AIMessage(content=\"It seems like you've provided an identification number. How may I assist you today? If you have a question regarding doctor availability or other hospital-related queries, please let me know!\", additional_kwargs={}, response_metadata={}, name='information_node', id='4708262a-6daf-4173-825f-2dd26f56e5f5'), AIMessage(content=\"It seems you've provided an identification number. Let me know if there's anything specific you need, like checking the availability of a doctor or specialized service, or any other hospital-related inquiry.\", additional_kwargs={}, response_metadata={}, name='information_node', id='4b6cc945-e40e-49b9-b731-8ca07355751b'), AIMessage(content='If you have a specific query about doctor availability or any other hospital-related questions, please let me know how I can assist you further!', additional_kwargs={}, response_metadata={}, name='information_node', id='83ac4e9a-58f1-4b8f-9de5-412e4a611054'), AIMessage(content='Could you please share the details regarding whether you want to check doctor availability or have other hospital-related inquiries?', additional_kwargs={}, response_metadata={}, name='information_node', id='b68afadd-5061-46ee-a840-9a3e0dfa1b38'), AIMessage(content='I can assist you with hospital-related information or checking the availability of doctors. Could you please specify how I can assist you today?', additional_kwargs={}, response_metadata={}, name='information_node')]\n",
      "************below is my query********************\n",
      "\n",
      "********************************this is my goto*************************\n",
      "information_node\n",
      "********************************\n",
      "The user has provided their identification number, which suggests they may need assistance related to checking doctor availability or other inquiries tied to their profile. Since there is no explicit request to book, cancel, or reschedule an appointment, it is appropriate to seek further clarification through the information node.\n",
      "**************************below is my state****************************\n",
      "{'messages': [HumanMessage(content=\"user's identification number is 1111223\", additional_kwargs={}, response_metadata={}, id='adbc8337-332e-4585-aa49-173f3008f66e'), AIMessage(content=\"It seems you've provided an identification number. Could you please let me know how I can assist you today, especially if you have a specific query related to doctor availability or hospital FAQs?\", additional_kwargs={}, response_metadata={}, name='information_node', id='9fa3e84f-1acf-4655-8120-543196be2aa0'), AIMessage(content=\"Please let me know if you need information on doctor availability or have any questions related to the hospital's services.\", additional_kwargs={}, response_metadata={}, name='information_node', id='eacf6b00-76b8-4cea-8ff4-2b0d2264fdce'), AIMessage(content=\"If you need to check the availability of a specific doctor or specialization on a particular date, feel free to provide me with the details. I'm here to help!\", additional_kwargs={}, response_metadata={}, name='information_node', id='f9c095b4-5b35-47f4-a32c-a1297b0be0a8'), AIMessage(content=\"It seems you've provided an identification number. Please let me know if you need assistance with doctor availability or have any questions related to our hospital services!\", additional_kwargs={}, response_metadata={}, name='information_node', id='3f3a93ca-4fc5-4196-89fe-575ac90d4bf9'), AIMessage(content=\"It seems like you've provided an identification number. How can I assist you today? If you have any questions related to doctor availability or other hospital-related inquiries, please let me know!\", additional_kwargs={}, response_metadata={}, name='information_node', id='6c17dd88-1041-473a-a5b1-f9e2e76858f4'), AIMessage(content=\"It looks like you've shared an identification number. Please provide me with further details about how I can assist you, such as checking a doctor's availability or answering any hospital-related questions.\", additional_kwargs={}, response_metadata={}, name='information_node', id='da75a885-6239-4eb3-b921-8e8c546c53c8'), AIMessage(content=\"It seems like you've provided an identification number. How may I assist you today? If you have a question regarding doctor availability or other hospital-related queries, please let me know!\", additional_kwargs={}, response_metadata={}, name='information_node', id='4708262a-6daf-4173-825f-2dd26f56e5f5'), AIMessage(content=\"It seems you've provided an identification number. Let me know if there's anything specific you need, like checking the availability of a doctor or specialized service, or any other hospital-related inquiry.\", additional_kwargs={}, response_metadata={}, name='information_node', id='4b6cc945-e40e-49b9-b731-8ca07355751b'), AIMessage(content='If you have a specific query about doctor availability or any other hospital-related questions, please let me know how I can assist you further!', additional_kwargs={}, response_metadata={}, name='information_node', id='83ac4e9a-58f1-4b8f-9de5-412e4a611054'), AIMessage(content='Could you please share the details regarding whether you want to check doctor availability or have other hospital-related inquiries?', additional_kwargs={}, response_metadata={}, name='information_node', id='b68afadd-5061-46ee-a840-9a3e0dfa1b38'), AIMessage(content='I can assist you with hospital-related information or checking the availability of doctors. Could you please specify how I can assist you today?', additional_kwargs={}, response_metadata={}, name='information_node')], 'id_number': 1111223, 'next': 'information_node', 'query': 'can you check and make a booking if dentist available on 8 August 2024 at 8 PM?', 'current_reasoning': \"The user has provided an identification number but hasn't specified their request. We need more information to determine their exact need. I'll engage the information node to clarify whether they need details about doctor availability or have other questions related to the hospital.\"}\n",
      "*****************called information node************\n",
      "**************************below is my state right after entering****************************\n",
      "{'messages': [HumanMessage(content=\"user's identification number is 1111223\", additional_kwargs={}, response_metadata={}, id='adbc8337-332e-4585-aa49-173f3008f66e'), AIMessage(content=\"It seems you've provided an identification number. Could you please let me know how I can assist you today, especially if you have a specific query related to doctor availability or hospital FAQs?\", additional_kwargs={}, response_metadata={}, name='information_node', id='9fa3e84f-1acf-4655-8120-543196be2aa0'), AIMessage(content=\"Please let me know if you need information on doctor availability or have any questions related to the hospital's services.\", additional_kwargs={}, response_metadata={}, name='information_node', id='eacf6b00-76b8-4cea-8ff4-2b0d2264fdce'), AIMessage(content=\"If you need to check the availability of a specific doctor or specialization on a particular date, feel free to provide me with the details. I'm here to help!\", additional_kwargs={}, response_metadata={}, name='information_node', id='f9c095b4-5b35-47f4-a32c-a1297b0be0a8'), AIMessage(content=\"It seems you've provided an identification number. Please let me know if you need assistance with doctor availability or have any questions related to our hospital services!\", additional_kwargs={}, response_metadata={}, name='information_node', id='3f3a93ca-4fc5-4196-89fe-575ac90d4bf9'), AIMessage(content=\"It seems like you've provided an identification number. How can I assist you today? If you have any questions related to doctor availability or other hospital-related inquiries, please let me know!\", additional_kwargs={}, response_metadata={}, name='information_node', id='6c17dd88-1041-473a-a5b1-f9e2e76858f4'), AIMessage(content=\"It looks like you've shared an identification number. Please provide me with further details about how I can assist you, such as checking a doctor's availability or answering any hospital-related questions.\", additional_kwargs={}, response_metadata={}, name='information_node', id='da75a885-6239-4eb3-b921-8e8c546c53c8'), AIMessage(content=\"It seems like you've provided an identification number. How may I assist you today? If you have a question regarding doctor availability or other hospital-related queries, please let me know!\", additional_kwargs={}, response_metadata={}, name='information_node', id='4708262a-6daf-4173-825f-2dd26f56e5f5'), AIMessage(content=\"It seems you've provided an identification number. Let me know if there's anything specific you need, like checking the availability of a doctor or specialized service, or any other hospital-related inquiry.\", additional_kwargs={}, response_metadata={}, name='information_node', id='4b6cc945-e40e-49b9-b731-8ca07355751b'), AIMessage(content='If you have a specific query about doctor availability or any other hospital-related questions, please let me know how I can assist you further!', additional_kwargs={}, response_metadata={}, name='information_node', id='83ac4e9a-58f1-4b8f-9de5-412e4a611054'), AIMessage(content='Could you please share the details regarding whether you want to check doctor availability or have other hospital-related inquiries?', additional_kwargs={}, response_metadata={}, name='information_node', id='b68afadd-5061-46ee-a840-9a3e0dfa1b38'), AIMessage(content='I can assist you with hospital-related information or checking the availability of doctors. Could you please specify how I can assist you today?', additional_kwargs={}, response_metadata={}, name='information_node', id='e88a9b1c-a4f5-4b16-9e52-1910b0a9b1f9'), AIMessage(content=\"It seems like you've mentioned a user's identification number. Could you please provide more details regarding your needs? For example, do you need information about a doctor's availability or have a specific hospital-related question?\", additional_kwargs={}, response_metadata={}, name='information_node')], 'id_number': 1111223, 'next': 'information_node', 'query': 'can you check and make a booking if dentist available on 8 August 2024 at 8 PM?', 'current_reasoning': 'The user has provided their identification number, which suggests they may need assistance related to checking doctor availability or other inquiries tied to their profile. Since there is no explicit request to book, cancel, or reschedule an appointment, it is appropriate to seek further clarification through the information node.'}\n",
      "***********************this is my message*****************************************\n",
      "[{'role': 'system', 'content': \"You are a supervisor tasked with managing a conversation between following workers. ### SPECIALIZED ASSISTANT:\\nWORKER: information_node \\nDESCRIPTION: specialized agent to provide information related to availability of doctors or any FAQs related to hospital.\\n\\nWORKER: booking_node \\nDESCRIPTION: specialized agent to only to book, cancel or reschedule appointment\\n\\nWORKER: FINISH \\nDESCRIPTION: If User Query is answered and route to Finished\\n\\nYour primary role is to help the user make an appointment with the doctor and provide updates on FAQs and doctor's availability. If a customer requests to know the availability of a doctor or to book, reschedule, or cancel an appointment, delegate the task to the appropriate specialized workers. Given the following user request, respond with the worker to act next. Each worker will perform a task and respond with their results and status. When finished, respond with FINISH.UTILIZE last conversation to assess if the conversation should end you answered the query, then route to FINISH \"}, {'role': 'user', 'content': \"user's identification number is 1111223\"}, HumanMessage(content=\"user's identification number is 1111223\", additional_kwargs={}, response_metadata={}, id='adbc8337-332e-4585-aa49-173f3008f66e'), AIMessage(content=\"It seems you've provided an identification number. Could you please let me know how I can assist you today, especially if you have a specific query related to doctor availability or hospital FAQs?\", additional_kwargs={}, response_metadata={}, name='information_node', id='9fa3e84f-1acf-4655-8120-543196be2aa0'), AIMessage(content=\"Please let me know if you need information on doctor availability or have any questions related to the hospital's services.\", additional_kwargs={}, response_metadata={}, name='information_node', id='eacf6b00-76b8-4cea-8ff4-2b0d2264fdce'), AIMessage(content=\"If you need to check the availability of a specific doctor or specialization on a particular date, feel free to provide me with the details. I'm here to help!\", additional_kwargs={}, response_metadata={}, name='information_node', id='f9c095b4-5b35-47f4-a32c-a1297b0be0a8'), AIMessage(content=\"It seems you've provided an identification number. Please let me know if you need assistance with doctor availability or have any questions related to our hospital services!\", additional_kwargs={}, response_metadata={}, name='information_node', id='3f3a93ca-4fc5-4196-89fe-575ac90d4bf9'), AIMessage(content=\"It seems like you've provided an identification number. How can I assist you today? If you have any questions related to doctor availability or other hospital-related inquiries, please let me know!\", additional_kwargs={}, response_metadata={}, name='information_node', id='6c17dd88-1041-473a-a5b1-f9e2e76858f4'), AIMessage(content=\"It looks like you've shared an identification number. Please provide me with further details about how I can assist you, such as checking a doctor's availability or answering any hospital-related questions.\", additional_kwargs={}, response_metadata={}, name='information_node', id='da75a885-6239-4eb3-b921-8e8c546c53c8'), AIMessage(content=\"It seems like you've provided an identification number. How may I assist you today? If you have a question regarding doctor availability or other hospital-related queries, please let me know!\", additional_kwargs={}, response_metadata={}, name='information_node', id='4708262a-6daf-4173-825f-2dd26f56e5f5'), AIMessage(content=\"It seems you've provided an identification number. Let me know if there's anything specific you need, like checking the availability of a doctor or specialized service, or any other hospital-related inquiry.\", additional_kwargs={}, response_metadata={}, name='information_node', id='4b6cc945-e40e-49b9-b731-8ca07355751b'), AIMessage(content='If you have a specific query about doctor availability or any other hospital-related questions, please let me know how I can assist you further!', additional_kwargs={}, response_metadata={}, name='information_node', id='83ac4e9a-58f1-4b8f-9de5-412e4a611054'), AIMessage(content='Could you please share the details regarding whether you want to check doctor availability or have other hospital-related inquiries?', additional_kwargs={}, response_metadata={}, name='information_node', id='b68afadd-5061-46ee-a840-9a3e0dfa1b38'), AIMessage(content='I can assist you with hospital-related information or checking the availability of doctors. Could you please specify how I can assist you today?', additional_kwargs={}, response_metadata={}, name='information_node', id='e88a9b1c-a4f5-4b16-9e52-1910b0a9b1f9'), AIMessage(content=\"It seems like you've mentioned a user's identification number. Could you please provide more details regarding your needs? For example, do you need information about a doctor's availability or have a specific hospital-related question?\", additional_kwargs={}, response_metadata={}, name='information_node')]\n",
      "************below is my query********************\n",
      "\n",
      "********************************this is my goto*************************\n",
      "information_node\n",
      "********************************\n",
      "The user has provided an identification number but hasn't specified their query. They might need information related to doctor availability or other hospital-related queries. Directing them to the information node would help clarify their needs and provide the appropriate details they might be looking for.\n",
      "**************************below is my state****************************\n",
      "{'messages': [HumanMessage(content=\"user's identification number is 1111223\", additional_kwargs={}, response_metadata={}, id='adbc8337-332e-4585-aa49-173f3008f66e'), AIMessage(content=\"It seems you've provided an identification number. Could you please let me know how I can assist you today, especially if you have a specific query related to doctor availability or hospital FAQs?\", additional_kwargs={}, response_metadata={}, name='information_node', id='9fa3e84f-1acf-4655-8120-543196be2aa0'), AIMessage(content=\"Please let me know if you need information on doctor availability or have any questions related to the hospital's services.\", additional_kwargs={}, response_metadata={}, name='information_node', id='eacf6b00-76b8-4cea-8ff4-2b0d2264fdce'), AIMessage(content=\"If you need to check the availability of a specific doctor or specialization on a particular date, feel free to provide me with the details. I'm here to help!\", additional_kwargs={}, response_metadata={}, name='information_node', id='f9c095b4-5b35-47f4-a32c-a1297b0be0a8'), AIMessage(content=\"It seems you've provided an identification number. Please let me know if you need assistance with doctor availability or have any questions related to our hospital services!\", additional_kwargs={}, response_metadata={}, name='information_node', id='3f3a93ca-4fc5-4196-89fe-575ac90d4bf9'), AIMessage(content=\"It seems like you've provided an identification number. How can I assist you today? If you have any questions related to doctor availability or other hospital-related inquiries, please let me know!\", additional_kwargs={}, response_metadata={}, name='information_node', id='6c17dd88-1041-473a-a5b1-f9e2e76858f4'), AIMessage(content=\"It looks like you've shared an identification number. Please provide me with further details about how I can assist you, such as checking a doctor's availability or answering any hospital-related questions.\", additional_kwargs={}, response_metadata={}, name='information_node', id='da75a885-6239-4eb3-b921-8e8c546c53c8'), AIMessage(content=\"It seems like you've provided an identification number. How may I assist you today? If you have a question regarding doctor availability or other hospital-related queries, please let me know!\", additional_kwargs={}, response_metadata={}, name='information_node', id='4708262a-6daf-4173-825f-2dd26f56e5f5'), AIMessage(content=\"It seems you've provided an identification number. Let me know if there's anything specific you need, like checking the availability of a doctor or specialized service, or any other hospital-related inquiry.\", additional_kwargs={}, response_metadata={}, name='information_node', id='4b6cc945-e40e-49b9-b731-8ca07355751b'), AIMessage(content='If you have a specific query about doctor availability or any other hospital-related questions, please let me know how I can assist you further!', additional_kwargs={}, response_metadata={}, name='information_node', id='83ac4e9a-58f1-4b8f-9de5-412e4a611054'), AIMessage(content='Could you please share the details regarding whether you want to check doctor availability or have other hospital-related inquiries?', additional_kwargs={}, response_metadata={}, name='information_node', id='b68afadd-5061-46ee-a840-9a3e0dfa1b38'), AIMessage(content='I can assist you with hospital-related information or checking the availability of doctors. Could you please specify how I can assist you today?', additional_kwargs={}, response_metadata={}, name='information_node', id='e88a9b1c-a4f5-4b16-9e52-1910b0a9b1f9'), AIMessage(content=\"It seems like you've mentioned a user's identification number. Could you please provide more details regarding your needs? For example, do you need information about a doctor's availability or have a specific hospital-related question?\", additional_kwargs={}, response_metadata={}, name='information_node')], 'id_number': 1111223, 'next': 'information_node', 'query': 'can you check and make a booking if dentist available on 8 August 2024 at 8 PM?', 'current_reasoning': 'The user has provided their identification number, which suggests they may need assistance related to checking doctor availability or other inquiries tied to their profile. Since there is no explicit request to book, cancel, or reschedule an appointment, it is appropriate to seek further clarification through the information node.'}\n"
     ]
    },
    {
     "ename": "GraphRecursionError",
     "evalue": "Recursion limit of 25 reached without hitting a stop condition. You can increase the limit by setting the `recursion_limit` config key.\nFor troubleshooting, visit: https://python.langchain.com/docs/troubleshooting/errors/GRAPH_RECURSION_LIMIT",
     "output_type": "error",
     "traceback": [
      "\u001b[31m---------------------------------------------------------------------------\u001b[39m",
      "\u001b[31mGraphRecursionError\u001b[39m                       Traceback (most recent call last)",
      "\u001b[36mCell\u001b[39m\u001b[36m \u001b[39m\u001b[32mIn[258]\u001b[39m\u001b[32m, line 1\u001b[39m\n\u001b[32m----> \u001b[39m\u001b[32m1\u001b[39m result = \u001b[43mapp\u001b[49m\u001b[43m.\u001b[49m\u001b[43minvoke\u001b[49m\u001b[43m(\u001b[49m\u001b[43m{\u001b[49m\u001b[33;43m'\u001b[39;49m\u001b[33;43mmessages\u001b[39;49m\u001b[33;43m'\u001b[39;49m\u001b[43m:\u001b[49m\u001b[43m \u001b[49m\u001b[43minputs1\u001b[49m\u001b[43m,\u001b[49m\u001b[33;43m'\u001b[39;49m\u001b[33;43mid_number\u001b[39;49m\u001b[33;43m'\u001b[39;49m\u001b[43m:\u001b[49m\u001b[32;43m1111223\u001b[39;49m\u001b[43m}\u001b[49m\u001b[43m)\u001b[49m\n",
      "\u001b[36mFile \u001b[39m\u001b[32mc:\\Users\\44787\\anaconda3\\envs\\agent\\Lib\\site-packages\\langgraph\\pregel\\__init__.py:2718\u001b[39m, in \u001b[36mPregel.invoke\u001b[39m\u001b[34m(self, input, config, stream_mode, output_keys, interrupt_before, interrupt_after, checkpoint_during, debug, **kwargs)\u001b[39m\n\u001b[32m   2716\u001b[39m \u001b[38;5;28;01melse\u001b[39;00m:\n\u001b[32m   2717\u001b[39m     chunks = []\n\u001b[32m-> \u001b[39m\u001b[32m2718\u001b[39m \u001b[43m\u001b[49m\u001b[38;5;28;43;01mfor\u001b[39;49;00m\u001b[43m \u001b[49m\u001b[43mchunk\u001b[49m\u001b[43m \u001b[49m\u001b[38;5;129;43;01min\u001b[39;49;00m\u001b[43m \u001b[49m\u001b[38;5;28;43mself\u001b[39;49m\u001b[43m.\u001b[49m\u001b[43mstream\u001b[49m\u001b[43m(\u001b[49m\n\u001b[32m   2719\u001b[39m \u001b[43m    \u001b[49m\u001b[38;5;28;43minput\u001b[39;49m\u001b[43m,\u001b[49m\n\u001b[32m   2720\u001b[39m \u001b[43m    \u001b[49m\u001b[43mconfig\u001b[49m\u001b[43m,\u001b[49m\n\u001b[32m   2721\u001b[39m \u001b[43m    \u001b[49m\u001b[43mstream_mode\u001b[49m\u001b[43m=\u001b[49m\u001b[43mstream_mode\u001b[49m\u001b[43m,\u001b[49m\n\u001b[32m   2722\u001b[39m \u001b[43m    \u001b[49m\u001b[43moutput_keys\u001b[49m\u001b[43m=\u001b[49m\u001b[43moutput_keys\u001b[49m\u001b[43m,\u001b[49m\n\u001b[32m   2723\u001b[39m \u001b[43m    \u001b[49m\u001b[43minterrupt_before\u001b[49m\u001b[43m=\u001b[49m\u001b[43minterrupt_before\u001b[49m\u001b[43m,\u001b[49m\n\u001b[32m   2724\u001b[39m \u001b[43m    \u001b[49m\u001b[43minterrupt_after\u001b[49m\u001b[43m=\u001b[49m\u001b[43minterrupt_after\u001b[49m\u001b[43m,\u001b[49m\n\u001b[32m   2725\u001b[39m \u001b[43m    \u001b[49m\u001b[43mcheckpoint_during\u001b[49m\u001b[43m=\u001b[49m\u001b[43mcheckpoint_during\u001b[49m\u001b[43m,\u001b[49m\n\u001b[32m   2726\u001b[39m \u001b[43m    \u001b[49m\u001b[43mdebug\u001b[49m\u001b[43m=\u001b[49m\u001b[43mdebug\u001b[49m\u001b[43m,\u001b[49m\n\u001b[32m   2727\u001b[39m \u001b[43m    \u001b[49m\u001b[43m*\u001b[49m\u001b[43m*\u001b[49m\u001b[43mkwargs\u001b[49m\u001b[43m,\u001b[49m\n\u001b[32m   2728\u001b[39m \u001b[43m\u001b[49m\u001b[43m)\u001b[49m\u001b[43m:\u001b[49m\n\u001b[32m   2729\u001b[39m \u001b[43m    \u001b[49m\u001b[38;5;28;43;01mif\u001b[39;49;00m\u001b[43m \u001b[49m\u001b[43mstream_mode\u001b[49m\u001b[43m \u001b[49m\u001b[43m==\u001b[49m\u001b[43m \u001b[49m\u001b[33;43m\"\u001b[39;49m\u001b[33;43mvalues\u001b[39;49m\u001b[33;43m\"\u001b[39;49m\u001b[43m:\u001b[49m\n\u001b[32m   2730\u001b[39m \u001b[43m        \u001b[49m\u001b[43mlatest\u001b[49m\u001b[43m \u001b[49m\u001b[43m=\u001b[49m\u001b[43m \u001b[49m\u001b[43mchunk\u001b[49m\n",
      "\u001b[36mFile \u001b[39m\u001b[32mc:\\Users\\44787\\anaconda3\\envs\\agent\\Lib\\site-packages\\langgraph\\pregel\\__init__.py:2376\u001b[39m, in \u001b[36mPregel.stream\u001b[39m\u001b[34m(self, input, config, stream_mode, output_keys, interrupt_before, interrupt_after, checkpoint_during, debug, subgraphs)\u001b[39m\n\u001b[32m   2367\u001b[39m \u001b[38;5;28;01mif\u001b[39;00m loop.status == \u001b[33m\"\u001b[39m\u001b[33mout_of_steps\u001b[39m\u001b[33m\"\u001b[39m:\n\u001b[32m   2368\u001b[39m     msg = create_error_message(\n\u001b[32m   2369\u001b[39m         message=(\n\u001b[32m   2370\u001b[39m             \u001b[33mf\u001b[39m\u001b[33m\"\u001b[39m\u001b[33mRecursion limit of \u001b[39m\u001b[38;5;132;01m{\u001b[39;00mconfig[\u001b[33m'\u001b[39m\u001b[33mrecursion_limit\u001b[39m\u001b[33m'\u001b[39m]\u001b[38;5;132;01m}\u001b[39;00m\u001b[33m reached \u001b[39m\u001b[33m\"\u001b[39m\n\u001b[32m   (...)\u001b[39m\u001b[32m   2374\u001b[39m         error_code=ErrorCode.GRAPH_RECURSION_LIMIT,\n\u001b[32m   2375\u001b[39m     )\n\u001b[32m-> \u001b[39m\u001b[32m2376\u001b[39m     \u001b[38;5;28;01mraise\u001b[39;00m GraphRecursionError(msg)\n\u001b[32m   2377\u001b[39m \u001b[38;5;66;03m# set final channel values as run output\u001b[39;00m\n\u001b[32m   2378\u001b[39m run_manager.on_chain_end(loop.output)\n",
      "\u001b[31mGraphRecursionError\u001b[39m: Recursion limit of 25 reached without hitting a stop condition. You can increase the limit by setting the `recursion_limit` config key.\nFor troubleshooting, visit: https://python.langchain.com/docs/troubleshooting/errors/GRAPH_RECURSION_LIMIT"
     ]
    }
   ],
   "source": [
    "result = app.invoke({'messages': inputs1,'id_number':1111223})\n"
   ]
  },
  {
   "cell_type": "code",
   "execution_count": 195,
   "metadata": {},
   "outputs": [
    {
     "data": {
      "text/plain": [
       "[HumanMessage(content=\"user's identification number is 1111223\", additional_kwargs={}, response_metadata={}, id='e2c422e1-06b8-4309-9926-7ab62d34a8fe'),\n",
       " AIMessage(content='Thank you for providing your ID number. Could you please let me know what you would like to do? Are you looking to set, cancel, or reschedule an appointment? Please provide any additional details needed for your request.', additional_kwargs={}, response_metadata={}, name='booking_node')]"
      ]
     },
     "execution_count": 195,
     "metadata": {},
     "output_type": "execute_result"
    }
   ],
   "source": [
    "result[\"messages\"]\n"
   ]
  },
  {
   "cell_type": "code",
   "execution_count": 196,
   "metadata": {},
   "outputs": [],
   "source": [
    "inputs2 = [\n",
    "        HumanMessage(content='I would like to book a new appointment with Kevin Anderson on 03-09-2024 at 3 pm, please')\n",
    "    ]"
   ]
  },
  {
   "cell_type": "code",
   "execution_count": 198,
   "metadata": {},
   "outputs": [
    {
     "name": "stdout",
     "output_type": "stream",
     "text": [
      "**************************below is my state right after entering****************************\n",
      "{'messages': [HumanMessage(content='I would like to book a new appointment with Kevin Anderson on 03-09-2024 at 3 pm, please', additional_kwargs={}, response_metadata={})], 'id_number': 10232303}\n",
      "***********************this is my message*****************************************\n",
      "[{'role': 'system', 'content': \"You are a supervisor tasked with managing a conversation between following workers. ### SPECIALIZED ASSISTANT:\\nWORKER: information_node \\nDESCRIPTION: specialized agent to provide information related to availability of doctors or any FAQs related to hospital.\\n\\nWORKER: booking_node \\nDESCRIPTION: specialized agent to only to book, cancel or reschedule appointment\\n\\nWORKER: FINISH \\nDESCRIPTION: If User Query is answered and route to Finished\\n\\nYour primary role is to help the user make an appointment with the doctor and provide updates on FAQs and doctor's availability. If a customer requests to know the availability of a doctor or to book, reschedule, or cancel an appointment, delegate the task to the appropriate specialized workers. Given the following user request, respond with the worker to act next. Each worker will perform a task and respond with their results and status. When finished, respond with FINISH.UTILIZE last conversation to assess if the conversation should end you answered the query, then route to FINISH \"}, {'role': 'user', 'content': \"user's identification number is 10232303\"}, HumanMessage(content='I would like to book a new appointment with Kevin Anderson on 03-09-2024 at 3 pm, please', additional_kwargs={}, response_metadata={})]\n",
      "************below is my query********************\n",
      "I would like to book a new appointment with Kevin Anderson on 03-09-2024 at 3 pm, please\n",
      "********************************this is my goto*************************\n",
      "booking_node\n",
      "********************************\n",
      "The user has provided specific details for booking an appointment with a doctor, Kevin Anderson, on a given date and time. This task is clearly related to scheduling and thus should be delegated to the booking_node to handle the booking process.\n",
      "**************************below is my state****************************\n",
      "{'messages': [HumanMessage(content='I would like to book a new appointment with Kevin Anderson on 03-09-2024 at 3 pm, please', additional_kwargs={}, response_metadata={})], 'id_number': 10232303}\n",
      "*****************called booking node************\n",
      "**************************below is my state right after entering****************************\n",
      "{'messages': [HumanMessage(content=\"user's identification number is 10232303\", additional_kwargs={}, response_metadata={}, id='cedf9d01-b250-42da-8c09-1f7fcb29fa17'), AIMessage(content='Please let me know how I can assist you with your appointment. Are you looking to set a new appointment, cancel, or reschedule an existing one?', additional_kwargs={}, response_metadata={}, name='booking_node')], 'id_number': 10232303, 'next': 'booking_node', 'query': 'I would like to book a new appointment with Kevin Anderson on 03-09-2024 at 3 pm, please', 'current_reasoning': 'The user has provided specific details for booking an appointment with a doctor, Kevin Anderson, on a given date and time. This task is clearly related to scheduling and thus should be delegated to the booking_node to handle the booking process.'}\n",
      "***********************this is my message*****************************************\n",
      "[{'role': 'system', 'content': \"You are a supervisor tasked with managing a conversation between following workers. ### SPECIALIZED ASSISTANT:\\nWORKER: information_node \\nDESCRIPTION: specialized agent to provide information related to availability of doctors or any FAQs related to hospital.\\n\\nWORKER: booking_node \\nDESCRIPTION: specialized agent to only to book, cancel or reschedule appointment\\n\\nWORKER: FINISH \\nDESCRIPTION: If User Query is answered and route to Finished\\n\\nYour primary role is to help the user make an appointment with the doctor and provide updates on FAQs and doctor's availability. If a customer requests to know the availability of a doctor or to book, reschedule, or cancel an appointment, delegate the task to the appropriate specialized workers. Given the following user request, respond with the worker to act next. Each worker will perform a task and respond with their results and status. When finished, respond with FINISH.UTILIZE last conversation to assess if the conversation should end you answered the query, then route to FINISH \"}, {'role': 'user', 'content': \"user's identification number is 10232303\"}, HumanMessage(content=\"user's identification number is 10232303\", additional_kwargs={}, response_metadata={}, id='cedf9d01-b250-42da-8c09-1f7fcb29fa17'), AIMessage(content='Please let me know how I can assist you with your appointment. Are you looking to set a new appointment, cancel, or reschedule an existing one?', additional_kwargs={}, response_metadata={}, name='booking_node')]\n",
      "************below is my query********************\n",
      "\n",
      "********************************this is my goto*************************\n",
      "booking_node\n",
      "********************************\n",
      "The user provided their identification number, which typically indicates they are ready to proceed with an appointment-related task such as booking, cancelling, or rescheduling. The appropriate next step is to proceed with the booking_node to handle their request efficiently.\n",
      "**************************below is my state****************************\n",
      "{'messages': [HumanMessage(content=\"user's identification number is 10232303\", additional_kwargs={}, response_metadata={}, id='cedf9d01-b250-42da-8c09-1f7fcb29fa17'), AIMessage(content='Please let me know how I can assist you with your appointment. Are you looking to set a new appointment, cancel, or reschedule an existing one?', additional_kwargs={}, response_metadata={}, name='booking_node')], 'id_number': 10232303, 'next': 'booking_node', 'query': 'I would like to book a new appointment with Kevin Anderson on 03-09-2024 at 3 pm, please', 'current_reasoning': 'The user has provided specific details for booking an appointment with a doctor, Kevin Anderson, on a given date and time. This task is clearly related to scheduling and thus should be delegated to the booking_node to handle the booking process.'}\n",
      "*****************called booking node************\n",
      "**************************below is my state right after entering****************************\n",
      "{'messages': [HumanMessage(content=\"user's identification number is 10232303\", additional_kwargs={}, response_metadata={}, id='cedf9d01-b250-42da-8c09-1f7fcb29fa17'), AIMessage(content='Please let me know how I can assist you with your appointment. Are you looking to set a new appointment, cancel, or reschedule an existing one?', additional_kwargs={}, response_metadata={}, name='booking_node', id='87ffda56-05d2-4fc1-b288-452e2d36754b'), AIMessage(content=\"\\nPlease mention the relevant details such as the doctor's name and the date and time for the appointment or any changes you wish to make.\", additional_kwargs={}, response_metadata={}, name='booking_node')], 'id_number': 10232303, 'next': 'booking_node', 'query': 'I would like to book a new appointment with Kevin Anderson on 03-09-2024 at 3 pm, please', 'current_reasoning': 'The user provided their identification number, which typically indicates they are ready to proceed with an appointment-related task such as booking, cancelling, or rescheduling. The appropriate next step is to proceed with the booking_node to handle their request efficiently.'}\n",
      "***********************this is my message*****************************************\n",
      "[{'role': 'system', 'content': \"You are a supervisor tasked with managing a conversation between following workers. ### SPECIALIZED ASSISTANT:\\nWORKER: information_node \\nDESCRIPTION: specialized agent to provide information related to availability of doctors or any FAQs related to hospital.\\n\\nWORKER: booking_node \\nDESCRIPTION: specialized agent to only to book, cancel or reschedule appointment\\n\\nWORKER: FINISH \\nDESCRIPTION: If User Query is answered and route to Finished\\n\\nYour primary role is to help the user make an appointment with the doctor and provide updates on FAQs and doctor's availability. If a customer requests to know the availability of a doctor or to book, reschedule, or cancel an appointment, delegate the task to the appropriate specialized workers. Given the following user request, respond with the worker to act next. Each worker will perform a task and respond with their results and status. When finished, respond with FINISH.UTILIZE last conversation to assess if the conversation should end you answered the query, then route to FINISH \"}, {'role': 'user', 'content': \"user's identification number is 10232303\"}, HumanMessage(content=\"user's identification number is 10232303\", additional_kwargs={}, response_metadata={}, id='cedf9d01-b250-42da-8c09-1f7fcb29fa17'), AIMessage(content='Please let me know how I can assist you with your appointment. Are you looking to set a new appointment, cancel, or reschedule an existing one?', additional_kwargs={}, response_metadata={}, name='booking_node', id='87ffda56-05d2-4fc1-b288-452e2d36754b'), AIMessage(content=\"\\nPlease mention the relevant details such as the doctor's name and the date and time for the appointment or any changes you wish to make.\", additional_kwargs={}, response_metadata={}, name='booking_node')]\n",
      "************below is my query********************\n",
      "\n",
      "********************************this is my goto*************************\n",
      "FINISH\n",
      "********************************\n",
      "The user provided their identification number twice, but did not specify any further request or context. Since there is no clear request to either check the availability of a doctor or modify an appointment, the conversation can be concluded given the lack of actionable input.\n",
      "**************************below is my state****************************\n",
      "{'messages': [HumanMessage(content=\"user's identification number is 10232303\", additional_kwargs={}, response_metadata={}, id='cedf9d01-b250-42da-8c09-1f7fcb29fa17'), AIMessage(content='Please let me know how I can assist you with your appointment. Are you looking to set a new appointment, cancel, or reschedule an existing one?', additional_kwargs={}, response_metadata={}, name='booking_node', id='87ffda56-05d2-4fc1-b288-452e2d36754b'), AIMessage(content=\"\\nPlease mention the relevant details such as the doctor's name and the date and time for the appointment or any changes you wish to make.\", additional_kwargs={}, response_metadata={}, name='booking_node')], 'id_number': 10232303, 'next': 'booking_node', 'query': 'I would like to book a new appointment with Kevin Anderson on 03-09-2024 at 3 pm, please', 'current_reasoning': 'The user provided their identification number, which typically indicates they are ready to proceed with an appointment-related task such as booking, cancelling, or rescheduling. The appropriate next step is to proceed with the booking_node to handle their request efficiently.'}\n"
     ]
    }
   ],
   "source": [
    "result = app.invoke({'messages': inputs2,'id_number':10232303})\n"
   ]
  },
  {
   "cell_type": "code",
   "execution_count": 200,
   "metadata": {},
   "outputs": [
    {
     "data": {
      "text/plain": [
       "[HumanMessage(content=\"user's identification number is 10232303\", additional_kwargs={}, response_metadata={}, id='cedf9d01-b250-42da-8c09-1f7fcb29fa17'),\n",
       " AIMessage(content='Please let me know how I can assist you with your appointment. Are you looking to set a new appointment, cancel, or reschedule an existing one?', additional_kwargs={}, response_metadata={}, name='booking_node', id='87ffda56-05d2-4fc1-b288-452e2d36754b'),\n",
       " AIMessage(content=\"\\nPlease mention the relevant details such as the doctor's name and the date and time for the appointment or any changes you wish to make.\", additional_kwargs={}, response_metadata={}, name='booking_node')]"
      ]
     },
     "execution_count": 200,
     "metadata": {},
     "output_type": "execute_result"
    }
   ],
   "source": [
    "result[\"messages\"]"
   ]
  },
  {
   "cell_type": "code",
   "execution_count": 201,
   "metadata": {},
   "outputs": [
    {
     "data": {
      "text/plain": [
       "\"\\nPlease mention the relevant details such as the doctor's name and the date and time for the appointment or any changes you wish to make.\""
      ]
     },
     "execution_count": 201,
     "metadata": {},
     "output_type": "execute_result"
    }
   ],
   "source": [
    "result[\"messages\"][-1].content\n"
   ]
  },
  {
   "cell_type": "code",
   "execution_count": null,
   "metadata": {},
   "outputs": [],
   "source": []
  }
 ],
 "metadata": {
  "kernelspec": {
   "display_name": "agent",
   "language": "python",
   "name": "python3"
  },
  "language_info": {
   "codemirror_mode": {
    "name": "ipython",
    "version": 3
   },
   "file_extension": ".py",
   "mimetype": "text/x-python",
   "name": "python",
   "nbconvert_exporter": "python",
   "pygments_lexer": "ipython3",
   "version": "3.13.2"
  }
 },
 "nbformat": 4,
 "nbformat_minor": 2
}
