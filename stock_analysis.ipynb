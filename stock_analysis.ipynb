{
 "cells": [
  {
   "cell_type": "markdown",
   "metadata": {},
   "source": [
    "<h1 align=center>Stock Analysis</h1>"
   ]
  },
  {
   "cell_type": "code",
   "execution_count": 1,
   "metadata": {},
   "outputs": [],
   "source": [
    "# from phi.agent import Agent\n",
    "# from phi.model.openai import OpenAIChat\n",
    "# from phi.tools.yfinance import YFinanceTools\n",
    "\n",
    "# finance_agent = Agent(\n",
    "#     name=\"Finance Agent\",\n",
    "#     model=OpenAIChat(id=\"gpt-4o\"),\n",
    "#     tools=[YFinanceTools(stock_price=True, analyst_recommendations=True, company_info=True, company_news=True)],\n",
    "#     instructions=[\"Use tables to display data\"],\n",
    "#     show_tool_calls=True,\n",
    "#     markdown=True,\n",
    "# )\n",
    "# finance_agent.print_response(\"Summarize analyst recommendations for NVDA\", stream=True)"
   ]
  },
  {
   "cell_type": "markdown",
   "metadata": {},
   "source": [
    "### Building an Agentic Financial Analyst with LangGraph and OpenAI"
   ]
  },
  {
   "cell_type": "markdown",
   "metadata": {},
   "source": [
    "What this Agentic Financial Analyst will do?\n",
    "- Fetches stock price data using Yahoo Finance.\n",
    "- Calculates technical indicators like RSI, MACD, VWAP, and more.\n",
    "- Evaluate financial metrics such as P/E ratio, Debt-to-Equity, and Profit Margins.\n",
    "- Provides a structured, AI-generated analysis using OpenAI’s powerful language models.\n",
    "`Tools We’ll Use`\n",
    "- LangGraph: A library for orchestrating tools and building conversational agents.\n",
    "- OpenAI GPT-4: For generating intelligent and structured financial insights.\n",
    "- yfinance: To retrieve stock prices and financial ratios.\n",
    "- ta (Technical Analysis Library): For calculating key technical indicators.\n",
    "- Python libraries: pandas, dotenv, and datetime for data manipulation and environment setup."
   ]
  },
  {
   "cell_type": "markdown",
   "metadata": {},
   "source": [
    "#### Step 1: Setting Up the Environment"
   ]
  },
  {
   "cell_type": "markdown",
   "metadata": {},
   "source": [
    "#### Step 2: Tools for Analyst\n",
    "Fetching Stock Prices: This tool fetches the stock’s historical data and computes several technical indicators."
   ]
  },
  {
   "cell_type": "code",
   "execution_count": 1,
   "metadata": {},
   "outputs": [],
   "source": [
    "from typing import Union, Dict, Set, List, TypedDict, Annotated\n",
    "import pandas as pd\n",
    "from langchain_core.tools import tool\n",
    "import yfinance as yf\n",
    "from ta.momentum import RSIIndicator, StochasticOscillator\n",
    "from ta.trend import SMAIndicator, EMAIndicator, MACD\n",
    "from ta.volume import volume_weighted_average_price\n",
    "import datetime as dt\n",
    "\n",
    "@tool\n",
    "def get_stock_prices(ticker: str) -> Union[Dict, str]:\n",
    "    \"\"\"Fetches historical stock price data and technical indicator for a given ticker.\"\"\"\n",
    "    try:\n",
    "        data = yf.download(\n",
    "            ticker,\n",
    "            start=dt.datetime.now() - dt.timedelta(weeks=24*3),\n",
    "            end=dt.datetime.now(),\n",
    "            interval='1wk'\n",
    "        )\n",
    "        df= data.copy()\n",
    "        data.reset_index(inplace=True)\n",
    "        data.Date = data.Date.astype(str)\n",
    "        \n",
    "        indicators = {}\n",
    "        \n",
    "        rsi_series = RSIIndicator(df['Close'], window=14).rsi().iloc[-12:]\n",
    "        indicators[\"RSI\"] = {date.strftime('%Y-%m-%d'): int(value) \n",
    "                    for date, value in rsi_series.dropna().to_dict().items()}\n",
    "        \n",
    "        sto_series = StochasticOscillator(\n",
    "            df['High'], df['Low'], df['Close'], window=14).stoch().iloc[-12:]\n",
    "        indicators[\"Stochastic_Oscillator\"] = {\n",
    "                    date.strftime('%Y-%m-%d'): int(value) \n",
    "                    for date, value in sto_series.dropna().to_dict().items()}\n",
    "\n",
    "        macd = MACD(df['Close'])\n",
    "        macd_series = macd.macd().iloc[-12:]\n",
    "        indicators[\"MACD\"] = {date.strftime('%Y-%m-%d'): int(value) \n",
    "                    for date, value in macd_series.to_dict().items()}\n",
    "        \n",
    "        macd_signal_series = macd.macd_signal().iloc[-12:]\n",
    "        indicators[\"MACD_Signal\"] = {date.strftime('%Y-%m-%d'): int(value) \n",
    "                    for date, value in macd_signal_series.to_dict().items()}\n",
    "        \n",
    "        vwap_series = volume_weighted_average_price(\n",
    "            high=df['High'], low=df['Low'], close=df['Close'], \n",
    "            volume=df['Volume'],\n",
    "        ).iloc[-12:]\n",
    "        indicators[\"vwap\"] = {date.strftime('%Y-%m-%d'): int(value) \n",
    "                    for date, value in vwap_series.to_dict().items()}\n",
    "        \n",
    "        return {'stock_price': data.to_dict(orient='records'),\n",
    "                'indicators': indicators}\n",
    "\n",
    "    except Exception as e:\n",
    "        return f\"Error fetching price data: {str(e)}\""
   ]
  },
  {
   "cell_type": "code",
   "execution_count": 1,
   "metadata": {},
   "outputs": [],
   "source": [
    "### updated\n",
    "import datetime as dt\n",
    "from typing import Union, Dict\n",
    "import pandas as pd\n",
    "from langchain_core.tools import tool\n",
    "import yfinance as yf\n",
    "from ta.momentum import RSIIndicator, StochasticOscillator\n",
    "from ta.trend import MACD\n",
    "from ta.volume import volume_weighted_average_price\n",
    "\n",
    "@tool\n",
    "def get_stock_prices(ticker: str) -> Union[Dict, str]:\n",
    "    \"\"\"Fetches historical stock price data and technical indicators for a given ticker.\"\"\"\n",
    "    try:\n",
    "        data = yf.download(\n",
    "            ticker,\n",
    "            start=dt.datetime.now() - dt.timedelta(weeks=24*3),\n",
    "            end=dt.datetime.now(),\n",
    "            interval='1wk'\n",
    "        )\n",
    "\n",
    "        if data.empty:\n",
    "            return f\"No data found for ticker: {ticker}\"\n",
    "\n",
    "        data.reset_index(inplace=True)\n",
    "        data['Date'] = data['Date'].astype(str)\n",
    "\n",
    "        indicators = {}\n",
    "\n",
    "        rsi_series = RSIIndicator(data['Close'], window=14).rsi().iloc[-12:]\n",
    "        indicators[\"RSI\"] = dict(zip(data['Date'].iloc[-12:], map(lambda x: round(x, 2), rsi_series)))\n",
    "\n",
    "        sto_series = StochasticOscillator(data['High'], data['Low'], data['Close'], window=14).stoch().iloc[-12:]\n",
    "        indicators[\"Stochastic_Oscillator\"] = dict(zip(data['Date'].iloc[-12:], map(lambda x: round(x, 2), sto_series)))\n",
    "\n",
    "        macd = MACD(data['Close'])\n",
    "        macd_series = macd.macd().iloc[-12:]\n",
    "        indicators[\"MACD\"] = dict(zip(data['Date'].iloc[-12:], map(lambda x: round(x, 2), macd_series)))\n",
    "\n",
    "        macd_signal_series = macd.macd_signal().iloc[-12:]\n",
    "        indicators[\"MACD_Signal\"] = dict(zip(data['Date'].iloc[-12:], map(lambda x: round(x, 2), macd_signal_series)))\n",
    "\n",
    "        vwap_series = volume_weighted_average_price(\n",
    "            high=data['High'], low=data['Low'], close=data['Close'], volume=data['Volume']\n",
    "        ).iloc[-12:]\n",
    "        indicators[\"vwap\"] = dict(zip(data['Date'].iloc[-12:], map(lambda x: round(x, 2), vwap_series)))\n",
    "\n",
    "        return {\n",
    "            'stock_price': data.to_dict(orient='records'),\n",
    "            'indicators': indicators\n",
    "        }\n",
    "\n",
    "    except Exception as e:\n",
    "        return f\"Error fetching price data: {str(e)}\""
   ]
  },
  {
   "cell_type": "markdown",
   "metadata": {},
   "source": [
    "Financial Ratios: This tool retrieves key financial health ratios."
   ]
  },
  {
   "cell_type": "code",
   "execution_count": 2,
   "metadata": {},
   "outputs": [],
   "source": [
    "@tool\n",
    "def get_financial_metrics(ticker: str) -> Union[Dict, str]:\n",
    "    \"\"\"Fetches key financial ratios for a given ticker.\"\"\"\n",
    "    try:\n",
    "        stock = yf.Ticker(ticker)\n",
    "        info = stock.info\n",
    "        return {\n",
    "            'pe_ratio': info.get('forwardPE'),\n",
    "            'price_to_book': info.get('priceToBook'),\n",
    "            'debt_to_equity': info.get('debtToEquity'),\n",
    "            'profit_margins': info.get('profitMargins')\n",
    "        }\n",
    "    except Exception as e:\n",
    "        return f\"Error fetching ratios: {str(e)}\""
   ]
  },
  {
   "cell_type": "code",
   "execution_count": 2,
   "metadata": {},
   "outputs": [],
   "source": [
    "### updated\n",
    "@tool\n",
    "def get_financial_metrics(ticker: str) -> Union[Dict, str]:\n",
    "    \"\"\"Fetches key financial ratios for a given ticker.\"\"\"\n",
    "    try:\n",
    "        stock = yf.Ticker(ticker)\n",
    "        info = stock.info\n",
    "\n",
    "        if not info:\n",
    "            return f\"No financial data found for ticker: {ticker}\"\n",
    "\n",
    "        def safe_get(key: str) -> Union[float, str]:\n",
    "            value = info.get(key)\n",
    "            return round(value, 3) if isinstance(value, (int, float)) else \"N/A\"\n",
    "\n",
    "        return {\n",
    "            'pe_ratio': safe_get('forwardPE'),\n",
    "            'price_to_book': safe_get('priceToBook'),\n",
    "            'debt_to_equity': safe_get('debtToEquity'),\n",
    "            'profit_margins': safe_get('profitMargins'),\n",
    "            'return_on_equity': safe_get('returnOnEquity'),\n",
    "            'return_on_assets': safe_get('returnOnAssets'),\n",
    "            'current_ratio': safe_get('currentRatio'),\n",
    "            'quick_ratio': safe_get('quickRatio'),\n",
    "            'gross_margins': safe_get('grossMargins'),\n",
    "            'operating_margins': safe_get('operatingMargins')\n",
    "        }\n",
    "\n",
    "    except Exception as e:\n",
    "        return f\"Error fetching ratios: {str(e)}\"\n"
   ]
  },
  {
   "cell_type": "markdown",
   "metadata": {},
   "source": [
    "#### Step 3: Building the LangGraph\n",
    "LangGraph allows us to orchestrate tools and manage conversational logic efficiently.\n",
    "\n",
    "1. Defining the Graph\n",
    "We start by defining a StateGraph to manage the flow:"
   ]
  },
  {
   "cell_type": "code",
   "execution_count": 4,
   "metadata": {},
   "outputs": [],
   "source": [
    "from langgraph.graph import StateGraph, START, END\n",
    "from langgraph.graph.message import add_messages\n",
    "\n",
    "\n",
    "class State(TypedDict):\n",
    "    messages: Annotated[list, add_messages]\n",
    "    stock: str\n",
    "    \n",
    "graph_builder = StateGraph(State)"
   ]
  },
  {
   "cell_type": "code",
   "execution_count": 3,
   "metadata": {},
   "outputs": [],
   "source": [
    "### updated\n",
    "from typing import TypedDict, Annotated, List\n",
    "from langgraph.graph.message import add_messages\n",
    "from langgraph.graph import StateGraph\n",
    "\n",
    "class State(TypedDict):\n",
    "    messages: Annotated[List, add_messages]\n",
    "    stock: str\n",
    "    \n",
    "graph_builder = StateGraph(State)"
   ]
  },
  {
   "cell_type": "markdown",
   "metadata": {},
   "source": [
    "2. Defining OpenAI and Binding Tools\n",
    "\n",
    "We integrate the tools into LangGraph and create a feedback loop for analysis"
   ]
  },
  {
   "cell_type": "code",
   "execution_count": 4,
   "metadata": {},
   "outputs": [],
   "source": [
    "# import dotenv\n",
    "# dotenv.load_dotenv()\n",
    "\n",
    "from langchain_openai import ChatOpenAI\n",
    "\n",
    "llm = ChatOpenAI(model='gpt-4o-mini')\n",
    "\n",
    "tools = [get_stock_prices, get_financial_metrics]\n",
    "llm_with_tool = llm.bind_tools(tools)"
   ]
  },
  {
   "cell_type": "code",
   "execution_count": 7,
   "metadata": {},
   "outputs": [
    {
     "data": {
      "text/plain": [
       "AIMessage(content='', additional_kwargs={'tool_calls': [{'id': 'call_kxvJ9fxR4vaFHTeIOUT2C8Ei', 'function': {'arguments': '{\"ticker\":\"AAPL\"}', 'name': 'get_financial_metrics'}, 'type': 'function'}], 'refusal': None}, response_metadata={'token_usage': {'completion_tokens': 18, 'prompt_tokens': 88, 'total_tokens': 106, 'completion_tokens_details': {'accepted_prediction_tokens': 0, 'audio_tokens': 0, 'reasoning_tokens': 0, 'rejected_prediction_tokens': 0}, 'prompt_tokens_details': {'audio_tokens': 0, 'cached_tokens': 0}}, 'model_name': 'gpt-4o-mini-2024-07-18', 'system_fingerprint': 'fp_44added55e', 'id': 'chatcmpl-BLtWM75PvYU8e1UQMfKLMNdDWRgQP', 'finish_reason': 'tool_calls', 'logprobs': None}, id='run-079c8948-2a44-4ae0-8954-773731e7545c-0', tool_calls=[{'name': 'get_financial_metrics', 'args': {'ticker': 'AAPL'}, 'id': 'call_kxvJ9fxR4vaFHTeIOUT2C8Ei', 'type': 'tool_call'}], usage_metadata={'input_tokens': 88, 'output_tokens': 18, 'total_tokens': 106, 'input_token_details': {'audio': 0, 'cache_read': 0}, 'output_token_details': {'audio': 0, 'reasoning': 0}})"
      ]
     },
     "execution_count": 7,
     "metadata": {},
     "output_type": "execute_result"
    }
   ],
   "source": [
    "llm_with_tool.invoke(\"What’s the P/E ratio of AAPL?\")"
   ]
  },
  {
   "cell_type": "markdown",
   "metadata": {},
   "source": [
    "3. Analyst Node\n",
    "\n",
    "The prompt ensures the AI understands its role and delivers structured output."
   ]
  },
  {
   "cell_type": "code",
   "execution_count": 5,
   "metadata": {},
   "outputs": [
    {
     "data": {
      "text/plain": [
       "<langgraph.graph.state.StateGraph at 0x1eadfc9dbe0>"
      ]
     },
     "execution_count": 5,
     "metadata": {},
     "output_type": "execute_result"
    }
   ],
   "source": [
    "from langchain.schema import SystemMessage\n",
    "from langgraph.graph import START, END\n",
    "\n",
    "\n",
    "\n",
    "FUNDAMENTAL_ANALYST_PROMPT = \"\"\"\n",
    "You are a fundamental analyst specializing in evaluating company (whose symbol is {company}) performance based on stock prices, technical indicators, and financial metrics. Your task is to provide a comprehensive summary of the fundamental analysis for a given stock.\n",
    "\n",
    "You have access to the following tools:\n",
    "1. **get_stock_prices**: Retrieves the latest stock price, historical price data and technical Indicators like RSI, MACD, Drawdown and VWAP.\n",
    "2. **get_financial_metrics**: Retrieves key financial metrics, such as revenue, earnings per share (EPS), price-to-earnings ratio (P/E), and debt-to-equity ratio.\n",
    "\n",
    "### Your Task:\n",
    "1. **Input Stock Symbol**: Use the provided stock symbol to query the tools and gather the relevant information.\n",
    "2. **Analyze Data**: Evaluate the results from the tools and identify potential resistance, key trends, strengths, or concerns.\n",
    "3. **Provide Summary**: Write a concise, well-structured summary that highlights:\n",
    "    - Recent stock price movements, trends and potential resistance.\n",
    "    - Key insights from technical indicators (e.g., whether the stock is overbought or oversold).\n",
    "    - Financial health and performance based on financial metrics.\n",
    "\n",
    "### Constraints:\n",
    "- Use only the data provided by the tools.\n",
    "- Avoid speculative language; focus on observable data and trends.\n",
    "- If any tool fails to provide data, clearly state that in your summary.\n",
    "\n",
    "### Output Format:\n",
    "Respond in the following format:\n",
    "\"stock\": \"<Stock Symbol>\",\n",
    "\"price_analysis\": \"<Detailed analysis of stock price trends>\",\n",
    "\"technical_analysis\": \"<Detailed time series Analysis from ALL technical indicators>\",\n",
    "\"financial_analysis\": \"<Detailed analysis from financial metrics>\",\n",
    "\"final Summary\": \"<Full Conclusion based on the above analyses>\"\n",
    "\"Asked Question Answer\": \"<Answer based on the details and analysis above>\"\n",
    "\n",
    "Ensure that your response is objective, concise, and actionable.\"\"\"\n",
    "\n",
    "def fundamental_analyst(state: State):\n",
    "    messages = [\n",
    "        SystemMessage(content=FUNDAMENTAL_ANALYST_PROMPT.format(company=state['stock'])),\n",
    "    ]  + state['messages']\n",
    "    return {\n",
    "        'messages': llm_with_tool.invoke(messages)\n",
    "    }\n",
    "\n",
    "graph_builder.add_node('fundamental_analyst', fundamental_analyst)\n",
    "graph_builder.add_edge(START, 'fundamental_analyst')"
   ]
  },
  {
   "cell_type": "code",
   "execution_count": null,
   "metadata": {},
   "outputs": [
    {
     "data": {
      "text/plain": [
       "<langgraph.graph.state.StateGraph at 0x1a774ac1be0>"
      ]
     },
     "execution_count": 5,
     "metadata": {},
     "output_type": "execute_result"
    }
   ],
   "source": [
    "### updated\n",
    "from langchain.schema import SystemMessage\n",
    "from langgraph.graph import START, END\n",
    "\n",
    "FUNDAMENTAL_ANALYST_PROMPT = \"\"\"\n",
    "You are a professional fundamental analyst specializing in evaluating the financial health and investment potential of publicly traded companies. Your task is to analyze the performance of the company with the stock symbol: {company}.\n",
    "\n",
    "You have access to the following tools:\n",
    "1. **get_stock_prices**: Provides the latest stock price, historical price trends, and technical indicators such as RSI, MACD, Stochastic Oscillator, and VWAP.\n",
    "2. **get_financial_metrics**: Returns essential financial ratios including price-to-earnings (P/E), price-to-book (P/B), debt-to-equity (D/E), profit margins, return on equity (ROE), and other key metrics.\n",
    "\n",
    "---\n",
    "\n",
    "### TASK OBJECTIVE:\n",
    "Use the tools to gather relevant data, then deliver a structured and data-driven fundamental analysis of the stock. Your output should provide investors with clear, factual insights based solely on the available information.\n",
    "\n",
    "---\n",
    "\n",
    "### ANALYSIS GUIDELINES:\n",
    "\n",
    "1. **Stock Price and Trend Analysis**:\n",
    "   - Identify recent price movement patterns, trend directions (uptrend, downtrend, or sideways), and any apparent support or resistance levels.\n",
    "   - Comment on volatility or unusual momentum if observable.\n",
    "\n",
    "2. **Technical Indicator Evaluation**:\n",
    "   - Analyze the latest RSI, MACD, MACD signal line, Stochastic Oscillator, and VWAP values.\n",
    "   - Determine whether the stock appears to be overbought, oversold, or trending neutrally.\n",
    "   - Mention any bullish or bearish signals indicated by crossovers or divergences.\n",
    "\n",
    "3. **Financial Health Overview**:\n",
    "   - Summarize key financial ratios: P/E, P/B, D/E, profit margins, and other available metrics.\n",
    "   - Highlight the company's capital structure, profitability, and valuation positioning.\n",
    "   - Identify strengths or red flags based on standard fundamental benchmarks.\n",
    "\n",
    "4. **Final Conclusion**:\n",
    "   - Objectively conclude whether the stock appears fundamentally strong, weak, or neutral.\n",
    "   - Avoid speculation; base your conclusion only on the data provided by the tools.\n",
    "\n",
    "5. **Question Response**:\n",
    "   - Directly answer the user’s original question using evidence from your full analysis.\n",
    "\n",
    "---\n",
    "\n",
    "### OUTPUT FORMAT:\n",
    "Respond with a valid JSON-style structure as follows:\n",
    "\n",
    "{\n",
    "  \"stock\": \"<Stock Symbol>\",\n",
    "  \"price_analysis\": \"<Your analysis of recent price trends and support/resistance levels>\",\n",
    "  \"technical_analysis\": \"<Your evaluation of technical indicators and signals>\",\n",
    "  \"financial_analysis\": \"<Summary of financial metrics and their implications>\",\n",
    "  \"final_summary\": \"<Concise conclusion based on the above findings>\",\n",
    "  \"asked_question_answer\": \"<Direct, evidence-based answer to the user's original question>\"\n",
    "}\n",
    "\n",
    "---\n",
    "\n",
    "### RULES:\n",
    "- Rely strictly on tool outputs — do not fabricate data.\n",
    "- Maintain an objective, professional tone.\n",
    "- If any tool fails or data is missing, mention this explicitly in your analysis.\n",
    "\"\"\"\n",
    "\n",
    "\n",
    "def fundamental_analyst(state: State):\n",
    "   # Sanitize the stock symbol to ensure there are no extra spaces or newlines\n",
    "    stock_symbol = state.get('stock', '').strip()\n",
    "    \n",
    "    if not stock_symbol:\n",
    "        return {'error': 'Stock symbol is missing or improperly formatted.'}\n",
    "     \n",
    "    messages = [\n",
    "        SystemMessage(content=FUNDAMENTAL_ANALYST_PROMPT.format(company=stock_symbol)),\n",
    "    ]  + (state.get('messages', []))\n",
    "    \n",
    "    return {\n",
    "        'messages': llm_with_tool.invoke(messages)\n",
    "    }\n",
    "graph_builder.add_node('fundamental_analyst', fundamental_analyst)\n",
    "graph_builder.add_edge(START, 'fundamental_analyst')\n",
    "# graph_builder.add_edge('fundamental_analyst', END)\n",
    "\n"
   ]
  },
  {
   "cell_type": "markdown",
   "metadata": {},
   "source": [
    "4. Adding tool to graph and compile"
   ]
  },
  {
   "cell_type": "code",
   "execution_count": 7,
   "metadata": {},
   "outputs": [],
   "source": [
    "from langgraph.prebuilt import ToolNode\n",
    "from langgraph.prebuilt import tools_condition\n",
    "\n",
    "\n",
    "\n",
    "graph_builder.add_node(ToolNode(tools))\n",
    "graph_builder.add_conditional_edges('fundamental_analyst', tools_condition)\n",
    "graph_builder.add_edge('tools', 'fundamental_analyst')\n",
    "\n",
    "graph = graph_builder.compile()"
   ]
  },
  {
   "cell_type": "code",
   "execution_count": 6,
   "metadata": {},
   "outputs": [],
   "source": [
    "### updated\n",
    "from langgraph.prebuilt import ToolNode, tools_condition\n",
    "\n",
    "# Add the tool node with a name\n",
    "graph_builder.add_node(\"tools\", ToolNode(tools))\n",
    "\n",
    "# Add the conditional routing based on whether tools are needed\n",
    "graph_builder.add_conditional_edges(\"fundamental_analyst\", tools_condition)\n",
    "\n",
    "# Connect tool output back to fundamental analysis\n",
    "graph_builder.add_edge(\"tools\", \"fundamental_analyst\")\n",
    "\n",
    "# Ensure start and end points are defined\n",
    "# graph_builder.add_edge(START, \"fundamental_analyst\")\n",
    "# graph_builder.add_edge(\"fundamental_analyst\", END)  # or loop again if more processing\n",
    "\n",
    "# Compile the graph\n",
    "graph = graph_builder.compile()\n"
   ]
  },
  {
   "cell_type": "code",
   "execution_count": 7,
   "metadata": {},
   "outputs": [
    {
     "data": {
      "image/png": "[encoded data removed]",
      "text/plain": [
       "<IPython.core.display.Image object>"
      ]
     },
     "metadata": {},
     "output_type": "display_data"
    }
   ],
   "source": [
    "from IPython.display import Image, display\n",
    "\n",
    "try:\n",
    "    display(Image(graph.get_graph().draw_mermaid_png()))\n",
    "except Exception as e:\n",
    "    # This requires some extra dependencies and is optional\n",
    "    print(e)"
   ]
  },
  {
   "cell_type": "markdown",
   "metadata": {},
   "source": [
    "5. Executing the Graph"
   ]
  },
  {
   "cell_type": "code",
   "execution_count": 8,
   "metadata": {},
   "outputs": [
    {
     "name": "stdout",
     "output_type": "stream",
     "text": [
      "================================\u001b[1m Human Message \u001b[0m=================================\n",
      "\n",
      "Should I buy this stock?\n",
      "==================================\u001b[1m Ai Message \u001b[0m==================================\n",
      "Tool Calls:\n",
      "  get_stock_prices (call_0SArDMyLHDIfDF5Qn1CydUzW)\n",
      " Call ID: call_0SArDMyLHDIfDF5Qn1CydUzW\n",
      "  Args:\n",
      "    ticker: NVDA\n",
      "  get_financial_metrics (call_aXVfRSdtpdYqoSNWcaEtKulL)\n",
      " Call ID: call_aXVfRSdtpdYqoSNWcaEtKulL\n",
      "  Args:\n",
      "    ticker: NVDA\n",
      "YF.download() has changed argument auto_adjust default to True\n"
     ]
    },
    {
     "name": "stderr",
     "output_type": "stream",
     "text": [
      "[*********************100%***********************]  1 of 1 completed\n"
     ]
    },
    {
     "name": "stdout",
     "output_type": "stream",
     "text": [
      "=================================\u001b[1m Tool Message \u001b[0m=================================\n",
      "Name: get_financial_metrics\n",
      "\n",
      "{\"pe_ratio\": 26.925, \"price_to_book\": 34.227, \"debt_to_equity\": 12.946, \"profit_margins\": 0.558, \"return_on_equity\": 1.192, \"return_on_assets\": 0.574, \"current_ratio\": 4.44, \"quick_ratio\": 3.672, \"gross_margins\": 0.75, \"operating_margins\": 0.611}\n",
      "==================================\u001b[1m Ai Message \u001b[0m==================================\n",
      "\n",
      "\"stock\": \"NVDA\",\n",
      "\"price_analysis\": \"Unable to retrieve recent stock price movements and trends due to data fetching error. Therefore, assessment of potential resistance and key trends cannot be provided.\",\n",
      "\"technical_analysis\": \"Technical indicators could not be retrieved due to data fetching error, thus analysis on overbought or oversold conditions is not available.\",\n",
      "\"financial_analysis\": \"NVIDIA Corp's financial metrics indicate a P/E ratio of 26.925, suggesting a moderate valuation relative to earnings. The price-to-book ratio stands at 34.227, indicating the stock may be overvalued concerning its book value. The company's debt-to-equity ratio is relatively low at 12.946, signaling a strong balance sheet with minimal leverage. Profit margins are high at 55.8%, indicating efficient management and strong demand for their products. The return on equity is 119.2% and return on assets is 57.4%, suggesting effective use of equity and assets to generate profits. Additionally, the current ratio of 4.44 and quick ratio of 3.672 reflect robust liquidity.\",\n",
      "\"final Summary\": \"Due to the inability to fetch stock price data and technical indicators, a complete analysis of the potential buying decision for NVDA cannot be made. However, the financial metrics indicate a strong financial position with high profit margins and low debt levels. While the P/E ratio suggests a moderate valuation, the elevated price-to-book ratio may indicate overvaluation. Investors should consider these financial strengths alongside the missing technical analysis before making a buying decision.\",\n",
      "\"Asked Question Answer\": \"A definitive answer on whether to buy NVDA cannot be provided due to missing stock price data and technical indicators. However, financial metrics indicate a strong company performance.\"\n"
     ]
    }
   ],
   "source": [
    "events = graph.stream({'messages':[('user', 'Should I buy this stock?')],\n",
    " 'stock': 'NVIDIA Corp'}, stream_mode='values')\n",
    "for event in events:\n",
    "    if 'messages' in event:\n",
    "        event['messages'][-1].pretty_print()"
   ]
  },
  {
   "cell_type": "code",
   "execution_count": 8,
   "metadata": {},
   "outputs": [
    {
     "name": "stdout",
     "output_type": "stream",
     "text": [
      "Stock: NVIDIA Corp\n",
      "================================\u001b[1m Human Message \u001b[0m=================================\n",
      "\n",
      "Should I buy this stock?\n"
     ]
    },
    {
     "ename": "KeyError",
     "evalue": "'\\n  \"stock\"'",
     "output_type": "error",
     "traceback": [
      "\u001b[31m---------------------------------------------------------------------------\u001b[39m",
      "\u001b[31mKeyError\u001b[39m                                  Traceback (most recent call last)",
      "\u001b[36mCell\u001b[39m\u001b[36m \u001b[39m\u001b[32mIn[8]\u001b[39m\u001b[32m, line 3\u001b[39m\n\u001b[32m      1\u001b[39m events = graph.stream({\u001b[33m'\u001b[39m\u001b[33mmessages\u001b[39m\u001b[33m'\u001b[39m: [(\u001b[33m'\u001b[39m\u001b[33muser\u001b[39m\u001b[33m'\u001b[39m, \u001b[33m'\u001b[39m\u001b[33mShould I buy this stock?\u001b[39m\u001b[33m'\u001b[39m)], \u001b[33m'\u001b[39m\u001b[33mstock\u001b[39m\u001b[33m'\u001b[39m: \u001b[33m'\u001b[39m\u001b[33mNVIDIA Corp\u001b[39m\u001b[33m'\u001b[39m}, stream_mode=\u001b[33m'\u001b[39m\u001b[33mvalues\u001b[39m\u001b[33m'\u001b[39m)\n\u001b[32m----> \u001b[39m\u001b[32m3\u001b[39m \u001b[38;5;28;43;01mfor\u001b[39;49;00m\u001b[43m \u001b[49m\u001b[43mevent\u001b[49m\u001b[43m \u001b[49m\u001b[38;5;129;43;01min\u001b[39;49;00m\u001b[43m \u001b[49m\u001b[43mevents\u001b[49m\u001b[43m:\u001b[49m\n\u001b[32m      4\u001b[39m \u001b[43m    \u001b[49m\u001b[38;5;28;43;01mif\u001b[39;49;00m\u001b[43m \u001b[49m\u001b[33;43m'\u001b[39;49m\u001b[33;43mmessages\u001b[39;49m\u001b[33;43m'\u001b[39;49m\u001b[43m \u001b[49m\u001b[38;5;129;43;01min\u001b[39;49;00m\u001b[43m \u001b[49m\u001b[43mevent\u001b[49m\u001b[43m:\u001b[49m\n\u001b[32m      5\u001b[39m \u001b[43m        \u001b[49m\u001b[43mlast_message\u001b[49m\u001b[43m \u001b[49m\u001b[43m=\u001b[49m\u001b[43m \u001b[49m\u001b[43mevent\u001b[49m\u001b[43m[\u001b[49m\u001b[33;43m'\u001b[39;49m\u001b[33;43mmessages\u001b[39;49m\u001b[33;43m'\u001b[39;49m\u001b[43m]\u001b[49m\u001b[43m[\u001b[49m\u001b[43m-\u001b[49m\u001b[32;43m1\u001b[39;49m\u001b[43m]\u001b[49m\n",
      "\u001b[36mFile \u001b[39m\u001b[32mc:\\Users\\44787\\anaconda3\\envs\\agent\\Lib\\site-packages\\langgraph\\pregel\\__init__.py:2356\u001b[39m, in \u001b[36mPregel.stream\u001b[39m\u001b[34m(self, input, config, stream_mode, output_keys, interrupt_before, interrupt_after, checkpoint_during, debug, subgraphs)\u001b[39m\n\u001b[32m   2350\u001b[39m     \u001b[38;5;66;03m# Similarly to Bulk Synchronous Parallel / Pregel model\u001b[39;00m\n\u001b[32m   2351\u001b[39m     \u001b[38;5;66;03m# computation proceeds in steps, while there are channel updates.\u001b[39;00m\n\u001b[32m   2352\u001b[39m     \u001b[38;5;66;03m# Channel updates from step N are only visible in step N+1\u001b[39;00m\n\u001b[32m   2353\u001b[39m     \u001b[38;5;66;03m# channels are guaranteed to be immutable for the duration of the step,\u001b[39;00m\n\u001b[32m   2354\u001b[39m     \u001b[38;5;66;03m# with channel updates applied only at the transition between steps.\u001b[39;00m\n\u001b[32m   2355\u001b[39m     \u001b[38;5;28;01mwhile\u001b[39;00m loop.tick(input_keys=\u001b[38;5;28mself\u001b[39m.input_channels):\n\u001b[32m-> \u001b[39m\u001b[32m2356\u001b[39m \u001b[43m        \u001b[49m\u001b[38;5;28;43;01mfor\u001b[39;49;00m\u001b[43m \u001b[49m\u001b[43m_\u001b[49m\u001b[43m \u001b[49m\u001b[38;5;129;43;01min\u001b[39;49;00m\u001b[43m \u001b[49m\u001b[43mrunner\u001b[49m\u001b[43m.\u001b[49m\u001b[43mtick\u001b[49m\u001b[43m(\u001b[49m\n\u001b[32m   2357\u001b[39m \u001b[43m            \u001b[49m\u001b[43mloop\u001b[49m\u001b[43m.\u001b[49m\u001b[43mtasks\u001b[49m\u001b[43m.\u001b[49m\u001b[43mvalues\u001b[49m\u001b[43m(\u001b[49m\u001b[43m)\u001b[49m\u001b[43m,\u001b[49m\n\u001b[32m   2358\u001b[39m \u001b[43m            \u001b[49m\u001b[43mtimeout\u001b[49m\u001b[43m=\u001b[49m\u001b[38;5;28;43mself\u001b[39;49m\u001b[43m.\u001b[49m\u001b[43mstep_timeout\u001b[49m\u001b[43m,\u001b[49m\n\u001b[32m   2359\u001b[39m \u001b[43m            \u001b[49m\u001b[43mretry_policy\u001b[49m\u001b[43m=\u001b[49m\u001b[38;5;28;43mself\u001b[39;49m\u001b[43m.\u001b[49m\u001b[43mretry_policy\u001b[49m\u001b[43m,\u001b[49m\n\u001b[32m   2360\u001b[39m \u001b[43m            \u001b[49m\u001b[43mget_waiter\u001b[49m\u001b[43m=\u001b[49m\u001b[43mget_waiter\u001b[49m\u001b[43m,\u001b[49m\n\u001b[32m   2361\u001b[39m \u001b[43m        \u001b[49m\u001b[43m)\u001b[49m\u001b[43m:\u001b[49m\n\u001b[32m   2362\u001b[39m \u001b[43m            \u001b[49m\u001b[38;5;66;43;03m# emit output\u001b[39;49;00m\n\u001b[32m   2363\u001b[39m \u001b[43m            \u001b[49m\u001b[38;5;28;43;01myield from\u001b[39;49;00m\u001b[43m \u001b[49m\u001b[43moutput\u001b[49m\u001b[43m(\u001b[49m\u001b[43m)\u001b[49m\n\u001b[32m   2364\u001b[39m \u001b[38;5;66;03m# emit output\u001b[39;00m\n",
      "\u001b[36mFile \u001b[39m\u001b[32mc:\\Users\\44787\\anaconda3\\envs\\agent\\Lib\\site-packages\\langgraph\\pregel\\runner.py:158\u001b[39m, in \u001b[36mPregelRunner.tick\u001b[39m\u001b[34m(self, tasks, reraise, timeout, retry_policy, get_waiter)\u001b[39m\n\u001b[32m    156\u001b[39m t = tasks[\u001b[32m0\u001b[39m]\n\u001b[32m    157\u001b[39m \u001b[38;5;28;01mtry\u001b[39;00m:\n\u001b[32m--> \u001b[39m\u001b[32m158\u001b[39m     \u001b[43mrun_with_retry\u001b[49m\u001b[43m(\u001b[49m\n\u001b[32m    159\u001b[39m \u001b[43m        \u001b[49m\u001b[43mt\u001b[49m\u001b[43m,\u001b[49m\n\u001b[32m    160\u001b[39m \u001b[43m        \u001b[49m\u001b[43mretry_policy\u001b[49m\u001b[43m,\u001b[49m\n\u001b[32m    161\u001b[39m \u001b[43m        \u001b[49m\u001b[43mconfigurable\u001b[49m\u001b[43m=\u001b[49m\u001b[43m{\u001b[49m\n\u001b[32m    162\u001b[39m \u001b[43m            \u001b[49m\u001b[43mCONFIG_KEY_CALL\u001b[49m\u001b[43m:\u001b[49m\u001b[43m \u001b[49m\u001b[43mpartial\u001b[49m\u001b[43m(\u001b[49m\n\u001b[32m    163\u001b[39m \u001b[43m                \u001b[49m\u001b[43m_call\u001b[49m\u001b[43m,\u001b[49m\n\u001b[32m    164\u001b[39m \u001b[43m                \u001b[49m\u001b[43mweakref\u001b[49m\u001b[43m.\u001b[49m\u001b[43mref\u001b[49m\u001b[43m(\u001b[49m\u001b[43mt\u001b[49m\u001b[43m)\u001b[49m\u001b[43m,\u001b[49m\n\u001b[32m    165\u001b[39m \u001b[43m                \u001b[49m\u001b[43mretry\u001b[49m\u001b[43m=\u001b[49m\u001b[43mretry_policy\u001b[49m\u001b[43m,\u001b[49m\n\u001b[32m    166\u001b[39m \u001b[43m                \u001b[49m\u001b[43mfutures\u001b[49m\u001b[43m=\u001b[49m\u001b[43mweakref\u001b[49m\u001b[43m.\u001b[49m\u001b[43mref\u001b[49m\u001b[43m(\u001b[49m\u001b[43mfutures\u001b[49m\u001b[43m)\u001b[49m\u001b[43m,\u001b[49m\n\u001b[32m    167\u001b[39m \u001b[43m                \u001b[49m\u001b[43mschedule_task\u001b[49m\u001b[43m=\u001b[49m\u001b[38;5;28;43mself\u001b[39;49m\u001b[43m.\u001b[49m\u001b[43mschedule_task\u001b[49m\u001b[43m,\u001b[49m\n\u001b[32m    168\u001b[39m \u001b[43m                \u001b[49m\u001b[43msubmit\u001b[49m\u001b[43m=\u001b[49m\u001b[38;5;28;43mself\u001b[39;49m\u001b[43m.\u001b[49m\u001b[43msubmit\u001b[49m\u001b[43m,\u001b[49m\n\u001b[32m    169\u001b[39m \u001b[43m                \u001b[49m\u001b[43mreraise\u001b[49m\u001b[43m=\u001b[49m\u001b[43mreraise\u001b[49m\u001b[43m,\u001b[49m\n\u001b[32m    170\u001b[39m \u001b[43m            \u001b[49m\u001b[43m)\u001b[49m\u001b[43m,\u001b[49m\n\u001b[32m    171\u001b[39m \u001b[43m        \u001b[49m\u001b[43m}\u001b[49m\u001b[43m,\u001b[49m\n\u001b[32m    172\u001b[39m \u001b[43m    \u001b[49m\u001b[43m)\u001b[49m\n\u001b[32m    173\u001b[39m     \u001b[38;5;28mself\u001b[39m.commit(t, \u001b[38;5;28;01mNone\u001b[39;00m)\n\u001b[32m    174\u001b[39m \u001b[38;5;28;01mexcept\u001b[39;00m \u001b[38;5;167;01mException\u001b[39;00m \u001b[38;5;28;01mas\u001b[39;00m exc:\n",
      "\u001b[36mFile \u001b[39m\u001b[32mc:\\Users\\44787\\anaconda3\\envs\\agent\\Lib\\site-packages\\langgraph\\pregel\\retry.py:39\u001b[39m, in \u001b[36mrun_with_retry\u001b[39m\u001b[34m(task, retry_policy, configurable)\u001b[39m\n\u001b[32m     37\u001b[39m     task.writes.clear()\n\u001b[32m     38\u001b[39m     \u001b[38;5;66;03m# run the task\u001b[39;00m\n\u001b[32m---> \u001b[39m\u001b[32m39\u001b[39m     \u001b[38;5;28;01mreturn\u001b[39;00m \u001b[43mtask\u001b[49m\u001b[43m.\u001b[49m\u001b[43mproc\u001b[49m\u001b[43m.\u001b[49m\u001b[43minvoke\u001b[49m\u001b[43m(\u001b[49m\u001b[43mtask\u001b[49m\u001b[43m.\u001b[49m\u001b[43minput\u001b[49m\u001b[43m,\u001b[49m\u001b[43m \u001b[49m\u001b[43mconfig\u001b[49m\u001b[43m)\u001b[49m\n\u001b[32m     40\u001b[39m \u001b[38;5;28;01mexcept\u001b[39;00m ParentCommand \u001b[38;5;28;01mas\u001b[39;00m exc:\n\u001b[32m     41\u001b[39m     ns: \u001b[38;5;28mstr\u001b[39m = config[CONF][CONFIG_KEY_CHECKPOINT_NS]\n",
      "\u001b[36mFile \u001b[39m\u001b[32mc:\\Users\\44787\\anaconda3\\envs\\agent\\Lib\\site-packages\\langgraph\\utils\\runnable.py:622\u001b[39m, in \u001b[36mRunnableSeq.invoke\u001b[39m\u001b[34m(self, input, config, **kwargs)\u001b[39m\n\u001b[32m    620\u001b[39m     \u001b[38;5;66;03m# run in context\u001b[39;00m\n\u001b[32m    621\u001b[39m     \u001b[38;5;28;01mwith\u001b[39;00m set_config_context(config, run) \u001b[38;5;28;01mas\u001b[39;00m context:\n\u001b[32m--> \u001b[39m\u001b[32m622\u001b[39m         \u001b[38;5;28minput\u001b[39m = \u001b[43mcontext\u001b[49m\u001b[43m.\u001b[49m\u001b[43mrun\u001b[49m\u001b[43m(\u001b[49m\u001b[43mstep\u001b[49m\u001b[43m.\u001b[49m\u001b[43minvoke\u001b[49m\u001b[43m,\u001b[49m\u001b[43m \u001b[49m\u001b[38;5;28;43minput\u001b[39;49m\u001b[43m,\u001b[49m\u001b[43m \u001b[49m\u001b[43mconfig\u001b[49m\u001b[43m,\u001b[49m\u001b[43m \u001b[49m\u001b[43m*\u001b[49m\u001b[43m*\u001b[49m\u001b[43mkwargs\u001b[49m\u001b[43m)\u001b[49m\n\u001b[32m    623\u001b[39m \u001b[38;5;28;01melse\u001b[39;00m:\n\u001b[32m    624\u001b[39m     \u001b[38;5;28minput\u001b[39m = step.invoke(\u001b[38;5;28minput\u001b[39m, config)\n",
      "\u001b[36mFile \u001b[39m\u001b[32mc:\\Users\\44787\\anaconda3\\envs\\agent\\Lib\\site-packages\\langgraph\\utils\\runnable.py:376\u001b[39m, in \u001b[36mRunnableCallable.invoke\u001b[39m\u001b[34m(self, input, config, **kwargs)\u001b[39m\n\u001b[32m    374\u001b[39m         run_manager.on_chain_end(ret)\n\u001b[32m    375\u001b[39m \u001b[38;5;28;01melse\u001b[39;00m:\n\u001b[32m--> \u001b[39m\u001b[32m376\u001b[39m     ret = \u001b[38;5;28;43mself\u001b[39;49m\u001b[43m.\u001b[49m\u001b[43mfunc\u001b[49m\u001b[43m(\u001b[49m\u001b[43m*\u001b[49m\u001b[43margs\u001b[49m\u001b[43m,\u001b[49m\u001b[43m \u001b[49m\u001b[43m*\u001b[49m\u001b[43m*\u001b[49m\u001b[43mkwargs\u001b[49m\u001b[43m)\u001b[49m\n\u001b[32m    377\u001b[39m \u001b[38;5;28;01mif\u001b[39;00m \u001b[38;5;28mself\u001b[39m.recurse \u001b[38;5;129;01mand\u001b[39;00m \u001b[38;5;28misinstance\u001b[39m(ret, Runnable):\n\u001b[32m    378\u001b[39m     \u001b[38;5;28;01mreturn\u001b[39;00m ret.invoke(\u001b[38;5;28minput\u001b[39m, config)\n",
      "\u001b[36mCell\u001b[39m\u001b[36m \u001b[39m\u001b[32mIn[5]\u001b[39m\u001b[32m, line 73\u001b[39m, in \u001b[36mfundamental_analyst\u001b[39m\u001b[34m(state)\u001b[39m\n\u001b[32m     69\u001b[39m \u001b[38;5;28;01mif\u001b[39;00m \u001b[38;5;129;01mnot\u001b[39;00m stock_symbol:\n\u001b[32m     70\u001b[39m     \u001b[38;5;28;01mreturn\u001b[39;00m {\u001b[33m'\u001b[39m\u001b[33merror\u001b[39m\u001b[33m'\u001b[39m: \u001b[33m'\u001b[39m\u001b[33mStock symbol is missing or improperly formatted.\u001b[39m\u001b[33m'\u001b[39m}\n\u001b[32m     72\u001b[39m messages = [\n\u001b[32m---> \u001b[39m\u001b[32m73\u001b[39m     SystemMessage(content=\u001b[43mFUNDAMENTAL_ANALYST_PROMPT\u001b[49m\u001b[43m.\u001b[49m\u001b[43mformat\u001b[49m\u001b[43m(\u001b[49m\u001b[43mcompany\u001b[49m\u001b[43m=\u001b[49m\u001b[43mstock_symbol\u001b[49m\u001b[43m)\u001b[49m),\n\u001b[32m     74\u001b[39m ]  + (state.get(\u001b[33m'\u001b[39m\u001b[33mmessages\u001b[39m\u001b[33m'\u001b[39m, []))\n\u001b[32m     76\u001b[39m \u001b[38;5;28;01mreturn\u001b[39;00m {\n\u001b[32m     77\u001b[39m     \u001b[33m'\u001b[39m\u001b[33mmessages\u001b[39m\u001b[33m'\u001b[39m: llm_with_tool.invoke(messages)\n\u001b[32m     78\u001b[39m }\n",
      "\u001b[31mKeyError\u001b[39m: '\\n  \"stock\"'",
      "During task with name 'fundamental_analyst' and id '243eaae3-5937-c176-80e9-be2b816ed22e'"
     ]
    }
   ],
   "source": [
    "events = graph.stream({'messages': [('user', 'Should I buy this stock?')], 'stock': 'NVIDIA Corp'}, stream_mode='values')\n",
    "\n",
    "for event in events:\n",
    "    if 'messages' in event:\n",
    "        last_message = event['messages'][-1]\n",
    "        \n",
    "        # Ensure that the 'stock' key is correctly formatted\n",
    "        stock_value = event.get('stock', '').strip()\n",
    "        \n",
    "        if stock_value:  # Check if stock symbol is valid\n",
    "            print(f\"Stock: {stock_value}\")\n",
    "        else:\n",
    "            print(\"Stock symbol is missing or improperly formatted.\")\n",
    "        \n",
    "        # Now handle the message part\n",
    "        if hasattr(last_message, 'pretty_print'):\n",
    "            last_message.pretty_print()\n",
    "        else:\n",
    "            print(last_message)\n"
   ]
  },
  {
   "cell_type": "markdown",
   "metadata": {},
   "source": [
    "### "
   ]
  },
  {
   "cell_type": "markdown",
   "metadata": {},
   "source": [
    "2. ### "
   ]
  },
  {
   "cell_type": "code",
   "execution_count": null,
   "metadata": {},
   "outputs": [],
   "source": []
  },
  {
   "cell_type": "code",
   "execution_count": null,
   "metadata": {},
   "outputs": [],
   "source": []
  }
 ],
 "metadata": {
  "kernelspec": {
   "display_name": "agent",
   "language": "python",
   "name": "python3"
  },
  "language_info": {
   "codemirror_mode": {
    "name": "ipython",
    "version": 3
   },
   "file_extension": ".py",
   "mimetype": "text/x-python",
   "name": "python",
   "nbconvert_exporter": "python",
   "pygments_lexer": "ipython3",
   "version": "3.13.2"
  }
 },
 "nbformat": 4,
 "nbformat_minor": 2
}
